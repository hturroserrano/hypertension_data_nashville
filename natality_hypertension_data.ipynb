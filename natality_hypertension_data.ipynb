{
  "cells": [
    {
      "cell_type": "markdown",
      "metadata": {
        "id": "view-in-github",
        "colab_type": "text"
      },
      "source": [
        "<a href=\"https://colab.research.google.com/github/hturroserrano/hypertension_data_nashville/blob/main/natality_hypertension_data.ipynb\" target=\"_parent\"><img src=\"https://colab.research.google.com/assets/colab-badge.svg\" alt=\"Open In Colab\"/></a>"
      ]
    },
    {
      "cell_type": "code",
      "source": [
        "import numpy as np\n",
        "import pandas as pd\n",
        "import seaborn as sns\n",
        "import matplotlib as mpl\n",
        "from matplotlib import pyplot as plt"
      ],
      "metadata": {
        "id": "qAaKe6_CpPGC"
      },
      "execution_count": null,
      "outputs": []
    },
    {
      "cell_type": "code",
      "source": [
        "natalityurl = 'https://raw.githubusercontent.com/CDavisBelmont/SurveyData/main/natality_indicators_all_17_21.csv'"
      ],
      "metadata": {
        "id": "FrYSyiOhpT_i"
      },
      "execution_count": null,
      "outputs": []
    },
    {
      "cell_type": "code",
      "source": [
        "df = pd.read_csv(natalityurl)"
      ],
      "metadata": {
        "id": "WFrsXtv7pZmo"
      },
      "execution_count": null,
      "outputs": []
    },
    {
      "cell_type": "code",
      "source": [
        "df.head()"
      ],
      "metadata": {
        "colab": {
          "base_uri": "https://localhost:8080/",
          "height": 204
        },
        "id": "xHJSCmqNpf_y",
        "outputId": "1db72d5d-9f28-485c-bfb5-5f6611b9b7e3"
      },
      "execution_count": null,
      "outputs": [
        {
          "output_type": "execute_result",
          "data": {
            "text/plain": [
              "   year_code           county indicator_display_name births  county_code  \\\n",
              "0       2017  Knox County, TN                    TBD   5211        47093   \n",
              "1       2018  Knox County, TN                    TBD   5156        47093   \n",
              "2       2019  Knox County, TN                    TBD   5125        47093   \n",
              "3       2020  Knox County, TN                    TBD   5079        47093   \n",
              "4       2017  Knox County, TN                    TBD    259        47093   \n",
              "\n",
              "   year  notes         indicator_name  \n",
              "0  2017    NaN               natality  \n",
              "1  2018    NaN               natality  \n",
              "2  2019    NaN               natality  \n",
              "3  2020    NaN               natality  \n",
              "4  2017    NaN  natality_hypertensive  "
            ],
            "text/html": [
              "\n",
              "  <div id=\"df-3650e129-520b-4cda-9a38-acde690d4b61\">\n",
              "    <div class=\"colab-df-container\">\n",
              "      <div>\n",
              "<style scoped>\n",
              "    .dataframe tbody tr th:only-of-type {\n",
              "        vertical-align: middle;\n",
              "    }\n",
              "\n",
              "    .dataframe tbody tr th {\n",
              "        vertical-align: top;\n",
              "    }\n",
              "\n",
              "    .dataframe thead th {\n",
              "        text-align: right;\n",
              "    }\n",
              "</style>\n",
              "<table border=\"1\" class=\"dataframe\">\n",
              "  <thead>\n",
              "    <tr style=\"text-align: right;\">\n",
              "      <th></th>\n",
              "      <th>year_code</th>\n",
              "      <th>county</th>\n",
              "      <th>indicator_display_name</th>\n",
              "      <th>births</th>\n",
              "      <th>county_code</th>\n",
              "      <th>year</th>\n",
              "      <th>notes</th>\n",
              "      <th>indicator_name</th>\n",
              "    </tr>\n",
              "  </thead>\n",
              "  <tbody>\n",
              "    <tr>\n",
              "      <th>0</th>\n",
              "      <td>2017</td>\n",
              "      <td>Knox County, TN</td>\n",
              "      <td>TBD</td>\n",
              "      <td>5211</td>\n",
              "      <td>47093</td>\n",
              "      <td>2017</td>\n",
              "      <td>NaN</td>\n",
              "      <td>natality</td>\n",
              "    </tr>\n",
              "    <tr>\n",
              "      <th>1</th>\n",
              "      <td>2018</td>\n",
              "      <td>Knox County, TN</td>\n",
              "      <td>TBD</td>\n",
              "      <td>5156</td>\n",
              "      <td>47093</td>\n",
              "      <td>2018</td>\n",
              "      <td>NaN</td>\n",
              "      <td>natality</td>\n",
              "    </tr>\n",
              "    <tr>\n",
              "      <th>2</th>\n",
              "      <td>2019</td>\n",
              "      <td>Knox County, TN</td>\n",
              "      <td>TBD</td>\n",
              "      <td>5125</td>\n",
              "      <td>47093</td>\n",
              "      <td>2019</td>\n",
              "      <td>NaN</td>\n",
              "      <td>natality</td>\n",
              "    </tr>\n",
              "    <tr>\n",
              "      <th>3</th>\n",
              "      <td>2020</td>\n",
              "      <td>Knox County, TN</td>\n",
              "      <td>TBD</td>\n",
              "      <td>5079</td>\n",
              "      <td>47093</td>\n",
              "      <td>2020</td>\n",
              "      <td>NaN</td>\n",
              "      <td>natality</td>\n",
              "    </tr>\n",
              "    <tr>\n",
              "      <th>4</th>\n",
              "      <td>2017</td>\n",
              "      <td>Knox County, TN</td>\n",
              "      <td>TBD</td>\n",
              "      <td>259</td>\n",
              "      <td>47093</td>\n",
              "      <td>2017</td>\n",
              "      <td>NaN</td>\n",
              "      <td>natality_hypertensive</td>\n",
              "    </tr>\n",
              "  </tbody>\n",
              "</table>\n",
              "</div>\n",
              "      <button class=\"colab-df-convert\" onclick=\"convertToInteractive('df-3650e129-520b-4cda-9a38-acde690d4b61')\"\n",
              "              title=\"Convert this dataframe to an interactive table.\"\n",
              "              style=\"display:none;\">\n",
              "        \n",
              "  <svg xmlns=\"http://www.w3.org/2000/svg\" height=\"24px\"viewBox=\"0 0 24 24\"\n",
              "       width=\"24px\">\n",
              "    <path d=\"M0 0h24v24H0V0z\" fill=\"none\"/>\n",
              "    <path d=\"M18.56 5.44l.94 2.06.94-2.06 2.06-.94-2.06-.94-.94-2.06-.94 2.06-2.06.94zm-11 1L8.5 8.5l.94-2.06 2.06-.94-2.06-.94L8.5 2.5l-.94 2.06-2.06.94zm10 10l.94 2.06.94-2.06 2.06-.94-2.06-.94-.94-2.06-.94 2.06-2.06.94z\"/><path d=\"M17.41 7.96l-1.37-1.37c-.4-.4-.92-.59-1.43-.59-.52 0-1.04.2-1.43.59L10.3 9.45l-7.72 7.72c-.78.78-.78 2.05 0 2.83L4 21.41c.39.39.9.59 1.41.59.51 0 1.02-.2 1.41-.59l7.78-7.78 2.81-2.81c.8-.78.8-2.07 0-2.86zM5.41 20L4 18.59l7.72-7.72 1.47 1.35L5.41 20z\"/>\n",
              "  </svg>\n",
              "      </button>\n",
              "      \n",
              "  <style>\n",
              "    .colab-df-container {\n",
              "      display:flex;\n",
              "      flex-wrap:wrap;\n",
              "      gap: 12px;\n",
              "    }\n",
              "\n",
              "    .colab-df-convert {\n",
              "      background-color: #E8F0FE;\n",
              "      border: none;\n",
              "      border-radius: 50%;\n",
              "      cursor: pointer;\n",
              "      display: none;\n",
              "      fill: #1967D2;\n",
              "      height: 32px;\n",
              "      padding: 0 0 0 0;\n",
              "      width: 32px;\n",
              "    }\n",
              "\n",
              "    .colab-df-convert:hover {\n",
              "      background-color: #E2EBFA;\n",
              "      box-shadow: 0px 1px 2px rgba(60, 64, 67, 0.3), 0px 1px 3px 1px rgba(60, 64, 67, 0.15);\n",
              "      fill: #174EA6;\n",
              "    }\n",
              "\n",
              "    [theme=dark] .colab-df-convert {\n",
              "      background-color: #3B4455;\n",
              "      fill: #D2E3FC;\n",
              "    }\n",
              "\n",
              "    [theme=dark] .colab-df-convert:hover {\n",
              "      background-color: #434B5C;\n",
              "      box-shadow: 0px 1px 3px 1px rgba(0, 0, 0, 0.15);\n",
              "      filter: drop-shadow(0px 1px 2px rgba(0, 0, 0, 0.3));\n",
              "      fill: #FFFFFF;\n",
              "    }\n",
              "  </style>\n",
              "\n",
              "      <script>\n",
              "        const buttonEl =\n",
              "          document.querySelector('#df-3650e129-520b-4cda-9a38-acde690d4b61 button.colab-df-convert');\n",
              "        buttonEl.style.display =\n",
              "          google.colab.kernel.accessAllowed ? 'block' : 'none';\n",
              "\n",
              "        async function convertToInteractive(key) {\n",
              "          const element = document.querySelector('#df-3650e129-520b-4cda-9a38-acde690d4b61');\n",
              "          const dataTable =\n",
              "            await google.colab.kernel.invokeFunction('convertToInteractive',\n",
              "                                                     [key], {});\n",
              "          if (!dataTable) return;\n",
              "\n",
              "          const docLinkHtml = 'Like what you see? Visit the ' +\n",
              "            '<a target=\"_blank\" href=https://colab.research.google.com/notebooks/data_table.ipynb>data table notebook</a>'\n",
              "            + ' to learn more about interactive tables.';\n",
              "          element.innerHTML = '';\n",
              "          dataTable['output_type'] = 'display_data';\n",
              "          await google.colab.output.renderOutput(dataTable, element);\n",
              "          const docLink = document.createElement('div');\n",
              "          docLink.innerHTML = docLinkHtml;\n",
              "          element.appendChild(docLink);\n",
              "        }\n",
              "      </script>\n",
              "    </div>\n",
              "  </div>\n",
              "  "
            ]
          },
          "metadata": {},
          "execution_count": 4
        }
      ]
    },
    {
      "cell_type": "code",
      "source": [
        "df"
      ],
      "metadata": {
        "colab": {
          "base_uri": "https://localhost:8080/",
          "height": 419
        },
        "id": "t-GaONaXpiEk",
        "outputId": "d21fe0f6-b9fa-4081-d34f-f6b3ab74e110"
      },
      "execution_count": null,
      "outputs": [
        {
          "output_type": "execute_result",
          "data": {
            "text/plain": [
              "     year_code                     county indicator_display_name births  \\\n",
              "0         2017            Knox County, TN                    TBD   5211   \n",
              "1         2018            Knox County, TN                    TBD   5156   \n",
              "2         2019            Knox County, TN                    TBD   5125   \n",
              "3         2020            Knox County, TN                    TBD   5079   \n",
              "4         2017            Knox County, TN                    TBD    259   \n",
              "..         ...                        ...                    ...    ...   \n",
              "411       2020  Unidentified Counties, TN                    TBD     43   \n",
              "412       2017  Unidentified Counties, TN                    TBD    837   \n",
              "413       2018  Unidentified Counties, TN                    TBD    899   \n",
              "414       2019  Unidentified Counties, TN                    TBD    992   \n",
              "415       2020  Unidentified Counties, TN                    TBD    976   \n",
              "\n",
              "     county_code  year  notes                  indicator_name  \n",
              "0          47093  2017    NaN                        natality  \n",
              "1          47093  2018    NaN                        natality  \n",
              "2          47093  2019    NaN                        natality  \n",
              "3          47093  2020    NaN                        natality  \n",
              "4          47093  2017    NaN           natality_hypertensive  \n",
              "..           ...   ...    ...                             ...  \n",
              "411        47999  2020    NaN  natality_hispanic_hypertensive  \n",
              "412        47999  2017    NaN     natality_white_hypertensive  \n",
              "413        47999  2018    NaN     natality_white_hypertensive  \n",
              "414        47999  2019    NaN     natality_white_hypertensive  \n",
              "415        47999  2020    NaN     natality_white_hypertensive  \n",
              "\n",
              "[416 rows x 8 columns]"
            ],
            "text/html": [
              "\n",
              "  <div id=\"df-a11541fb-0e21-4429-9cdf-a9d0c4d891f0\">\n",
              "    <div class=\"colab-df-container\">\n",
              "      <div>\n",
              "<style scoped>\n",
              "    .dataframe tbody tr th:only-of-type {\n",
              "        vertical-align: middle;\n",
              "    }\n",
              "\n",
              "    .dataframe tbody tr th {\n",
              "        vertical-align: top;\n",
              "    }\n",
              "\n",
              "    .dataframe thead th {\n",
              "        text-align: right;\n",
              "    }\n",
              "</style>\n",
              "<table border=\"1\" class=\"dataframe\">\n",
              "  <thead>\n",
              "    <tr style=\"text-align: right;\">\n",
              "      <th></th>\n",
              "      <th>year_code</th>\n",
              "      <th>county</th>\n",
              "      <th>indicator_display_name</th>\n",
              "      <th>births</th>\n",
              "      <th>county_code</th>\n",
              "      <th>year</th>\n",
              "      <th>notes</th>\n",
              "      <th>indicator_name</th>\n",
              "    </tr>\n",
              "  </thead>\n",
              "  <tbody>\n",
              "    <tr>\n",
              "      <th>0</th>\n",
              "      <td>2017</td>\n",
              "      <td>Knox County, TN</td>\n",
              "      <td>TBD</td>\n",
              "      <td>5211</td>\n",
              "      <td>47093</td>\n",
              "      <td>2017</td>\n",
              "      <td>NaN</td>\n",
              "      <td>natality</td>\n",
              "    </tr>\n",
              "    <tr>\n",
              "      <th>1</th>\n",
              "      <td>2018</td>\n",
              "      <td>Knox County, TN</td>\n",
              "      <td>TBD</td>\n",
              "      <td>5156</td>\n",
              "      <td>47093</td>\n",
              "      <td>2018</td>\n",
              "      <td>NaN</td>\n",
              "      <td>natality</td>\n",
              "    </tr>\n",
              "    <tr>\n",
              "      <th>2</th>\n",
              "      <td>2019</td>\n",
              "      <td>Knox County, TN</td>\n",
              "      <td>TBD</td>\n",
              "      <td>5125</td>\n",
              "      <td>47093</td>\n",
              "      <td>2019</td>\n",
              "      <td>NaN</td>\n",
              "      <td>natality</td>\n",
              "    </tr>\n",
              "    <tr>\n",
              "      <th>3</th>\n",
              "      <td>2020</td>\n",
              "      <td>Knox County, TN</td>\n",
              "      <td>TBD</td>\n",
              "      <td>5079</td>\n",
              "      <td>47093</td>\n",
              "      <td>2020</td>\n",
              "      <td>NaN</td>\n",
              "      <td>natality</td>\n",
              "    </tr>\n",
              "    <tr>\n",
              "      <th>4</th>\n",
              "      <td>2017</td>\n",
              "      <td>Knox County, TN</td>\n",
              "      <td>TBD</td>\n",
              "      <td>259</td>\n",
              "      <td>47093</td>\n",
              "      <td>2017</td>\n",
              "      <td>NaN</td>\n",
              "      <td>natality_hypertensive</td>\n",
              "    </tr>\n",
              "    <tr>\n",
              "      <th>...</th>\n",
              "      <td>...</td>\n",
              "      <td>...</td>\n",
              "      <td>...</td>\n",
              "      <td>...</td>\n",
              "      <td>...</td>\n",
              "      <td>...</td>\n",
              "      <td>...</td>\n",
              "      <td>...</td>\n",
              "    </tr>\n",
              "    <tr>\n",
              "      <th>411</th>\n",
              "      <td>2020</td>\n",
              "      <td>Unidentified Counties, TN</td>\n",
              "      <td>TBD</td>\n",
              "      <td>43</td>\n",
              "      <td>47999</td>\n",
              "      <td>2020</td>\n",
              "      <td>NaN</td>\n",
              "      <td>natality_hispanic_hypertensive</td>\n",
              "    </tr>\n",
              "    <tr>\n",
              "      <th>412</th>\n",
              "      <td>2017</td>\n",
              "      <td>Unidentified Counties, TN</td>\n",
              "      <td>TBD</td>\n",
              "      <td>837</td>\n",
              "      <td>47999</td>\n",
              "      <td>2017</td>\n",
              "      <td>NaN</td>\n",
              "      <td>natality_white_hypertensive</td>\n",
              "    </tr>\n",
              "    <tr>\n",
              "      <th>413</th>\n",
              "      <td>2018</td>\n",
              "      <td>Unidentified Counties, TN</td>\n",
              "      <td>TBD</td>\n",
              "      <td>899</td>\n",
              "      <td>47999</td>\n",
              "      <td>2018</td>\n",
              "      <td>NaN</td>\n",
              "      <td>natality_white_hypertensive</td>\n",
              "    </tr>\n",
              "    <tr>\n",
              "      <th>414</th>\n",
              "      <td>2019</td>\n",
              "      <td>Unidentified Counties, TN</td>\n",
              "      <td>TBD</td>\n",
              "      <td>992</td>\n",
              "      <td>47999</td>\n",
              "      <td>2019</td>\n",
              "      <td>NaN</td>\n",
              "      <td>natality_white_hypertensive</td>\n",
              "    </tr>\n",
              "    <tr>\n",
              "      <th>415</th>\n",
              "      <td>2020</td>\n",
              "      <td>Unidentified Counties, TN</td>\n",
              "      <td>TBD</td>\n",
              "      <td>976</td>\n",
              "      <td>47999</td>\n",
              "      <td>2020</td>\n",
              "      <td>NaN</td>\n",
              "      <td>natality_white_hypertensive</td>\n",
              "    </tr>\n",
              "  </tbody>\n",
              "</table>\n",
              "<p>416 rows × 8 columns</p>\n",
              "</div>\n",
              "      <button class=\"colab-df-convert\" onclick=\"convertToInteractive('df-a11541fb-0e21-4429-9cdf-a9d0c4d891f0')\"\n",
              "              title=\"Convert this dataframe to an interactive table.\"\n",
              "              style=\"display:none;\">\n",
              "        \n",
              "  <svg xmlns=\"http://www.w3.org/2000/svg\" height=\"24px\"viewBox=\"0 0 24 24\"\n",
              "       width=\"24px\">\n",
              "    <path d=\"M0 0h24v24H0V0z\" fill=\"none\"/>\n",
              "    <path d=\"M18.56 5.44l.94 2.06.94-2.06 2.06-.94-2.06-.94-.94-2.06-.94 2.06-2.06.94zm-11 1L8.5 8.5l.94-2.06 2.06-.94-2.06-.94L8.5 2.5l-.94 2.06-2.06.94zm10 10l.94 2.06.94-2.06 2.06-.94-2.06-.94-.94-2.06-.94 2.06-2.06.94z\"/><path d=\"M17.41 7.96l-1.37-1.37c-.4-.4-.92-.59-1.43-.59-.52 0-1.04.2-1.43.59L10.3 9.45l-7.72 7.72c-.78.78-.78 2.05 0 2.83L4 21.41c.39.39.9.59 1.41.59.51 0 1.02-.2 1.41-.59l7.78-7.78 2.81-2.81c.8-.78.8-2.07 0-2.86zM5.41 20L4 18.59l7.72-7.72 1.47 1.35L5.41 20z\"/>\n",
              "  </svg>\n",
              "      </button>\n",
              "      \n",
              "  <style>\n",
              "    .colab-df-container {\n",
              "      display:flex;\n",
              "      flex-wrap:wrap;\n",
              "      gap: 12px;\n",
              "    }\n",
              "\n",
              "    .colab-df-convert {\n",
              "      background-color: #E8F0FE;\n",
              "      border: none;\n",
              "      border-radius: 50%;\n",
              "      cursor: pointer;\n",
              "      display: none;\n",
              "      fill: #1967D2;\n",
              "      height: 32px;\n",
              "      padding: 0 0 0 0;\n",
              "      width: 32px;\n",
              "    }\n",
              "\n",
              "    .colab-df-convert:hover {\n",
              "      background-color: #E2EBFA;\n",
              "      box-shadow: 0px 1px 2px rgba(60, 64, 67, 0.3), 0px 1px 3px 1px rgba(60, 64, 67, 0.15);\n",
              "      fill: #174EA6;\n",
              "    }\n",
              "\n",
              "    [theme=dark] .colab-df-convert {\n",
              "      background-color: #3B4455;\n",
              "      fill: #D2E3FC;\n",
              "    }\n",
              "\n",
              "    [theme=dark] .colab-df-convert:hover {\n",
              "      background-color: #434B5C;\n",
              "      box-shadow: 0px 1px 3px 1px rgba(0, 0, 0, 0.15);\n",
              "      filter: drop-shadow(0px 1px 2px rgba(0, 0, 0, 0.3));\n",
              "      fill: #FFFFFF;\n",
              "    }\n",
              "  </style>\n",
              "\n",
              "      <script>\n",
              "        const buttonEl =\n",
              "          document.querySelector('#df-a11541fb-0e21-4429-9cdf-a9d0c4d891f0 button.colab-df-convert');\n",
              "        buttonEl.style.display =\n",
              "          google.colab.kernel.accessAllowed ? 'block' : 'none';\n",
              "\n",
              "        async function convertToInteractive(key) {\n",
              "          const element = document.querySelector('#df-a11541fb-0e21-4429-9cdf-a9d0c4d891f0');\n",
              "          const dataTable =\n",
              "            await google.colab.kernel.invokeFunction('convertToInteractive',\n",
              "                                                     [key], {});\n",
              "          if (!dataTable) return;\n",
              "\n",
              "          const docLinkHtml = 'Like what you see? Visit the ' +\n",
              "            '<a target=\"_blank\" href=https://colab.research.google.com/notebooks/data_table.ipynb>data table notebook</a>'\n",
              "            + ' to learn more about interactive tables.';\n",
              "          element.innerHTML = '';\n",
              "          dataTable['output_type'] = 'display_data';\n",
              "          await google.colab.output.renderOutput(dataTable, element);\n",
              "          const docLink = document.createElement('div');\n",
              "          docLink.innerHTML = docLinkHtml;\n",
              "          element.appendChild(docLink);\n",
              "        }\n",
              "      </script>\n",
              "    </div>\n",
              "  </div>\n",
              "  "
            ]
          },
          "metadata": {},
          "execution_count": 5
        }
      ]
    },
    {
      "cell_type": "code",
      "source": [
        "hyp_county_list = df['county'].unique()"
      ],
      "metadata": {
        "id": "E6OPNhWRpjk6"
      },
      "execution_count": null,
      "outputs": []
    },
    {
      "cell_type": "code",
      "source": [
        "hyp_county_list"
      ],
      "metadata": {
        "colab": {
          "base_uri": "https://localhost:8080/"
        },
        "id": "qoybtQDDqtgC",
        "outputId": "5bec452d-02ff-4ae8-e597-8a82a266322a"
      },
      "execution_count": null,
      "outputs": [
        {
          "output_type": "execute_result",
          "data": {
            "text/plain": [
              "array(['Knox County, TN', 'Blount County, TN', 'Shelby County, TN',\n",
              "       'Sumner County, TN', 'Wilson County, TN', 'Davidson County, TN',\n",
              "       'Hamilton County, TN', 'Sullivan County, TN',\n",
              "       'Montgomery County, TN', 'Rutherford County, TN',\n",
              "       'Washington County, TN', 'Williamson County, TN',\n",
              "       'Unidentified Counties, TN'], dtype=object)"
            ]
          },
          "metadata": {},
          "execution_count": 7
        }
      ]
    },
    {
      "cell_type": "code",
      "source": [
        "fig,ax=plt.subplots(1,1, figsize=(10,5))\n",
        "plt.hist(hyp_county_list, bins = 20)\n",
        "plt.xticks(hyp_county_list, rotation = 30)\n",
        "plt.xlabel(\"Counties\", fontsize = 15)\n",
        "plt.ylabel(\"Counties Repeated\", fontsize = 15)\n",
        "plt.title(\"Hypertension Months Natality Data\", fontsize = 20)"
      ],
      "metadata": {
        "colab": {
          "base_uri": "https://localhost:8080/",
          "height": 439
        },
        "id": "swkKu8bMquup",
        "outputId": "add43376-bc98-4136-d05c-74b1999dbc83"
      },
      "execution_count": null,
      "outputs": [
        {
          "output_type": "execute_result",
          "data": {
            "text/plain": [
              "Text(0.5, 1.0, 'Hypertension Months Natality Data')"
            ]
          },
          "metadata": {},
          "execution_count": 8
        },
        {
          "output_type": "display_data",
          "data": {
            "text/plain": [
              "<Figure size 720x360 with 1 Axes>"
            ],
            "image/png": "[encoded data removed]"
          },
          "metadata": {
            "needs_background": "light"
          }
        }
      ]
    },
    {
      "cell_type": "code",
      "source": [
        "hyp_indicator_name_list = df['indicator_name'].unique()"
      ],
      "metadata": {
        "id": "SAvfQvKBq09Q"
      },
      "execution_count": null,
      "outputs": []
    },
    {
      "cell_type": "code",
      "source": [
        "hyp_indicator_name_list"
      ],
      "metadata": {
        "colab": {
          "base_uri": "https://localhost:8080/"
        },
        "id": "5FZ70OjdrwkZ",
        "outputId": "5697877e-fbc4-450e-b19a-9f9db05fafff"
      },
      "execution_count": null,
      "outputs": [
        {
          "output_type": "execute_result",
          "data": {
            "text/plain": [
              "array(['natality', 'natality_hypertensive', 'natality_black_all',\n",
              "       'natality_black_hypertensive', 'natality_white_all',\n",
              "       'natality_hispanic_all', 'natality_hispanic_hypertensive',\n",
              "       'natality_white_hypertensive'], dtype=object)"
            ]
          },
          "metadata": {},
          "execution_count": 10
        }
      ]
    },
    {
      "cell_type": "code",
      "source": [
        "natality_indicator_counts = np.zeros(len(hyp_indicator_name_list))\n",
        "for i, indicator in enumerate(hyp_indicator_name_list):\n",
        "  natality_indicator_counts[i] = len(df[df['indicator_name']==indicator])"
      ],
      "metadata": {
        "id": "I6fzUHnDsiNz"
      },
      "execution_count": null,
      "outputs": []
    },
    {
      "cell_type": "code",
      "source": [
        "natality_indicator_counts"
      ],
      "metadata": {
        "colab": {
          "base_uri": "https://localhost:8080/"
        },
        "id": "fkWu90WJs-ls",
        "outputId": "566e2a85-4636-46c0-aaf4-7bdc322b595c"
      },
      "execution_count": null,
      "outputs": [
        {
          "output_type": "execute_result",
          "data": {
            "text/plain": [
              "array([52., 52., 52., 52., 52., 52., 52., 52.])"
            ]
          },
          "metadata": {},
          "execution_count": 12
        }
      ]
    },
    {
      "cell_type": "code",
      "source": [
        "#fig,ax=plt.subplots(1,1, figsize=(10,5))\n",
        "#plt.hist(hyp_indicator_name_list, bins = 15)\n",
        "#plt.xticks(hyp_indicator_name_list, rotation = 35)\n",
        "#plt.xlabel(\"Indicator Natality name\", fontsize = 15)\n",
        "#plt.ylabel(\"Natalities Repeated\", fontsize = 15)\n",
        "#plt.title(\"Hypertension Indicator Natality Indicators Natality Data\", fontsize = 20)"
      ],
      "metadata": {
        "id": "EO80XmRJryp9"
      },
      "execution_count": null,
      "outputs": []
    },
    {
      "cell_type": "code",
      "source": [
        "fig,ax=plt.subplots(1,1, figsize=(15,7))\n",
        "plt.bar(hyp_indicator_name_list,natality_indicator_counts)\n",
        "plt.xticks(hyp_indicator_name_list, rotation = 50)\n",
        "plt.xlabel(\"Indicator Natality Names\", fontsize = 15)\n",
        "plt.ylabel(\"\", fontsize = 15)\n",
        "plt.title(\"Hypertension Indicator Names (Natality Data)\", fontsize = 20)"
      ],
      "metadata": {
        "colab": {
          "base_uri": "https://localhost:8080/",
          "height": 601
        },
        "id": "X6eIArl0teue",
        "outputId": "b7b76d41-2890-4f0e-c0a9-8da706417c67"
      },
      "execution_count": null,
      "outputs": [
        {
          "output_type": "execute_result",
          "data": {
            "text/plain": [
              "Text(0.5, 1.0, 'Hypertension Indicator Names (Natality Data)')"
            ]
          },
          "metadata": {},
          "execution_count": 14
        },
        {
          "output_type": "display_data",
          "data": {
            "text/plain": [
              "<Figure size 1080x504 with 1 Axes>"
            ],
            "image/png": "[encoded data removed]"
          },
          "metadata": {
            "needs_background": "light"
          }
        }
      ]
    },
    {
      "cell_type": "code",
      "source": [
        "natality_county_counts = np.zeros(len(hyp_county_list))\n",
        "for i, county in enumerate(hyp_county_list):\n",
        "  natality_county_counts[i] = len(df[df['county']==county])"
      ],
      "metadata": {
        "id": "r6Q7tt3bsBab"
      },
      "execution_count": null,
      "outputs": []
    },
    {
      "cell_type": "code",
      "source": [
        "natality_county_counts"
      ],
      "metadata": {
        "colab": {
          "base_uri": "https://localhost:8080/"
        },
        "id": "Fd1nQzWhudTW",
        "outputId": "f7c34407-2917-4c78-93c1-885e22e00b7d"
      },
      "execution_count": null,
      "outputs": [
        {
          "output_type": "execute_result",
          "data": {
            "text/plain": [
              "array([32., 32., 32., 32., 32., 32., 32., 32., 32., 32., 32., 32., 32.])"
            ]
          },
          "metadata": {},
          "execution_count": 16
        }
      ]
    },
    {
      "cell_type": "code",
      "source": [
        "fig,ax=plt.subplots(1,1, figsize=(15,7))\n",
        "plt.bar(hyp_county_list,natality_county_counts)\n",
        "plt.xticks(hyp_county_list, rotation = 50)\n",
        "plt.xlabel(\"County Names\", fontsize = 15)\n",
        "plt.ylabel(\"\", fontsize = 15)\n",
        "plt.title(\"Hypertension County Names (Natality Data)\", fontsize = 20)"
      ],
      "metadata": {
        "colab": {
          "base_uri": "https://localhost:8080/",
          "height": 580
        },
        "id": "7zEYGP1tugFJ",
        "outputId": "9de4803c-90f9-4e3f-8b50-1d688d1e9ca3"
      },
      "execution_count": null,
      "outputs": [
        {
          "output_type": "execute_result",
          "data": {
            "text/plain": [
              "Text(0.5, 1.0, 'Hypertension County Names (Natality Data)')"
            ]
          },
          "metadata": {},
          "execution_count": 17
        },
        {
          "output_type": "display_data",
          "data": {
            "text/plain": [
              "<Figure size 1080x504 with 1 Axes>"
            ],
            "image/png": "[encoded data removed]"
          },
          "metadata": {
            "needs_background": "light"
          }
        }
      ]
    },
    {
      "cell_type": "code",
      "source": [
        "hyp_birth_list = df['births'].unique()"
      ],
      "metadata": {
        "id": "C3BEZop8un52"
      },
      "execution_count": null,
      "outputs": []
    },
    {
      "cell_type": "code",
      "source": [
        "hyp_birth_list"
      ],
      "metadata": {
        "colab": {
          "base_uri": "https://localhost:8080/"
        },
        "id": "8XGS7O9JwbNw",
        "outputId": "93eb4be3-a381-409c-8202-523027bf8a9f"
      },
      "execution_count": null,
      "outputs": [
        {
          "output_type": "execute_result",
          "data": {
            "text/plain": [
              "array(['5211', '5156', '5125', '5079', '259', '271', '283', '325', '541',\n",
              "       '530', '578', '544', '42', '44', '46', '49', '4060', '3976',\n",
              "       '3910', '3807', '379', '388', '402', '455', '18', '13', '14', '17',\n",
              "       '196', '209', '216', '250', '1220', '1306', '1240', '1289', '57',\n",
              "       '58', '70', '68', '22', '30', '41', '39', 'Suppressed', '1099',\n",
              "       '1144', '1091', '1126', '74', '87', '88', '52', '53', '63',\n",
              "       '13163', '13124', '12806', '12593', '576', '493', '339', '261',\n",
              "       '7783', '7610', '7513', '7251', '483', '421', '258', '189', '3374',\n",
              "       '3425', '3088', '3073', '1447', '1487', '1568', '1682', '20', '55',\n",
              "       '2193', '2150', '2119', '2156', '54', '82', '80', '175', '203',\n",
              "       '188', '202', '16', '12', '1738', '1688', '1637', '1705', '182',\n",
              "       '174', '47', '51', '61', '64', '1567', '1651', '1634', '1627',\n",
              "       '31', '23', '29', '115', '102', '118', '1272', '1334', '1310',\n",
              "       '1235', '113', '120', '116', '165', '26', '28', '21', '10063',\n",
              "       '9984', '10004', '9655', '218', '207', '215', '220', '2698',\n",
              "       '2729', '2606', '2566', '96', '109', '5005', '4885', '4788',\n",
              "       '4468', '1660', '1641', '1906', '2032', '25', '32', '62', '73',\n",
              "       '4235', '4249', '4289', '4220', '72', '90', '957', '921', '969',\n",
              "       '887', '24', '40', '2536', '2594', '2475', '2483', '549', '532',\n",
              "       '611', '619', '36', '1539', '1506', '1475', '1402', '34', '66',\n",
              "       '1425', '1391', '1362', '1279', '50', '43', '3382', '3513', '3492',\n",
              "       '3526', '67', '84', '83', '672', '692', '724', '740', '2074',\n",
              "       '2121', '2048', '2059', '390', '419', '459', '453', '37', '45',\n",
              "       '4030', '4148', '4230', '4092', '124', '107', '119', '132', '674',\n",
              "       '712', '742', '707', '33', '38', '2514', '2551', '2522', '2388',\n",
              "       '595', '660', '710', '76', '56', '77', '1236', '1247', '1221',\n",
              "       '1204', '19', '1045', '1026', '1030', '1014', '98', '86', '2401',\n",
              "       '2322', '2228', '2287', '27', '97', '91', '81', '71', '1938',\n",
              "       '1865', '1782', '1857', '164', '157', '151', '152', '30776',\n",
              "       '30395', '30587', '29559', '1008', '1069', '1152', '1164', '2266',\n",
              "       '2192', '2345', '2232', '105', '95', '93', '121', '25641', '25256',\n",
              "       '25144', '24174', '2069', '2084', '2169', '2260', '837', '899',\n",
              "       '992', '976'], dtype=object)"
            ]
          },
          "metadata": {},
          "execution_count": 19
        }
      ]
    },
    {
      "cell_type": "code",
      "source": [
        "natality_birth_counts = np.zeros(len(hyp_birth_list))\n",
        "for i, birth in enumerate(hyp_birth_list):\n",
        "  natality_birth_counts[i] = len(df[df['births']== birth])"
      ],
      "metadata": {
        "id": "nZXMPcfAwciD"
      },
      "execution_count": null,
      "outputs": []
    },
    {
      "cell_type": "code",
      "source": [
        "natality_birth_counts"
      ],
      "metadata": {
        "colab": {
          "base_uri": "https://localhost:8080/"
        },
        "id": "MbT5_FSrwtgk",
        "outputId": "0f969e81-c288-4b9c-f403-bf4e17e052ad"
      },
      "execution_count": null,
      "outputs": [
        {
          "output_type": "execute_result",
          "data": {
            "text/plain": [
              "array([ 1.,  1.,  1.,  1.,  1.,  1.,  1.,  1.,  1.,  1.,  1.,  2.,  3.,\n",
              "        2.,  2.,  4.,  1.,  1.,  1.,  1.,  1.,  1.,  1.,  1.,  2.,  3.,\n",
              "        3.,  5.,  1.,  1.,  1.,  1.,  1.,  1.,  1.,  1.,  2.,  3.,  3.,\n",
              "        2.,  4.,  1.,  4.,  3., 56.,  1.,  1.,  1.,  1.,  3.,  2.,  2.,\n",
              "        1.,  1.,  2.,  1.,  1.,  1.,  1.,  1.,  1.,  1.,  1.,  1.,  1.,\n",
              "        1.,  1.,  1.,  1.,  1.,  1.,  1.,  1.,  1.,  1.,  1.,  1.,  1.,\n",
              "        1.,  2.,  4.,  1.,  1.,  1.,  1.,  1.,  1.,  2.,  2.,  1.,  1.,\n",
              "        2.,  1.,  1.,  1.,  1.,  1.,  1.,  1.,  1.,  1.,  2.,  2.,  3.,\n",
              "        1.,  1.,  1.,  1.,  3.,  1.,  4.,  1.,  1.,  1.,  1.,  1.,  1.,\n",
              "        1.,  3.,  1.,  1.,  1.,  5.,  3.,  2.,  1.,  1.,  1.,  1.,  1.,\n",
              "        1.,  1.,  1.,  1.,  1.,  1.,  1.,  1.,  1.,  1.,  1.,  1.,  1.,\n",
              "        1.,  1.,  1.,  1.,  2.,  3.,  1.,  1.,  1.,  1.,  1.,  1.,  2.,\n",
              "        2.,  1.,  1.,  1.,  1.,  3.,  1.,  1.,  1.,  1.,  1.,  1.,  1.,\n",
              "        1.,  1.,  5.,  1.,  1.,  1.,  1.,  1.,  1.,  1.,  1.,  1.,  1.,\n",
              "        1.,  2.,  1.,  1.,  1.,  1.,  1.,  1.,  1.,  1.,  1.,  1.,  1.,\n",
              "        1.,  1.,  1.,  1.,  1.,  1.,  1.,  1.,  1.,  3.,  1.,  1.,  1.,\n",
              "        1.,  1.,  1.,  1.,  1.,  1.,  1.,  1.,  1.,  1.,  1.,  1.,  1.,\n",
              "        1.,  1.,  1.,  1.,  1.,  1.,  2.,  1.,  1.,  1.,  1.,  1.,  1.,\n",
              "        1.,  1.,  1.,  1.,  1.,  1.,  1.,  1.,  1.,  1.,  1.,  1.,  1.,\n",
              "        1.,  1.,  1.,  1.,  1.,  1.,  1.,  1.,  1.,  1.,  1.,  1.,  1.,\n",
              "        1.,  1.,  1.,  1.,  1.,  1.,  1.,  1.,  1.,  1.,  1.,  1.,  1.,\n",
              "        1.,  1.,  1.,  1.,  1.,  1.,  1.,  1.,  1.,  1.,  1.,  1.])"
            ]
          },
          "metadata": {},
          "execution_count": 21
        }
      ]
    },
    {
      "cell_type": "code",
      "source": [
        "#review this one\n",
        "fig,ax=plt.subplots(1,1, figsize=(12,8))\n",
        "plt.bar(hyp_birth_list,natality_birth_counts)\n",
        "plt.xticks(hyp_birth_list, rotation = 50)\n",
        "plt.xlabel(\"Births\", fontsize = 15)\n",
        "plt.ylabel(\"# of People\", fontsize = 15)\n",
        "plt.title(\"Hypertension Births (Natality Data)\", fontsize = 20)"
      ],
      "metadata": {
        "colab": {
          "base_uri": "https://localhost:8080/",
          "height": 581
        },
        "id": "h1ZQDvlQwyS-",
        "outputId": "21f51c7b-fffd-4c22-f606-a41641adc4ab"
      },
      "execution_count": null,
      "outputs": [
        {
          "output_type": "execute_result",
          "data": {
            "text/plain": [
              "Text(0.5, 1.0, 'Hypertension Births (Natality Data)')"
            ]
          },
          "metadata": {},
          "execution_count": 22
        },
        {
          "output_type": "display_data",
          "data": {
            "text/plain": [
              "<Figure size 864x576 with 1 Axes>"
            ],
            "image/png": "[encoded data removed]"
          },
          "metadata": {
            "needs_background": "light"
          }
        }
      ]
    },
    {
      "cell_type": "code",
      "source": [
        "len(df.columns)"
      ],
      "metadata": {
        "id": "PQGSsT8r4r56",
        "colab": {
          "base_uri": "https://localhost:8080/"
        },
        "outputId": "7cdbd762-ef99-4831-e8e7-9385f0096c5a"
      },
      "execution_count": null,
      "outputs": [
        {
          "output_type": "execute_result",
          "data": {
            "text/plain": [
              "8"
            ]
          },
          "metadata": {},
          "execution_count": 23
        }
      ]
    },
    {
      "cell_type": "code",
      "source": [
        "hyp_birth_list"
      ],
      "metadata": {
        "colab": {
          "base_uri": "https://localhost:8080/"
        },
        "id": "Ognc_7tUvj9i",
        "outputId": "517f9cb3-5a8e-46cd-bd89-ab7d7a1ac896"
      },
      "execution_count": null,
      "outputs": [
        {
          "output_type": "execute_result",
          "data": {
            "text/plain": [
              "array(['5211', '5156', '5125', '5079', '259', '271', '283', '325', '541',\n",
              "       '530', '578', '544', '42', '44', '46', '49', '4060', '3976',\n",
              "       '3910', '3807', '379', '388', '402', '455', '18', '13', '14', '17',\n",
              "       '196', '209', '216', '250', '1220', '1306', '1240', '1289', '57',\n",
              "       '58', '70', '68', '22', '30', '41', '39', 'Suppressed', '1099',\n",
              "       '1144', '1091', '1126', '74', '87', '88', '52', '53', '63',\n",
              "       '13163', '13124', '12806', '12593', '576', '493', '339', '261',\n",
              "       '7783', '7610', '7513', '7251', '483', '421', '258', '189', '3374',\n",
              "       '3425', '3088', '3073', '1447', '1487', '1568', '1682', '20', '55',\n",
              "       '2193', '2150', '2119', '2156', '54', '82', '80', '175', '203',\n",
              "       '188', '202', '16', '12', '1738', '1688', '1637', '1705', '182',\n",
              "       '174', '47', '51', '61', '64', '1567', '1651', '1634', '1627',\n",
              "       '31', '23', '29', '115', '102', '118', '1272', '1334', '1310',\n",
              "       '1235', '113', '120', '116', '165', '26', '28', '21', '10063',\n",
              "       '9984', '10004', '9655', '218', '207', '215', '220', '2698',\n",
              "       '2729', '2606', '2566', '96', '109', '5005', '4885', '4788',\n",
              "       '4468', '1660', '1641', '1906', '2032', '25', '32', '62', '73',\n",
              "       '4235', '4249', '4289', '4220', '72', '90', '957', '921', '969',\n",
              "       '887', '24', '40', '2536', '2594', '2475', '2483', '549', '532',\n",
              "       '611', '619', '36', '1539', '1506', '1475', '1402', '34', '66',\n",
              "       '1425', '1391', '1362', '1279', '50', '43', '3382', '3513', '3492',\n",
              "       '3526', '67', '84', '83', '672', '692', '724', '740', '2074',\n",
              "       '2121', '2048', '2059', '390', '419', '459', '453', '37', '45',\n",
              "       '4030', '4148', '4230', '4092', '124', '107', '119', '132', '674',\n",
              "       '712', '742', '707', '33', '38', '2514', '2551', '2522', '2388',\n",
              "       '595', '660', '710', '76', '56', '77', '1236', '1247', '1221',\n",
              "       '1204', '19', '1045', '1026', '1030', '1014', '98', '86', '2401',\n",
              "       '2322', '2228', '2287', '27', '97', '91', '81', '71', '1938',\n",
              "       '1865', '1782', '1857', '164', '157', '151', '152', '30776',\n",
              "       '30395', '30587', '29559', '1008', '1069', '1152', '1164', '2266',\n",
              "       '2192', '2345', '2232', '105', '95', '93', '121', '25641', '25256',\n",
              "       '25144', '24174', '2069', '2084', '2169', '2260', '837', '899',\n",
              "       '992', '976'], dtype=object)"
            ]
          },
          "metadata": {},
          "execution_count": 24
        }
      ]
    },
    {
      "cell_type": "code",
      "source": [
        "hyp_indicator_name_list"
      ],
      "metadata": {
        "colab": {
          "base_uri": "https://localhost:8080/"
        },
        "id": "qjrefI_8wOsa",
        "outputId": "2bcc4b60-f163-497f-f604-2792bfb3df02"
      },
      "execution_count": null,
      "outputs": [
        {
          "output_type": "execute_result",
          "data": {
            "text/plain": [
              "array(['natality', 'natality_hypertensive', 'natality_black_all',\n",
              "       'natality_black_hypertensive', 'natality_white_all',\n",
              "       'natality_hispanic_all', 'natality_hispanic_hypertensive',\n",
              "       'natality_white_hypertensive'], dtype=object)"
            ]
          },
          "metadata": {},
          "execution_count": 25
        }
      ]
    },
    {
      "cell_type": "code",
      "source": [
        "completed_hyp_birth_list = np.delete(hyp_birth_list, 44)\n",
        "print(completed_hyp_birth_list)"
      ],
      "metadata": {
        "colab": {
          "base_uri": "https://localhost:8080/"
        },
        "id": "jda4c4pLxuYU",
        "outputId": "92005845-9026-4aa1-82fe-21ade9767e44"
      },
      "execution_count": null,
      "outputs": [
        {
          "output_type": "stream",
          "name": "stdout",
          "text": [
            "['5211' '5156' '5125' '5079' '259' '271' '283' '325' '541' '530' '578'\n",
            " '544' '42' '44' '46' '49' '4060' '3976' '3910' '3807' '379' '388' '402'\n",
            " '455' '18' '13' '14' '17' '196' '209' '216' '250' '1220' '1306' '1240'\n",
            " '1289' '57' '58' '70' '68' '22' '30' '41' '39' '1099' '1144' '1091'\n",
            " '1126' '74' '87' '88' '52' '53' '63' '13163' '13124' '12806' '12593'\n",
            " '576' '493' '339' '261' '7783' '7610' '7513' '7251' '483' '421' '258'\n",
            " '189' '3374' '3425' '3088' '3073' '1447' '1487' '1568' '1682' '20' '55'\n",
            " '2193' '2150' '2119' '2156' '54' '82' '80' '175' '203' '188' '202' '16'\n",
            " '12' '1738' '1688' '1637' '1705' '182' '174' '47' '51' '61' '64' '1567'\n",
            " '1651' '1634' '1627' '31' '23' '29' '115' '102' '118' '1272' '1334'\n",
            " '1310' '1235' '113' '120' '116' '165' '26' '28' '21' '10063' '9984'\n",
            " '10004' '9655' '218' '207' '215' '220' '2698' '2729' '2606' '2566' '96'\n",
            " '109' '5005' '4885' '4788' '4468' '1660' '1641' '1906' '2032' '25' '32'\n",
            " '62' '73' '4235' '4249' '4289' '4220' '72' '90' '957' '921' '969' '887'\n",
            " '24' '40' '2536' '2594' '2475' '2483' '549' '532' '611' '619' '36' '1539'\n",
            " '1506' '1475' '1402' '34' '66' '1425' '1391' '1362' '1279' '50' '43'\n",
            " '3382' '3513' '3492' '3526' '67' '84' '83' '672' '692' '724' '740' '2074'\n",
            " '2121' '2048' '2059' '390' '419' '459' '453' '37' '45' '4030' '4148'\n",
            " '4230' '4092' '124' '107' '119' '132' '674' '712' '742' '707' '33' '38'\n",
            " '2514' '2551' '2522' '2388' '595' '660' '710' '76' '56' '77' '1236'\n",
            " '1247' '1221' '1204' '19' '1045' '1026' '1030' '1014' '98' '86' '2401'\n",
            " '2322' '2228' '2287' '27' '97' '91' '81' '71' '1938' '1865' '1782' '1857'\n",
            " '164' '157' '151' '152' '30776' '30395' '30587' '29559' '1008' '1069'\n",
            " '1152' '1164' '2266' '2192' '2345' '2232' '105' '95' '93' '121' '25641'\n",
            " '25256' '25144' '24174' '2069' '2084' '2169' '2260' '837' '899' '992'\n",
            " '976']\n"
          ]
        }
      ]
    },
    {
      "cell_type": "code",
      "source": [
        "print(f\"Total Births: {sum(completed_hyp_birth_list.astype('float'))}\")"
      ],
      "metadata": {
        "colab": {
          "base_uri": "https://localhost:8080/"
        },
        "id": "Ohi4MYLk4XWs",
        "outputId": "a6c4de4a-6df4-46ca-ca63-f0cd5d38619f"
      },
      "execution_count": null,
      "outputs": [
        {
          "output_type": "stream",
          "name": "stdout",
          "text": [
            "Total Births: 642987.0\n"
          ]
        }
      ]
    },
    {
      "cell_type": "code",
      "source": [
        "df_knox =df[df['county']=='Knox County, TN']\n",
        "df_knox"
      ],
      "metadata": {
        "id": "Q4KGGugN6g1a",
        "colab": {
          "base_uri": "https://localhost:8080/",
          "height": 1000
        },
        "outputId": "3ce6bab4-8536-4dec-c85c-bb4d7ebfe517"
      },
      "execution_count": null,
      "outputs": [
        {
          "output_type": "execute_result",
          "data": {
            "text/plain": [
              "    year_code           county indicator_display_name births  county_code  \\\n",
              "0        2017  Knox County, TN                    TBD   5211        47093   \n",
              "1        2018  Knox County, TN                    TBD   5156        47093   \n",
              "2        2019  Knox County, TN                    TBD   5125        47093   \n",
              "3        2020  Knox County, TN                    TBD   5079        47093   \n",
              "4        2017  Knox County, TN                    TBD    259        47093   \n",
              "5        2018  Knox County, TN                    TBD    271        47093   \n",
              "6        2019  Knox County, TN                    TBD    283        47093   \n",
              "7        2020  Knox County, TN                    TBD    325        47093   \n",
              "8        2017  Knox County, TN                    TBD    541        47093   \n",
              "9        2018  Knox County, TN                    TBD    530        47093   \n",
              "10       2019  Knox County, TN                    TBD    578        47093   \n",
              "11       2020  Knox County, TN                    TBD    544        47093   \n",
              "12       2017  Knox County, TN                    TBD     42        47093   \n",
              "13       2018  Knox County, TN                    TBD     44        47093   \n",
              "14       2019  Knox County, TN                    TBD     46        47093   \n",
              "15       2020  Knox County, TN                    TBD     49        47093   \n",
              "16       2017  Knox County, TN                    TBD   4060        47093   \n",
              "17       2018  Knox County, TN                    TBD   3976        47093   \n",
              "18       2019  Knox County, TN                    TBD   3910        47093   \n",
              "19       2020  Knox County, TN                    TBD   3807        47093   \n",
              "20       2017  Knox County, TN                    TBD    379        47093   \n",
              "21       2018  Knox County, TN                    TBD    388        47093   \n",
              "22       2019  Knox County, TN                    TBD    402        47093   \n",
              "23       2020  Knox County, TN                    TBD    455        47093   \n",
              "24       2017  Knox County, TN                    TBD     18        47093   \n",
              "25       2018  Knox County, TN                    TBD     13        47093   \n",
              "26       2019  Knox County, TN                    TBD     14        47093   \n",
              "27       2020  Knox County, TN                    TBD     17        47093   \n",
              "28       2017  Knox County, TN                    TBD    196        47093   \n",
              "29       2018  Knox County, TN                    TBD    209        47093   \n",
              "30       2019  Knox County, TN                    TBD    216        47093   \n",
              "31       2020  Knox County, TN                    TBD    250        47093   \n",
              "\n",
              "    year  notes                  indicator_name  \n",
              "0   2017    NaN                        natality  \n",
              "1   2018    NaN                        natality  \n",
              "2   2019    NaN                        natality  \n",
              "3   2020    NaN                        natality  \n",
              "4   2017    NaN           natality_hypertensive  \n",
              "5   2018    NaN           natality_hypertensive  \n",
              "6   2019    NaN           natality_hypertensive  \n",
              "7   2020    NaN           natality_hypertensive  \n",
              "8   2017    NaN              natality_black_all  \n",
              "9   2018    NaN              natality_black_all  \n",
              "10  2019    NaN              natality_black_all  \n",
              "11  2020    NaN              natality_black_all  \n",
              "12  2017    NaN     natality_black_hypertensive  \n",
              "13  2018    NaN     natality_black_hypertensive  \n",
              "14  2019    NaN     natality_black_hypertensive  \n",
              "15  2020    NaN     natality_black_hypertensive  \n",
              "16  2017    NaN              natality_white_all  \n",
              "17  2018    NaN              natality_white_all  \n",
              "18  2019    NaN              natality_white_all  \n",
              "19  2020    NaN              natality_white_all  \n",
              "20  2017    NaN           natality_hispanic_all  \n",
              "21  2018    NaN           natality_hispanic_all  \n",
              "22  2019    NaN           natality_hispanic_all  \n",
              "23  2020    NaN           natality_hispanic_all  \n",
              "24  2017    NaN  natality_hispanic_hypertensive  \n",
              "25  2018    NaN  natality_hispanic_hypertensive  \n",
              "26  2019    NaN  natality_hispanic_hypertensive  \n",
              "27  2020    NaN  natality_hispanic_hypertensive  \n",
              "28  2017    NaN     natality_white_hypertensive  \n",
              "29  2018    NaN     natality_white_hypertensive  \n",
              "30  2019    NaN     natality_white_hypertensive  \n",
              "31  2020    NaN     natality_white_hypertensive  "
            ],
            "text/html": [
              "\n",
              "  <div id=\"df-6d85dae0-3583-4f35-b1bf-72034220e330\">\n",
              "    <div class=\"colab-df-container\">\n",
              "      <div>\n",
              "<style scoped>\n",
              "    .dataframe tbody tr th:only-of-type {\n",
              "        vertical-align: middle;\n",
              "    }\n",
              "\n",
              "    .dataframe tbody tr th {\n",
              "        vertical-align: top;\n",
              "    }\n",
              "\n",
              "    .dataframe thead th {\n",
              "        text-align: right;\n",
              "    }\n",
              "</style>\n",
              "<table border=\"1\" class=\"dataframe\">\n",
              "  <thead>\n",
              "    <tr style=\"text-align: right;\">\n",
              "      <th></th>\n",
              "      <th>year_code</th>\n",
              "      <th>county</th>\n",
              "      <th>indicator_display_name</th>\n",
              "      <th>births</th>\n",
              "      <th>county_code</th>\n",
              "      <th>year</th>\n",
              "      <th>notes</th>\n",
              "      <th>indicator_name</th>\n",
              "    </tr>\n",
              "  </thead>\n",
              "  <tbody>\n",
              "    <tr>\n",
              "      <th>0</th>\n",
              "      <td>2017</td>\n",
              "      <td>Knox County, TN</td>\n",
              "      <td>TBD</td>\n",
              "      <td>5211</td>\n",
              "      <td>47093</td>\n",
              "      <td>2017</td>\n",
              "      <td>NaN</td>\n",
              "      <td>natality</td>\n",
              "    </tr>\n",
              "    <tr>\n",
              "      <th>1</th>\n",
              "      <td>2018</td>\n",
              "      <td>Knox County, TN</td>\n",
              "      <td>TBD</td>\n",
              "      <td>5156</td>\n",
              "      <td>47093</td>\n",
              "      <td>2018</td>\n",
              "      <td>NaN</td>\n",
              "      <td>natality</td>\n",
              "    </tr>\n",
              "    <tr>\n",
              "      <th>2</th>\n",
              "      <td>2019</td>\n",
              "      <td>Knox County, TN</td>\n",
              "      <td>TBD</td>\n",
              "      <td>5125</td>\n",
              "      <td>47093</td>\n",
              "      <td>2019</td>\n",
              "      <td>NaN</td>\n",
              "      <td>natality</td>\n",
              "    </tr>\n",
              "    <tr>\n",
              "      <th>3</th>\n",
              "      <td>2020</td>\n",
              "      <td>Knox County, TN</td>\n",
              "      <td>TBD</td>\n",
              "      <td>5079</td>\n",
              "      <td>47093</td>\n",
              "      <td>2020</td>\n",
              "      <td>NaN</td>\n",
              "      <td>natality</td>\n",
              "    </tr>\n",
              "    <tr>\n",
              "      <th>4</th>\n",
              "      <td>2017</td>\n",
              "      <td>Knox County, TN</td>\n",
              "      <td>TBD</td>\n",
              "      <td>259</td>\n",
              "      <td>47093</td>\n",
              "      <td>2017</td>\n",
              "      <td>NaN</td>\n",
              "      <td>natality_hypertensive</td>\n",
              "    </tr>\n",
              "    <tr>\n",
              "      <th>5</th>\n",
              "      <td>2018</td>\n",
              "      <td>Knox County, TN</td>\n",
              "      <td>TBD</td>\n",
              "      <td>271</td>\n",
              "      <td>47093</td>\n",
              "      <td>2018</td>\n",
              "      <td>NaN</td>\n",
              "      <td>natality_hypertensive</td>\n",
              "    </tr>\n",
              "    <tr>\n",
              "      <th>6</th>\n",
              "      <td>2019</td>\n",
              "      <td>Knox County, TN</td>\n",
              "      <td>TBD</td>\n",
              "      <td>283</td>\n",
              "      <td>47093</td>\n",
              "      <td>2019</td>\n",
              "      <td>NaN</td>\n",
              "      <td>natality_hypertensive</td>\n",
              "    </tr>\n",
              "    <tr>\n",
              "      <th>7</th>\n",
              "      <td>2020</td>\n",
              "      <td>Knox County, TN</td>\n",
              "      <td>TBD</td>\n",
              "      <td>325</td>\n",
              "      <td>47093</td>\n",
              "      <td>2020</td>\n",
              "      <td>NaN</td>\n",
              "      <td>natality_hypertensive</td>\n",
              "    </tr>\n",
              "    <tr>\n",
              "      <th>8</th>\n",
              "      <td>2017</td>\n",
              "      <td>Knox County, TN</td>\n",
              "      <td>TBD</td>\n",
              "      <td>541</td>\n",
              "      <td>47093</td>\n",
              "      <td>2017</td>\n",
              "      <td>NaN</td>\n",
              "      <td>natality_black_all</td>\n",
              "    </tr>\n",
              "    <tr>\n",
              "      <th>9</th>\n",
              "      <td>2018</td>\n",
              "      <td>Knox County, TN</td>\n",
              "      <td>TBD</td>\n",
              "      <td>530</td>\n",
              "      <td>47093</td>\n",
              "      <td>2018</td>\n",
              "      <td>NaN</td>\n",
              "      <td>natality_black_all</td>\n",
              "    </tr>\n",
              "    <tr>\n",
              "      <th>10</th>\n",
              "      <td>2019</td>\n",
              "      <td>Knox County, TN</td>\n",
              "      <td>TBD</td>\n",
              "      <td>578</td>\n",
              "      <td>47093</td>\n",
              "      <td>2019</td>\n",
              "      <td>NaN</td>\n",
              "      <td>natality_black_all</td>\n",
              "    </tr>\n",
              "    <tr>\n",
              "      <th>11</th>\n",
              "      <td>2020</td>\n",
              "      <td>Knox County, TN</td>\n",
              "      <td>TBD</td>\n",
              "      <td>544</td>\n",
              "      <td>47093</td>\n",
              "      <td>2020</td>\n",
              "      <td>NaN</td>\n",
              "      <td>natality_black_all</td>\n",
              "    </tr>\n",
              "    <tr>\n",
              "      <th>12</th>\n",
              "      <td>2017</td>\n",
              "      <td>Knox County, TN</td>\n",
              "      <td>TBD</td>\n",
              "      <td>42</td>\n",
              "      <td>47093</td>\n",
              "      <td>2017</td>\n",
              "      <td>NaN</td>\n",
              "      <td>natality_black_hypertensive</td>\n",
              "    </tr>\n",
              "    <tr>\n",
              "      <th>13</th>\n",
              "      <td>2018</td>\n",
              "      <td>Knox County, TN</td>\n",
              "      <td>TBD</td>\n",
              "      <td>44</td>\n",
              "      <td>47093</td>\n",
              "      <td>2018</td>\n",
              "      <td>NaN</td>\n",
              "      <td>natality_black_hypertensive</td>\n",
              "    </tr>\n",
              "    <tr>\n",
              "      <th>14</th>\n",
              "      <td>2019</td>\n",
              "      <td>Knox County, TN</td>\n",
              "      <td>TBD</td>\n",
              "      <td>46</td>\n",
              "      <td>47093</td>\n",
              "      <td>2019</td>\n",
              "      <td>NaN</td>\n",
              "      <td>natality_black_hypertensive</td>\n",
              "    </tr>\n",
              "    <tr>\n",
              "      <th>15</th>\n",
              "      <td>2020</td>\n",
              "      <td>Knox County, TN</td>\n",
              "      <td>TBD</td>\n",
              "      <td>49</td>\n",
              "      <td>47093</td>\n",
              "      <td>2020</td>\n",
              "      <td>NaN</td>\n",
              "      <td>natality_black_hypertensive</td>\n",
              "    </tr>\n",
              "    <tr>\n",
              "      <th>16</th>\n",
              "      <td>2017</td>\n",
              "      <td>Knox County, TN</td>\n",
              "      <td>TBD</td>\n",
              "      <td>4060</td>\n",
              "      <td>47093</td>\n",
              "      <td>2017</td>\n",
              "      <td>NaN</td>\n",
              "      <td>natality_white_all</td>\n",
              "    </tr>\n",
              "    <tr>\n",
              "      <th>17</th>\n",
              "      <td>2018</td>\n",
              "      <td>Knox County, TN</td>\n",
              "      <td>TBD</td>\n",
              "      <td>3976</td>\n",
              "      <td>47093</td>\n",
              "      <td>2018</td>\n",
              "      <td>NaN</td>\n",
              "      <td>natality_white_all</td>\n",
              "    </tr>\n",
              "    <tr>\n",
              "      <th>18</th>\n",
              "      <td>2019</td>\n",
              "      <td>Knox County, TN</td>\n",
              "      <td>TBD</td>\n",
              "      <td>3910</td>\n",
              "      <td>47093</td>\n",
              "      <td>2019</td>\n",
              "      <td>NaN</td>\n",
              "      <td>natality_white_all</td>\n",
              "    </tr>\n",
              "    <tr>\n",
              "      <th>19</th>\n",
              "      <td>2020</td>\n",
              "      <td>Knox County, TN</td>\n",
              "      <td>TBD</td>\n",
              "      <td>3807</td>\n",
              "      <td>47093</td>\n",
              "      <td>2020</td>\n",
              "      <td>NaN</td>\n",
              "      <td>natality_white_all</td>\n",
              "    </tr>\n",
              "    <tr>\n",
              "      <th>20</th>\n",
              "      <td>2017</td>\n",
              "      <td>Knox County, TN</td>\n",
              "      <td>TBD</td>\n",
              "      <td>379</td>\n",
              "      <td>47093</td>\n",
              "      <td>2017</td>\n",
              "      <td>NaN</td>\n",
              "      <td>natality_hispanic_all</td>\n",
              "    </tr>\n",
              "    <tr>\n",
              "      <th>21</th>\n",
              "      <td>2018</td>\n",
              "      <td>Knox County, TN</td>\n",
              "      <td>TBD</td>\n",
              "      <td>388</td>\n",
              "      <td>47093</td>\n",
              "      <td>2018</td>\n",
              "      <td>NaN</td>\n",
              "      <td>natality_hispanic_all</td>\n",
              "    </tr>\n",
              "    <tr>\n",
              "      <th>22</th>\n",
              "      <td>2019</td>\n",
              "      <td>Knox County, TN</td>\n",
              "      <td>TBD</td>\n",
              "      <td>402</td>\n",
              "      <td>47093</td>\n",
              "      <td>2019</td>\n",
              "      <td>NaN</td>\n",
              "      <td>natality_hispanic_all</td>\n",
              "    </tr>\n",
              "    <tr>\n",
              "      <th>23</th>\n",
              "      <td>2020</td>\n",
              "      <td>Knox County, TN</td>\n",
              "      <td>TBD</td>\n",
              "      <td>455</td>\n",
              "      <td>47093</td>\n",
              "      <td>2020</td>\n",
              "      <td>NaN</td>\n",
              "      <td>natality_hispanic_all</td>\n",
              "    </tr>\n",
              "    <tr>\n",
              "      <th>24</th>\n",
              "      <td>2017</td>\n",
              "      <td>Knox County, TN</td>\n",
              "      <td>TBD</td>\n",
              "      <td>18</td>\n",
              "      <td>47093</td>\n",
              "      <td>2017</td>\n",
              "      <td>NaN</td>\n",
              "      <td>natality_hispanic_hypertensive</td>\n",
              "    </tr>\n",
              "    <tr>\n",
              "      <th>25</th>\n",
              "      <td>2018</td>\n",
              "      <td>Knox County, TN</td>\n",
              "      <td>TBD</td>\n",
              "      <td>13</td>\n",
              "      <td>47093</td>\n",
              "      <td>2018</td>\n",
              "      <td>NaN</td>\n",
              "      <td>natality_hispanic_hypertensive</td>\n",
              "    </tr>\n",
              "    <tr>\n",
              "      <th>26</th>\n",
              "      <td>2019</td>\n",
              "      <td>Knox County, TN</td>\n",
              "      <td>TBD</td>\n",
              "      <td>14</td>\n",
              "      <td>47093</td>\n",
              "      <td>2019</td>\n",
              "      <td>NaN</td>\n",
              "      <td>natality_hispanic_hypertensive</td>\n",
              "    </tr>\n",
              "    <tr>\n",
              "      <th>27</th>\n",
              "      <td>2020</td>\n",
              "      <td>Knox County, TN</td>\n",
              "      <td>TBD</td>\n",
              "      <td>17</td>\n",
              "      <td>47093</td>\n",
              "      <td>2020</td>\n",
              "      <td>NaN</td>\n",
              "      <td>natality_hispanic_hypertensive</td>\n",
              "    </tr>\n",
              "    <tr>\n",
              "      <th>28</th>\n",
              "      <td>2017</td>\n",
              "      <td>Knox County, TN</td>\n",
              "      <td>TBD</td>\n",
              "      <td>196</td>\n",
              "      <td>47093</td>\n",
              "      <td>2017</td>\n",
              "      <td>NaN</td>\n",
              "      <td>natality_white_hypertensive</td>\n",
              "    </tr>\n",
              "    <tr>\n",
              "      <th>29</th>\n",
              "      <td>2018</td>\n",
              "      <td>Knox County, TN</td>\n",
              "      <td>TBD</td>\n",
              "      <td>209</td>\n",
              "      <td>47093</td>\n",
              "      <td>2018</td>\n",
              "      <td>NaN</td>\n",
              "      <td>natality_white_hypertensive</td>\n",
              "    </tr>\n",
              "    <tr>\n",
              "      <th>30</th>\n",
              "      <td>2019</td>\n",
              "      <td>Knox County, TN</td>\n",
              "      <td>TBD</td>\n",
              "      <td>216</td>\n",
              "      <td>47093</td>\n",
              "      <td>2019</td>\n",
              "      <td>NaN</td>\n",
              "      <td>natality_white_hypertensive</td>\n",
              "    </tr>\n",
              "    <tr>\n",
              "      <th>31</th>\n",
              "      <td>2020</td>\n",
              "      <td>Knox County, TN</td>\n",
              "      <td>TBD</td>\n",
              "      <td>250</td>\n",
              "      <td>47093</td>\n",
              "      <td>2020</td>\n",
              "      <td>NaN</td>\n",
              "      <td>natality_white_hypertensive</td>\n",
              "    </tr>\n",
              "  </tbody>\n",
              "</table>\n",
              "</div>\n",
              "      <button class=\"colab-df-convert\" onclick=\"convertToInteractive('df-6d85dae0-3583-4f35-b1bf-72034220e330')\"\n",
              "              title=\"Convert this dataframe to an interactive table.\"\n",
              "              style=\"display:none;\">\n",
              "        \n",
              "  <svg xmlns=\"http://www.w3.org/2000/svg\" height=\"24px\"viewBox=\"0 0 24 24\"\n",
              "       width=\"24px\">\n",
              "    <path d=\"M0 0h24v24H0V0z\" fill=\"none\"/>\n",
              "    <path d=\"M18.56 5.44l.94 2.06.94-2.06 2.06-.94-2.06-.94-.94-2.06-.94 2.06-2.06.94zm-11 1L8.5 8.5l.94-2.06 2.06-.94-2.06-.94L8.5 2.5l-.94 2.06-2.06.94zm10 10l.94 2.06.94-2.06 2.06-.94-2.06-.94-.94-2.06-.94 2.06-2.06.94z\"/><path d=\"M17.41 7.96l-1.37-1.37c-.4-.4-.92-.59-1.43-.59-.52 0-1.04.2-1.43.59L10.3 9.45l-7.72 7.72c-.78.78-.78 2.05 0 2.83L4 21.41c.39.39.9.59 1.41.59.51 0 1.02-.2 1.41-.59l7.78-7.78 2.81-2.81c.8-.78.8-2.07 0-2.86zM5.41 20L4 18.59l7.72-7.72 1.47 1.35L5.41 20z\"/>\n",
              "  </svg>\n",
              "      </button>\n",
              "      \n",
              "  <style>\n",
              "    .colab-df-container {\n",
              "      display:flex;\n",
              "      flex-wrap:wrap;\n",
              "      gap: 12px;\n",
              "    }\n",
              "\n",
              "    .colab-df-convert {\n",
              "      background-color: #E8F0FE;\n",
              "      border: none;\n",
              "      border-radius: 50%;\n",
              "      cursor: pointer;\n",
              "      display: none;\n",
              "      fill: #1967D2;\n",
              "      height: 32px;\n",
              "      padding: 0 0 0 0;\n",
              "      width: 32px;\n",
              "    }\n",
              "\n",
              "    .colab-df-convert:hover {\n",
              "      background-color: #E2EBFA;\n",
              "      box-shadow: 0px 1px 2px rgba(60, 64, 67, 0.3), 0px 1px 3px 1px rgba(60, 64, 67, 0.15);\n",
              "      fill: #174EA6;\n",
              "    }\n",
              "\n",
              "    [theme=dark] .colab-df-convert {\n",
              "      background-color: #3B4455;\n",
              "      fill: #D2E3FC;\n",
              "    }\n",
              "\n",
              "    [theme=dark] .colab-df-convert:hover {\n",
              "      background-color: #434B5C;\n",
              "      box-shadow: 0px 1px 3px 1px rgba(0, 0, 0, 0.15);\n",
              "      filter: drop-shadow(0px 1px 2px rgba(0, 0, 0, 0.3));\n",
              "      fill: #FFFFFF;\n",
              "    }\n",
              "  </style>\n",
              "\n",
              "      <script>\n",
              "        const buttonEl =\n",
              "          document.querySelector('#df-6d85dae0-3583-4f35-b1bf-72034220e330 button.colab-df-convert');\n",
              "        buttonEl.style.display =\n",
              "          google.colab.kernel.accessAllowed ? 'block' : 'none';\n",
              "\n",
              "        async function convertToInteractive(key) {\n",
              "          const element = document.querySelector('#df-6d85dae0-3583-4f35-b1bf-72034220e330');\n",
              "          const dataTable =\n",
              "            await google.colab.kernel.invokeFunction('convertToInteractive',\n",
              "                                                     [key], {});\n",
              "          if (!dataTable) return;\n",
              "\n",
              "          const docLinkHtml = 'Like what you see? Visit the ' +\n",
              "            '<a target=\"_blank\" href=https://colab.research.google.com/notebooks/data_table.ipynb>data table notebook</a>'\n",
              "            + ' to learn more about interactive tables.';\n",
              "          element.innerHTML = '';\n",
              "          dataTable['output_type'] = 'display_data';\n",
              "          await google.colab.output.renderOutput(dataTable, element);\n",
              "          const docLink = document.createElement('div');\n",
              "          docLink.innerHTML = docLinkHtml;\n",
              "          element.appendChild(docLink);\n",
              "        }\n",
              "      </script>\n",
              "    </div>\n",
              "  </div>\n",
              "  "
            ]
          },
          "metadata": {},
          "execution_count": 29
        }
      ]
    },
    {
      "cell_type": "code",
      "source": [
        "sns.scatterplot(x='births', y='indicator_name',\n",
        "                hue='county', data=df, )\n",
        "plt.legend(bbox_to_anchor=(1, 1), loc=2)"
      ],
      "metadata": {
        "colab": {
          "base_uri": "https://localhost:8080/",
          "height": 296
        },
        "id": "p6XLoS7aab9b",
        "outputId": "206c1eb3-aab4-4f0e-c249-6e223b649b04"
      },
      "execution_count": null,
      "outputs": [
        {
          "output_type": "execute_result",
          "data": {
            "text/plain": [
              "<matplotlib.legend.Legend at 0x7f6bec3ca2d0>"
            ]
          },
          "metadata": {},
          "execution_count": 41
        },
        {
          "output_type": "display_data",
          "data": {
            "text/plain": [
              "<Figure size 432x288 with 1 Axes>"
            ],
            "image/png": "[encoded data removed]"
          },
          "metadata": {
            "needs_background": "light"
          }
        }
      ]
    },
    {
      "cell_type": "code",
      "source": [
        "sns.pairplot(df)"
      ],
      "metadata": {
        "colab": {
          "base_uri": "https://localhost:8080/",
          "height": 743
        },
        "id": "wGY00vUJavZn",
        "outputId": "d905c5fa-314e-4cdd-c1ad-a0cbc2d0e800"
      },
      "execution_count": null,
      "outputs": [
        {
          "output_type": "execute_result",
          "data": {
            "text/plain": [
              "<seaborn.axisgrid.PairGrid at 0x7f6bee994050>"
            ]
          },
          "metadata": {},
          "execution_count": 38
        },
        {
          "output_type": "display_data",
          "data": {
            "text/plain": [
              "<Figure size 720x720 with 20 Axes>"
            ],
            "image/png": "[encoded data removed]"
          },
          "metadata": {
            "needs_background": "light"
          }
        }
      ]
    },
    {
      "cell_type": "code",
      "source": [],
      "metadata": {
        "id": "wsW20Z7zbP52"
      },
      "execution_count": null,
      "outputs": []
    }
  ],
  "metadata": {
    "colab": {
      "provenance": [],
      "include_colab_link": true
    },
    "kernelspec": {
      "display_name": "Python 3",
      "name": "python3"
    }
  },
  "nbformat": 4,
  "nbformat_minor": 0
}