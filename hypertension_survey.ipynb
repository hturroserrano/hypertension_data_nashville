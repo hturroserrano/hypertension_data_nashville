{
  "cells": [
    {
      "cell_type": "markdown",
      "metadata": {
        "id": "view-in-github",
        "colab_type": "text"
      },
      "source": [
        "<a href=\"https://colab.research.google.com/github/hturroserrano/hypertension_data_nashville/blob/main/hypertension_survey.ipynb\" target=\"_parent\"><img src=\"https://colab.research.google.com/assets/colab-badge.svg\" alt=\"Open In Colab\"/></a>"
      ]
    },
    {
      "cell_type": "code",
      "execution_count": null,
      "metadata": {
        "id": "ydjcsPBVLdGa"
      },
      "outputs": [],
      "source": [
        "import numpy as np\n",
        "import seaborn as sns\n",
        "import pandas as pd\n",
        "import matplotlib as mpl\n",
        "from matplotlib import pyplot as plt"
      ]
    },
    {
      "cell_type": "code",
      "execution_count": null,
      "metadata": {
        "id": "dHxZ3Be1E8aF"
      },
      "outputs": [],
      "source": [
        "surveyurl = 'https://raw.githubusercontent.com/CDavisBelmont/SurveyData/main/health_surv_ques.csv'"
      ]
    },
    {
      "cell_type": "code",
      "execution_count": null,
      "metadata": {
        "id": "XoyrIVhBO9oy"
      },
      "outputs": [],
      "source": [
        "df = pd.read_csv(surveyurl)"
      ]
    },
    {
      "cell_type": "code",
      "execution_count": null,
      "metadata": {
        "colab": {
          "base_uri": "https://localhost:8080/",
          "height": 841
        },
        "id": "SabuY-PpSbZI",
        "outputId": "dea2c8be-4d72-4da9-c375-10127a990714"
      },
      "outputs": [
        {
          "output_type": "execute_result",
          "data": {
            "text/plain": [
              "   Unnamed: 0        Zone  CaseID Vlanguage  TYPE_QX DEVICE_SPECIFY  DEVICE  \\\n",
              "0           0        West  100036   English        1            NaN     NaN   \n",
              "1           1  South East  100072   English        1            NaN     NaN   \n",
              "2           2  South East  101071   English        1            NaN     1.0   \n",
              "3           3  South East  103738   English        1            NaN     NaN   \n",
              "4           4  South East  103752   English        1            NaN     NaN   \n",
              "\n",
              "  smp_ord_STID  var300O1233  var300O1232  ...  \\\n",
              "0            2          NaN          NaN  ...   \n",
              "1            1          NaN          NaN  ...   \n",
              "2            1          1.0          1.0  ...   \n",
              "3            2          NaN          NaN  ...   \n",
              "4            3          NaN          NaN  ...   \n",
              "\n",
              "   About how long has it been since you last visited a doctor for a routine checkup? A routine checkup is a general physical exam, not an exam for a specific injury, illness, or condition.  \\\n",
              "0                                                1.0                                                                                                                                           \n",
              "1                                                1.0                                                                                                                                           \n",
              "2                                                1.0                                                                                                                                           \n",
              "3                                                1.0                                                                                                                                           \n",
              "4                                                4.0                                                                                                                                           \n",
              "\n",
              "   Other than cost), have you delayed getting needed medical care for any of the following reasons in the past 12 months?   \\\n",
              "0                                                6.0                                                                         \n",
              "1                                                2.0                                                                         \n",
              "2                                                7.0                                                                         \n",
              "3                                                7.0                                                                         \n",
              "4                                                7.0                                                                         \n",
              "\n",
              "   Was there a time in the past 12 months when you needed to see a doctor but could not because of cost?  \\\n",
              "0                                                2.0                                                       \n",
              "1                                                2.0                                                       \n",
              "2                                                2.0                                                       \n",
              "3                                                2.0                                                       \n",
              "4                                                2.0                                                       \n",
              "\n",
              "   Do you have one person you think of as your personal doctor or health care provider?  \\\n",
              "0                                                1.0                                      \n",
              "1                                                1.0                                      \n",
              "2                                                1.0                                      \n",
              "3                                                1.0                                      \n",
              "4                                                2.0                                      \n",
              "\n",
              "   In the past 12 months was there any time when you did not have any health insurance or coverage?  \\\n",
              "0                                                2.0                                                  \n",
              "1                                                2.0                                                  \n",
              "2                                                2.0                                                  \n",
              "3                                                2.0                                                  \n",
              "4                                                2.0                                                  \n",
              "\n",
              "   Do you have Medicare?  \\\n",
              "0                    1.0   \n",
              "1                    2.0   \n",
              "2                    NaN   \n",
              "3                    2.0   \n",
              "4                    2.0   \n",
              "\n",
              "  What is the primary source of your health care coverage? Is it…  \\\n",
              "0                                                1.0                \n",
              "1                                                1.0                \n",
              "2                                                3.0                \n",
              "3                                                4.0                \n",
              "4                                                2.0                \n",
              "\n",
              "   Now thinking about your mental health, which includes stress, depression, and problems with emotions, for how many days during the past 30 days was your mental health not good? (Please specify a number between 0 and 30.)  \\\n",
              "0                                                5.0                                                                                                                                                                              \n",
              "1                                                0.0                                                                                                                                                                              \n",
              "2                                                0.0                                                                                                                                                                              \n",
              "3                                                2.0                                                                                                                                                                              \n",
              "4                                                0.0                                                                                                                                                                              \n",
              "\n",
              "   Now thinking about your physical health, which includes physical illness and njury, for how many days during the past 30 days was your physical health not good? (Please specify a number between 0 and 30.)  \\\n",
              "0                                               20.0                                                                                                                                                              \n",
              "1                                                0.0                                                                                                                                                              \n",
              "2                                                0.0                                                                                                                                                              \n",
              "3                                                4.0                                                                                                                                                              \n",
              "4                                                1.0                                                                                                                                                              \n",
              "\n",
              "   Let's begin with some basic questions about your health. Would you say that in general your health is:  \n",
              "0                                                3.0                                                       \n",
              "1                                                3.0                                                       \n",
              "2                                                2.0                                                       \n",
              "3                                                3.0                                                       \n",
              "4                                                1.0                                                       \n",
              "\n",
              "[5 rows x 206 columns]"
            ],
            "text/html": [
              "\n",
              "  <div id=\"df-03558148-9f77-488c-b960-cfd9d9cd7068\">\n",
              "    <div class=\"colab-df-container\">\n",
              "      <div>\n",
              "<style scoped>\n",
              "    .dataframe tbody tr th:only-of-type {\n",
              "        vertical-align: middle;\n",
              "    }\n",
              "\n",
              "    .dataframe tbody tr th {\n",
              "        vertical-align: top;\n",
              "    }\n",
              "\n",
              "    .dataframe thead th {\n",
              "        text-align: right;\n",
              "    }\n",
              "</style>\n",
              "<table border=\"1\" class=\"dataframe\">\n",
              "  <thead>\n",
              "    <tr style=\"text-align: right;\">\n",
              "      <th></th>\n",
              "      <th>Unnamed: 0</th>\n",
              "      <th>Zone</th>\n",
              "      <th>CaseID</th>\n",
              "      <th>Vlanguage</th>\n",
              "      <th>TYPE_QX</th>\n",
              "      <th>DEVICE_SPECIFY</th>\n",
              "      <th>DEVICE</th>\n",
              "      <th>smp_ord_STID</th>\n",
              "      <th>var300O1233</th>\n",
              "      <th>var300O1232</th>\n",
              "      <th>...</th>\n",
              "      <th>About how long has it been since you last visited a doctor for a routine checkup? A routine checkup is a general physical exam, not an exam for a specific injury, illness, or condition.</th>\n",
              "      <th>Other than cost), have you delayed getting needed medical care for any of the following reasons in the past 12 months?</th>\n",
              "      <th>Was there a time in the past 12 months when you needed to see a doctor but could not because of cost?</th>\n",
              "      <th>Do you have one person you think of as your personal doctor or health care provider?</th>\n",
              "      <th>In the past 12 months was there any time when you did not have any health insurance or coverage?</th>\n",
              "      <th>Do you have Medicare?</th>\n",
              "      <th>What is the primary source of your health care coverage? Is it…</th>\n",
              "      <th>Now thinking about your mental health, which includes stress, depression, and problems with emotions, for how many days during the past 30 days was your mental health not good? (Please specify a number between 0 and 30.)</th>\n",
              "      <th>Now thinking about your physical health, which includes physical illness and njury, for how many days during the past 30 days was your physical health not good? (Please specify a number between 0 and 30.)</th>\n",
              "      <th>Let's begin with some basic questions about your health. Would you say that in general your health is:</th>\n",
              "    </tr>\n",
              "  </thead>\n",
              "  <tbody>\n",
              "    <tr>\n",
              "      <th>0</th>\n",
              "      <td>0</td>\n",
              "      <td>West</td>\n",
              "      <td>100036</td>\n",
              "      <td>English</td>\n",
              "      <td>1</td>\n",
              "      <td>NaN</td>\n",
              "      <td>NaN</td>\n",
              "      <td>2</td>\n",
              "      <td>NaN</td>\n",
              "      <td>NaN</td>\n",
              "      <td>...</td>\n",
              "      <td>1.0</td>\n",
              "      <td>6.0</td>\n",
              "      <td>2.0</td>\n",
              "      <td>1.0</td>\n",
              "      <td>2.0</td>\n",
              "      <td>1.0</td>\n",
              "      <td>1.0</td>\n",
              "      <td>5.0</td>\n",
              "      <td>20.0</td>\n",
              "      <td>3.0</td>\n",
              "    </tr>\n",
              "    <tr>\n",
              "      <th>1</th>\n",
              "      <td>1</td>\n",
              "      <td>South East</td>\n",
              "      <td>100072</td>\n",
              "      <td>English</td>\n",
              "      <td>1</td>\n",
              "      <td>NaN</td>\n",
              "      <td>NaN</td>\n",
              "      <td>1</td>\n",
              "      <td>NaN</td>\n",
              "      <td>NaN</td>\n",
              "      <td>...</td>\n",
              "      <td>1.0</td>\n",
              "      <td>2.0</td>\n",
              "      <td>2.0</td>\n",
              "      <td>1.0</td>\n",
              "      <td>2.0</td>\n",
              "      <td>2.0</td>\n",
              "      <td>1.0</td>\n",
              "      <td>0.0</td>\n",
              "      <td>0.0</td>\n",
              "      <td>3.0</td>\n",
              "    </tr>\n",
              "    <tr>\n",
              "      <th>2</th>\n",
              "      <td>2</td>\n",
              "      <td>South East</td>\n",
              "      <td>101071</td>\n",
              "      <td>English</td>\n",
              "      <td>1</td>\n",
              "      <td>NaN</td>\n",
              "      <td>1.0</td>\n",
              "      <td>1</td>\n",
              "      <td>1.0</td>\n",
              "      <td>1.0</td>\n",
              "      <td>...</td>\n",
              "      <td>1.0</td>\n",
              "      <td>7.0</td>\n",
              "      <td>2.0</td>\n",
              "      <td>1.0</td>\n",
              "      <td>2.0</td>\n",
              "      <td>NaN</td>\n",
              "      <td>3.0</td>\n",
              "      <td>0.0</td>\n",
              "      <td>0.0</td>\n",
              "      <td>2.0</td>\n",
              "    </tr>\n",
              "    <tr>\n",
              "      <th>3</th>\n",
              "      <td>3</td>\n",
              "      <td>South East</td>\n",
              "      <td>103738</td>\n",
              "      <td>English</td>\n",
              "      <td>1</td>\n",
              "      <td>NaN</td>\n",
              "      <td>NaN</td>\n",
              "      <td>2</td>\n",
              "      <td>NaN</td>\n",
              "      <td>NaN</td>\n",
              "      <td>...</td>\n",
              "      <td>1.0</td>\n",
              "      <td>7.0</td>\n",
              "      <td>2.0</td>\n",
              "      <td>1.0</td>\n",
              "      <td>2.0</td>\n",
              "      <td>2.0</td>\n",
              "      <td>4.0</td>\n",
              "      <td>2.0</td>\n",
              "      <td>4.0</td>\n",
              "      <td>3.0</td>\n",
              "    </tr>\n",
              "    <tr>\n",
              "      <th>4</th>\n",
              "      <td>4</td>\n",
              "      <td>South East</td>\n",
              "      <td>103752</td>\n",
              "      <td>English</td>\n",
              "      <td>1</td>\n",
              "      <td>NaN</td>\n",
              "      <td>NaN</td>\n",
              "      <td>3</td>\n",
              "      <td>NaN</td>\n",
              "      <td>NaN</td>\n",
              "      <td>...</td>\n",
              "      <td>4.0</td>\n",
              "      <td>7.0</td>\n",
              "      <td>2.0</td>\n",
              "      <td>2.0</td>\n",
              "      <td>2.0</td>\n",
              "      <td>2.0</td>\n",
              "      <td>2.0</td>\n",
              "      <td>0.0</td>\n",
              "      <td>1.0</td>\n",
              "      <td>1.0</td>\n",
              "    </tr>\n",
              "  </tbody>\n",
              "</table>\n",
              "<p>5 rows × 206 columns</p>\n",
              "</div>\n",
              "      <button class=\"colab-df-convert\" onclick=\"convertToInteractive('df-03558148-9f77-488c-b960-cfd9d9cd7068')\"\n",
              "              title=\"Convert this dataframe to an interactive table.\"\n",
              "              style=\"display:none;\">\n",
              "        \n",
              "  <svg xmlns=\"http://www.w3.org/2000/svg\" height=\"24px\"viewBox=\"0 0 24 24\"\n",
              "       width=\"24px\">\n",
              "    <path d=\"M0 0h24v24H0V0z\" fill=\"none\"/>\n",
              "    <path d=\"M18.56 5.44l.94 2.06.94-2.06 2.06-.94-2.06-.94-.94-2.06-.94 2.06-2.06.94zm-11 1L8.5 8.5l.94-2.06 2.06-.94-2.06-.94L8.5 2.5l-.94 2.06-2.06.94zm10 10l.94 2.06.94-2.06 2.06-.94-2.06-.94-.94-2.06-.94 2.06-2.06.94z\"/><path d=\"M17.41 7.96l-1.37-1.37c-.4-.4-.92-.59-1.43-.59-.52 0-1.04.2-1.43.59L10.3 9.45l-7.72 7.72c-.78.78-.78 2.05 0 2.83L4 21.41c.39.39.9.59 1.41.59.51 0 1.02-.2 1.41-.59l7.78-7.78 2.81-2.81c.8-.78.8-2.07 0-2.86zM5.41 20L4 18.59l7.72-7.72 1.47 1.35L5.41 20z\"/>\n",
              "  </svg>\n",
              "      </button>\n",
              "      \n",
              "  <style>\n",
              "    .colab-df-container {\n",
              "      display:flex;\n",
              "      flex-wrap:wrap;\n",
              "      gap: 12px;\n",
              "    }\n",
              "\n",
              "    .colab-df-convert {\n",
              "      background-color: #E8F0FE;\n",
              "      border: none;\n",
              "      border-radius: 50%;\n",
              "      cursor: pointer;\n",
              "      display: none;\n",
              "      fill: #1967D2;\n",
              "      height: 32px;\n",
              "      padding: 0 0 0 0;\n",
              "      width: 32px;\n",
              "    }\n",
              "\n",
              "    .colab-df-convert:hover {\n",
              "      background-color: #E2EBFA;\n",
              "      box-shadow: 0px 1px 2px rgba(60, 64, 67, 0.3), 0px 1px 3px 1px rgba(60, 64, 67, 0.15);\n",
              "      fill: #174EA6;\n",
              "    }\n",
              "\n",
              "    [theme=dark] .colab-df-convert {\n",
              "      background-color: #3B4455;\n",
              "      fill: #D2E3FC;\n",
              "    }\n",
              "\n",
              "    [theme=dark] .colab-df-convert:hover {\n",
              "      background-color: #434B5C;\n",
              "      box-shadow: 0px 1px 3px 1px rgba(0, 0, 0, 0.15);\n",
              "      filter: drop-shadow(0px 1px 2px rgba(0, 0, 0, 0.3));\n",
              "      fill: #FFFFFF;\n",
              "    }\n",
              "  </style>\n",
              "\n",
              "      <script>\n",
              "        const buttonEl =\n",
              "          document.querySelector('#df-03558148-9f77-488c-b960-cfd9d9cd7068 button.colab-df-convert');\n",
              "        buttonEl.style.display =\n",
              "          google.colab.kernel.accessAllowed ? 'block' : 'none';\n",
              "\n",
              "        async function convertToInteractive(key) {\n",
              "          const element = document.querySelector('#df-03558148-9f77-488c-b960-cfd9d9cd7068');\n",
              "          const dataTable =\n",
              "            await google.colab.kernel.invokeFunction('convertToInteractive',\n",
              "                                                     [key], {});\n",
              "          if (!dataTable) return;\n",
              "\n",
              "          const docLinkHtml = 'Like what you see? Visit the ' +\n",
              "            '<a target=\"_blank\" href=https://colab.research.google.com/notebooks/data_table.ipynb>data table notebook</a>'\n",
              "            + ' to learn more about interactive tables.';\n",
              "          element.innerHTML = '';\n",
              "          dataTable['output_type'] = 'display_data';\n",
              "          await google.colab.output.renderOutput(dataTable, element);\n",
              "          const docLink = document.createElement('div');\n",
              "          docLink.innerHTML = docLinkHtml;\n",
              "          element.appendChild(docLink);\n",
              "        }\n",
              "      </script>\n",
              "    </div>\n",
              "  </div>\n",
              "  "
            ]
          },
          "metadata": {},
          "execution_count": 4
        }
      ],
      "source": [
        "df.head()"
      ]
    },
    {
      "cell_type": "code",
      "execution_count": null,
      "metadata": {
        "colab": {
          "base_uri": "https://localhost:8080/"
        },
        "id": "jcO1UUuiSgJv",
        "outputId": "f59b02c8-0909-41dc-9b1b-45634f66c2ef"
      },
      "outputs": [
        {
          "output_type": "execute_result",
          "data": {
            "text/plain": [
              "206"
            ]
          },
          "metadata": {},
          "execution_count": 5
        }
      ],
      "source": [
        "len(df.columns)"
      ]
    },
    {
      "cell_type": "code",
      "execution_count": null,
      "metadata": {
        "id": "4fZxSmuOJNiB"
      },
      "outputs": [],
      "source": [
        "transportation_to_healthy_foods = df.columns[154]"
      ]
    },
    {
      "cell_type": "code",
      "execution_count": null,
      "metadata": {
        "colab": {
          "base_uri": "https://localhost:8080/",
          "height": 35
        },
        "id": "4JPy9_ewKBfn",
        "outputId": "5458fbff-4442-4593-b075-b4fb1d12f82f"
      },
      "outputs": [
        {
          "output_type": "execute_result",
          "data": {
            "text/plain": [
              "'How difficult is it for you to get transportation to a store that sells healthy food, such as fresh fruits and vegetables? '"
            ],
            "application/vnd.google.colaboratory.intrinsic+json": {
              "type": "string"
            }
          },
          "metadata": {},
          "execution_count": 7
        }
      ],
      "source": [
        "transportation_to_healthy_foods"
      ]
    },
    {
      "cell_type": "code",
      "execution_count": null,
      "metadata": {
        "id": "UYmuT9g0Kp_o"
      },
      "outputs": [],
      "source": [
        "age_diabetes = df.columns[179]"
      ]
    },
    {
      "cell_type": "code",
      "execution_count": null,
      "metadata": {
        "colab": {
          "base_uri": "https://localhost:8080/",
          "height": 35
        },
        "id": "sMYz62KlLEHb",
        "outputId": "1569f5a1-7917-4588-cd5a-a3cd4bc80311"
      },
      "outputs": [
        {
          "output_type": "execute_result",
          "data": {
            "text/plain": [
              "'How old were you when you were told you have diabetes, pre- diabetes or gestational diabetes?'"
            ],
            "application/vnd.google.colaboratory.intrinsic+json": {
              "type": "string"
            }
          },
          "metadata": {},
          "execution_count": 9
        }
      ],
      "source": [
        "age_diabetes"
      ]
    },
    {
      "cell_type": "code",
      "execution_count": null,
      "metadata": {
        "id": "70V_ZcuiL96r"
      },
      "outputs": [],
      "source": [
        "health_coverage_problems = df.columns[124]"
      ]
    },
    {
      "cell_type": "code",
      "execution_count": null,
      "metadata": {
        "colab": {
          "base_uri": "https://localhost:8080/",
          "height": 52
        },
        "id": "7XEJA3ISMEh5",
        "outputId": "1c61cb6d-7d35-402d-c396-d073a854f141"
      },
      "outputs": [
        {
          "output_type": "execute_result",
          "data": {
            "text/plain": [
              "'Which of these statements explain why you or your family member did not get the treatment or counseling you needed for your use of alcohol, drug use, or both? No health care coverage, and couldn’t afford the cost.'"
            ],
            "application/vnd.google.colaboratory.intrinsic+json": {
              "type": "string"
            }
          },
          "metadata": {},
          "execution_count": 11
        }
      ],
      "source": [
        "health_coverage_problems"
      ]
    },
    {
      "cell_type": "code",
      "execution_count": null,
      "metadata": {
        "colab": {
          "base_uri": "https://localhost:8080/",
          "height": 35
        },
        "id": "shXl2liDWmCA",
        "outputId": "8ac4ae76-00dd-48b9-9bb4-3fe287c892da"
      },
      "outputs": [
        {
          "output_type": "execute_result",
          "data": {
            "text/plain": [
              "'What is the ZIP Code where you currently live? (Please specify) '"
            ],
            "application/vnd.google.colaboratory.intrinsic+json": {
              "type": "string"
            }
          },
          "metadata": {},
          "execution_count": 12
        }
      ],
      "source": [
        "zip_code = df.columns[10]\n",
        "zip_code"
      ]
    },
    {
      "cell_type": "code",
      "execution_count": null,
      "metadata": {
        "colab": {
          "base_uri": "https://localhost:8080/"
        },
        "id": "69_Ul8f2YZlc",
        "outputId": "7e221481-fd69-40e7-e510-3209221f39b2"
      },
      "outputs": [
        {
          "output_type": "stream",
          "name": "stdout",
          "text": [
            "Unnamed: 0\n",
            "Zone\n",
            "CaseID\n",
            "Vlanguage\n",
            "TYPE_QX\n",
            "DEVICE_SPECIFY\n",
            "DEVICE\n",
            "smp_ord_STID\n",
            "var300O1233\n",
            "var300O1232\n",
            "What is the ZIP Code where you currently live? (Please specify) \n",
            "How much hard physical work is required on your job? Would you say a great deal, a moderate amount, a little, or none? \n",
            "At your main job or business, how are you generally paid for the work you do? Are you: \n",
            "Are you currently... \n",
            "Do you consider yourself to be transgender? \n",
            "Which of the following best represents how you think of yourself? \n",
            "Which of the following best represents how you think of yourself? (please specify)\n",
            "About how tall are you without shoes? (Please specify in both feet and inches.)\n",
            "About how tall are you without shoes? (Please specify in both feet and inches.).1\n",
            "About how much do you weigh without shoes?   (Please specify in pounds.)\n",
            "Is your annual household income from all sources: \n",
            "Have you used the internet in the past 30 days? \n",
            "Do you personally have a cell phone or smart phone? \n",
            "Within the past 30 days: Have you experienced any physical symptoms, for example, a headache, an upset stomach, tensing of your muscles, or a pounding heart, as a result of howyou were treated based on your race?\n",
            "Within the past 30 days:  Have you felt emotionally upset, for example angry, sad, or frustrated, as a result of how you were treated based on your race?\n",
            "Within the past 12 months when seeking health care, do you feel your experiences were worse than, the same as, or better than for people of other races? \n",
            "How often do you think about your race? Would you say never, once a year, once a month, once a week, once a day, once an hour, or constantly?\n",
            "Within the past 12 months at work, do you feel you were treated worse than, the same as, or better than people of other races? \n",
            "Which of the following Asian groups represents you?   (Please check all that apply). (Please specify)\n",
            "Which of the following Asian groups represents you?   (Please check all that apply). Other Asian\n",
            "Which of the following Asian groups represents you?   (Please check all that apply). Vietnamese\n",
            "Which of the following Asian groups represents you?   (Please check all that apply). Korean\n",
            "Which of the following Asian groups represents you?   (Please check all that apply)Japanese\n",
            "Which of the following Asian groups represents you?   (Please check all that apply). Filipino\n",
            "Which of the following Asian groups represents you?   (Please check all that apply). Chinese\n",
            "Which of the following Asian groups represents you?   (Please check all that apply). Asian Indian\n",
            "Which of the following groups would you say represents your race? (Please check all that apply.)   Please specify\n",
            "Which of the following groups would you say represents your race? (Please check all that apply.)   Some Other Group\n",
            "Which of the following groups would you say represents your race? (Please check all that apply.)   American Indian or Alaska Native\n",
            "Which of the following groups would you say represents your race? (Please check all that apply.)   Native Hawaiian or Other Pacific Islander\n",
            "Which of the following groups would you say represents your race? (Please check all that apply.) Asian (go to #116\n",
            "Which of the following groups would you say represents your race? (Please check all that apply.)   Black or African American\n",
            "Which of the following groups would you say represents your race? (Please check all that apply.)   White\n",
            "Which of the following Hispanic, Latino/a or Spanish origin groups represents you? (Please check all that apply.). Please specify\n",
            "Which of the following Hispanic, Latino/a or Spanish origin groups represents you? (Please check all that apply.). Other Hispanic, Latino/a, or Spanish origin\n",
            "Which of the following Hispanic, Latino/a or Spanish origin groups represents you? (Please check all that apply.). Cuban\n",
            "Which of the following Hispanic, Latino/a or Spanish origin groups represents you? (Please check all that apply.). Puerto Rican\n",
            "Which of the following Hispanic, Latino/a or Spanish origin groups represents you? (Please check all that apply.). Mexican, Mexican American, Chicano/a\n",
            "Are you Hispanic, Latino/a, or Spanish origin?\n",
            "What is the highest grade or year of school you completed? \n",
            "Are you... \n",
            "What year were you born? \n",
            "How confident are you in using information from the internet to make health decisions?\n",
            "How confident are you that you can tell high quality from low quality health resources on the internet?\n",
            "How confident are you that you can use the internet to answer your health questions?\n",
            "How confident are you that you can find helpful health resources on the Internet?\n",
            "Do you put off or neglect going to the pharmacy or doctor to pick up your 1☐ medication because of distance or transportation? \n",
            "Do you put off or neglect going to the doctor or dentist because of distance or transportation?\n",
            "Does lack of money for transportation expenses, such as parking, cab or bus fare, make it difficult to get to the doctor or dentist? \n",
            "How difficult is it for you to get transportation to your medical care, including doctor, dentist, or pharmacy? \n",
            "Have you moved in with someone, or has someone moved in with you in the last 12 months to share household expenses?\n",
            "How many times have you moved in the last 12 months? \n",
            "Do you own or rent your home? \n",
            "How many times has your new baby been to a doctor, nurse, or other health care worker for a well‐baby checkup? A well-baby checkup is a regular health visit for your baby usually at 1, 2, 4, and 6 months of age. \n",
            "In which one position do you most often lay your baby down to sleep now? \n",
            "Months (please specify) \n",
            "Weeks (please specify) \n",
            "How many weeks or months did you breastfeed or pump milk to feed your baby? \n",
            "Are you currently breastfeeding or feeding pumped milk to your new baby? \n",
            "Did you ever breastfeed or pump breast milk to feed your new baby, even for a short period of time? \n",
            "I did not have a post-pregnancy checkup. \n",
            "Give or prescribe you a contraceptive method such as the pill, patch, shot Depo Provera®), NuvaRing®, or condoms , Insert an IUD (Mirena®, ParaGard®, Liletta®, or Skyla®) or a contraceptive implant (Nexplanon® or Implanon®)\n",
            "Talk to you about birth control methods \n",
            "Talk to you about how long to wait before getting pregnant\n",
            "Talk to you about good nutrition \n",
            "During the 3 months before you got pregnant, how many alcoholic drinks did you have in an average week? \n",
            "I was homeless or had to sleep outside, in a car, or in a shelter \n",
            "Someone very close to me died\n",
            "Someone very close to me had a problem with drinking or drugs \n",
            "My husband, partner, or I went to jail\n",
            "My husband or partner said he didn’t want me to be pregnant \n",
            "I was apart from my husband or partner due to military deployment or extended work‐related travel \n",
            "I lost my job even though I wanted to go on working \n",
            "My husband or partner lost his job\n",
            "I got separated or divorced from my husband or partner \n",
            "A close family member was very sick and had to go into the hospital \n",
            "Visit for family planning or birth control \n",
            "Have a regular checkup at my family doctor’s office \n",
            "Months old (Please specify a number between 0 and 18.) \n",
            "How many months old is your new infant, if still alive? \n",
            "Have you delivered in the last 18 months? \n",
            "Have you been pregnant in the last 18 months? \n",
            "Are you currently pregnant? \n",
            "A vaccine to prevent the human papilloma virus or HPV infection is available and is called cervical cancer vaccine, HPV shot, or GARDASIL®. Has this child ever had the HPV vaccination? \n",
            "Has a doctor, nurse or other health professional ever said that the child has asthma?\n",
            "How old is this child? (Please specify a number between 0 and 17.) \n",
            "How many children less than 18 years of age live in your household? \n",
            "Excluding adults living away from home, such as students away at college, how many members of your household, including yourself, are 18 years of age or older? \n",
            "How often do you use these for biking, walking or other activities? Would you say... \n",
            "Does your community have trails, greenways, bike paths, or sidewalks for biking, walking or other activities? \n",
            "During the past seven days, on how many days did you walk for at least ten minutes at a time for fun, relaxation, exercise or to walk the dog?(Please specify a number between 0 and 7.) \n",
            "During the past seven days, on how many days did you walk for at least ten minutes at a time to get to some place such as work, school, a store, or restaurant? (Please specify a number between 0 and 7.) \n",
            "On a typical day, do you sit during most of the day, stand during most of the day, or walk around most of the day? \n",
            "Hours (please specify) \n",
            "Minutes (please specify) \n",
            "On the days you exercise, how many minutes or ours do you physically exercise?\n",
            "In a typical week, how many days do you physically exercise?  (Please specify a number between 0 and 7.)\n",
            "During the past month, other than your regular job, did you participate in any physical activities or exercises such as running, calisthenics, golf, gardening, or walking for exercise? \n",
            "How often do you wear a fitness device? \n",
            "Do you ever wear a fitness device (e.g., Fitbit, Nike Sports watch, Apple watch, etc.) to measure your daily physical activity level? \n",
            "Do you feel safer or less safe when there are firearms in your home or vehicle (car, van or truck)? \n",
            "Are any of these loaded firearms also unlocked? \n",
            "Are any of these firearms now loaded? \n",
            "Are any firearms now kept in the car, van, or truck that you usually drive? \n",
            "Are any firearms now kept in or around your home? \n",
            "Do any of these situations apply to you? You have used intravenous drugs in the past year, You have been treated for a sexually transmitted or venereal disease in the past year, you have given or received money or drugs in exchange for sex in the past year, you had anal sex without a condom in the past year.\n",
            "Have you ever been tested for HIV? Do not count tests you may have had as part of a blood donation. Include testing fluid from your mouth. \n",
            "Which of these statements explain why you or your family member did not get the treatment or counseling you needed for your use of alcohol, drug use, or both? Concerned that getting treatment or counseling might cause your neighbors or community to have a negative opinion.\n",
            "Which of these statements explain why you or your family member did not get the treatment or counseling you needed for your use of alcohol, drug use, or both? Did not know where to go to get treatment.\n",
            "Which of these statements explain why you or your family member did not get the treatment or counseling you needed for your use of alcohol, drug use, or both? No openings in the programs.\n",
            "Which of these statements explain why you or your family member did not get the treatment or counseling you needed for your use of alcohol, drug use, or both? Not ready to stop using [alcohol, drug use, or both].\n",
            "Which of these statements explain why you or your family member did not get the treatment or counseling you needed for your use of alcohol, drug use, or both? Didn’t find a program that offered the type of treatment or counseling wanted.\n",
            "Which of these statements explain why you or your family member did not get the treatment or counseling you needed for your use of alcohol, drug use, or both? No transportation to a program, or the programs were too far away, or the hours were not convenient.\n",
            "Which of these statements explain why you or your family member did not get the treatment or counseling you needed for your use of alcohol, drug use, or both? Had health care coverage, but it didn’t cover treatment for [alcohol, drug use, or both], or didn’t cover the full cost.\n",
            "Which of these statements explain why you or your family member did not get the treatment or counseling you needed for your use of alcohol, drug use, or both? No health care coverage, and couldn’t afford the cost.\n",
            "During the past 12 months, did you or your family member need treatment or counseling for alcohol or drug use that was not received? \n",
            "During the past 12 months, have you or your family member received treatment for alcohol, drug use, or both in a drug or alcohol rehabilitation facility as an outpatient? \n",
            "During the past 12 months, have you or a family member received treatment for alcohol, drug use, or both in a residential rehabilitation facility where you (or the family member) stayed overnight? \n",
            "During the past 12 months when you or your family member received treatment, was the treatment for alcohol use only, drug use only, or both alcohol and drug use? \n",
            "During the past 12 months, have you or a member of your immediate family (parent, child, spouse, sibling) received treatment or counseling for use of alcohol or any drug, not counting cigarettes?\n",
            "Within the last 12 months, have you traveled either locally or out of state, to more than one health care provider for the primary reason of obtaining prescription pain medications or tranquilizers such as Codeine, morphine, Lortab, Vicodin, Tylenol #3, Percocet, or OxyContin?\n",
            "From whom did you obtain the prescription pain medication?  Other\n",
            "From whom did you obtain the prescription pain medication?  Online\n",
            "From whom did you obtain the prescription pain medication?  From a street dealer or other person I did not know\n",
            "From whom did you obtain the prescription pain medication?  From an acquaintance\n",
            "From whom did you obtain the prescription pain medication?  From a friend or relative\n",
            "In the last 12 months, have you taken any prescription pain relievers or tranquilizers (including Codeine, morphine, Lortab, Vicodin, Tylenol #3, Percocet, OxyContin) when it was not prescribed to you by a doctor, dentist, nurse practitioner, or other healthcare provider? We only want to know about prescription medication not medication that is available over the counter.\n",
            "During the past 30 days, what is the largest number of drinks you had on any occasion?\n",
            "Considering all types of alcoholic beverages, how many times during the past 30 days did you have 4 or more drinks at one time?\n",
            "Considering all types of alcoholic beverages, how many times during the past 30 days did you have 5 or more drinks at one time?\n",
            "During the past 30 days, on the days when you drank, about how many drinks did you drink on the average?\n",
            "Days in past 30 days (Please specify a number between 1 and 30.)\n",
            "Days per week (Please specify a number between 1 and 7.)\n",
            "During the past 30 days, how many days per week or per month did you have at least one drink of any alcoholic beverage such as beer, wine, a malt beverage or liquor?\n",
            "Have you considered using the Tennessee Quitline to assist with 1☐ Yes smoking cessation for yourself or someone else? \n",
            "Have you used the Tennessee Quitline to assist with smoking cessation for yourself or someone else? \n",
            "Are you aware of the Tennessee Quitline? \n",
            "Do you now use e‐cigarettes or other electronic vaping products every day, some days, or not at all? \n",
            "Have you ever used an e‐cigarette or other electronic vaping product, even just one time, in your entire life? \n",
            "Do you currently use chewing tobacco, snuff, or snus every day, some days, or not at all? \n",
            "During the past 12 months, have you stopped smoking for one day or longer because you were trying to quit smoking? \n",
            "Do you now smoke cigarettes every day, some days, or not at all? \n",
            "Have you smoked at least 100 cigarettes in your entire life? \n",
            "During the past week, how many times did you drink regular soda or pop that contains sugar? Do not include diet soda or diet pop.\n",
            "How difficult is it for you to get transportation to a store that sells healthy food, such as fresh fruits and vegetables? \n",
            "During the past week, how many times did you eat dark green vegetables for example broccoli or dark leafy greens including romaine, chard, collard greens or spinach?\n",
            "During the past week, how many times did you eat cooked or canned beans, such as refried, baked, black, garbanzo beans, beans in soup, soybeans, edamame, tofu or lentils?\n",
            "During the past week, how many times did you eat fruit? Count fresh, frozen or canned.\n",
            "Are you currently watching or reducing your sodium or salt intake? \n",
            "These next statements concern peoples’ attitudes toward mental illness and its treatment. People are generally caring and sympathetic to people with mental illness.\n",
            "These next statements concern peoples’ attitudes toward mental illness and its treatment.  Treatment can help people with mental illness lead normal lives.\n",
            "Are you now taking medicine or receiving treatment from a doctor or other health professional for any type of mental health condition or emotional problem?\n",
            "How often in the past 12 months would you say you were worried or stressed about having enough money to buy nutritious meals? Would you say you were worried or stressed— \n",
            "How often in the past 12 months would you say you were worried or stressed about having enough money to pay your rent/mortgage? Would you say you were worried or stressed— \n",
            "How often do you get the social and emotional support you need?\n",
            "n general, how satisfied or dissatisfied are you with your life?\n",
            "Did a doctor or other health professional tell you to take your blood pressure at home?\n",
            "Did you take your blood pressure at home during the last 12 months?\n",
            "Are you currently taking medicine for your high blood pressure?\n",
            "Was this high blood pressure caused by a pregnancy?\n",
            "Have you ever been told by a doctor, nurse or other health professional that you have high blood pressure?\n",
            "Times per year (Please specify)\n",
            "Times per month (Please specify) \n",
            "About how often do you check your blood for glucose or sugar?\n",
            "Times per week (Please specify) \n",
            "Times per day (Please specify) \n",
            "Number of times:\n",
            "About how many times in the past 12 months has a doctor, nurse, or other health professional checked your A1C?\n",
            "About how many times in the past 12 months have you seen a doctor, nurse, or other health professional for your diabetes or pre-diabetes?\n",
            "How old were you when you were told you have diabetes, pre- diabetes or gestational diabetes?\n",
            "Were you told that you have Type 1 Diabetes or that you have Type 2 Diabetes?\n",
            "Have you had a test for high blood sugar or diabetes within the past three years?\n",
            "Have you ever been told by a doctor or other health professional that you have pre‐diabetes or borderline diabetes?\n",
            "Was your diabetes due to a pregnancy? \n",
            "Has a doctor, nurse, or other health professional ever told you that you have diabetes?\n",
            "Has a doctor, nurse, or other health professional ever told you that you had any of the following? f. A depressive disorder, including depression, major depression, dysthymia, or minor depression?\n",
            "Has a doctor, nurse, or other health professional ever told you that you had any of the following? e. Chronic Obstructive Pulmonary Disease or COPD,emphysema or chronic bronchitis?\n",
            "Has a doctor, nurse, or other health professional ever told you that you had any of the following?  d. Asthma\n",
            "Has a doctor, nurse, or other health professional ever told you that you had any of the following?  c. A stroke?\n",
            "Has a doctor, nurse, or other health professional ever told you that you had any of the following?  b. Angina or coronary heart disease?\n",
            "Has a doctor, nurse, or other health professional ever told you that you had any of the following?  a. A heart attack, also called a myocardial infarction?\n",
            "Some of our health questions will be different for women and men. What was your sex at birth?\n",
            "Do you currently have any health care bills that are being paid off over time?\n",
            "Not including over the counter (OTC) medications, was there a time in the past 12 months when you did not take your medication as prescribed because of cost?\n",
            "How many of your permanent teeth have been removed because of tooth decay or gum disease?  Include teeth lost to infection, but do not include teethlost for other reasons, such as injury or orthodontics.\n",
            "Including all types of dentists, such as orthodontists, oral surgeons, and all other dental specialists, as well as dental hygienists, how long has it been since you last visited a dentist or a dental clinic for any reason? \n",
            "About how long has it been since you last visited a doctor for a routine checkup? A routine checkup is a general physical exam, not an exam for a specific injury, illness, or condition.\n",
            "Other than cost), have you delayed getting needed medical care for any of the following reasons in the past 12 months? \n",
            "Was there a time in the past 12 months when you needed to see a doctor but could not because of cost?\n",
            "Do you have one person you think of as your personal doctor or health care provider?\n",
            "In the past 12 months was there any time when you did not have any health insurance or coverage?\n",
            "Do you have Medicare?\n",
            "What is the primary source of your health care coverage? Is it…\n",
            "Now thinking about your mental health, which includes stress, depression, and problems with emotions, for how many days during the past 30 days was your mental health not good? (Please specify a number between 0 and 30.)\n",
            "Now thinking about your physical health, which includes physical illness and njury, for how many days during the past 30 days was your physical health not good? (Please specify a number between 0 and 30.)\n",
            "Let's begin with some basic questions about your health. Would you say that in general your health is:\n"
          ]
        }
      ],
      "source": [
        "for i, col in enumerate(df.columns):\n",
        "  print(col)"
      ]
    },
    {
      "cell_type": "code",
      "execution_count": null,
      "metadata": {
        "colab": {
          "base_uri": "https://localhost:8080/"
        },
        "id": "LsoO_jdUSuT6",
        "outputId": "fa62da2d-866c-4a7f-eb49-79f4279f33f7"
      },
      "outputs": [
        {
          "output_type": "stream",
          "name": "stdout",
          "text": [
            "116\n",
            "Have you ever been tested for HIV? Do not count tests you may have had as part of a blood donation. Include testing fluid from your mouth. \n",
            "166\n",
            "Did a doctor or other health professional tell you to take your blood pressure at home?\n",
            "167\n",
            "Did you take your blood pressure at home during the last 12 months?\n",
            "168\n",
            "Are you currently taking medicine for your high blood pressure?\n",
            "169\n",
            "Was this high blood pressure caused by a pregnancy?\n",
            "170\n",
            "Have you ever been told by a doctor, nurse or other health professional that you have high blood pressure?\n",
            "173\n",
            "About how often do you check your blood for glucose or sugar?\n",
            "181\n",
            "Have you had a test for high blood sugar or diabetes within the past three years?\n"
          ]
        }
      ],
      "source": [
        "for i, col in enumerate(df.columns):\n",
        "  if \"blood\" in col:\n",
        "    print(i)\n",
        "    print(col)"
      ]
    },
    {
      "cell_type": "code",
      "execution_count": null,
      "metadata": {
        "colab": {
          "base_uri": "https://localhost:8080/"
        },
        "id": "wRquevuhF1SN",
        "outputId": "18d8d1f9-e1fb-40e8-d11c-88c000554d4b"
      },
      "outputs": [
        {
          "output_type": "stream",
          "name": "stdout",
          "text": [
            "166\n",
            "Did a doctor or other health professional tell you to take your blood pressure at home?\n",
            "167\n",
            "Did you take your blood pressure at home during the last 12 months?\n",
            "168\n",
            "Are you currently taking medicine for your high blood pressure?\n",
            "169\n",
            "Was this high blood pressure caused by a pregnancy?\n",
            "170\n",
            "Have you ever been told by a doctor, nurse or other health professional that you have high blood pressure?\n"
          ]
        }
      ],
      "source": [
        "for i, col in enumerate(df.columns):\n",
        "  if \"blood pressure\" in col:\n",
        "    print(i)\n",
        "    print(col)"
      ]
    },
    {
      "cell_type": "code",
      "execution_count": null,
      "metadata": {
        "colab": {
          "base_uri": "https://localhost:8080/"
        },
        "id": "DYPJ0P8VGP0s",
        "outputId": "ee892b97-9bb5-4dcf-ad64-cbb3f8017ec9"
      },
      "outputs": [
        {
          "output_type": "stream",
          "name": "stdout",
          "text": [
            "56\n",
            "Do you put off or neglect going to the pharmacy or doctor to pick up your 1☐ medication because of distance or transportation? \n",
            "57\n",
            "Do you put off or neglect going to the doctor or dentist because of distance or transportation?\n",
            "58\n",
            "Does lack of money for transportation expenses, such as parking, cab or bus fare, make it difficult to get to the doctor or dentist? \n",
            "59\n",
            "How difficult is it for you to get transportation to your medical care, including doctor, dentist, or pharmacy? \n",
            "63\n",
            "How many times has your new baby been to a doctor, nurse, or other health care worker for a well‐baby checkup? A well-baby checkup is a regular health visit for your baby usually at 1, 2, 4, and 6 months of age. \n",
            "87\n",
            "Have a regular checkup at my family doctor’s office \n",
            "94\n",
            "Has a doctor, nurse or other health professional ever said that the child has asthma?\n",
            "136\n",
            "In the last 12 months, have you taken any prescription pain relievers or tranquilizers (including Codeine, morphine, Lortab, Vicodin, Tylenol #3, Percocet, OxyContin) when it was not prescribed to you by a doctor, dentist, nurse practitioner, or other healthcare provider? We only want to know about prescription medication not medication that is available over the counter.\n",
            "161\n",
            "Are you now taking medicine or receiving treatment from a doctor or other health professional for any type of mental health condition or emotional problem?\n",
            "166\n",
            "Did a doctor or other health professional tell you to take your blood pressure at home?\n",
            "170\n",
            "Have you ever been told by a doctor, nurse or other health professional that you have high blood pressure?\n",
            "177\n",
            "About how many times in the past 12 months has a doctor, nurse, or other health professional checked your A1C?\n",
            "178\n",
            "About how many times in the past 12 months have you seen a doctor, nurse, or other health professional for your diabetes or pre-diabetes?\n",
            "182\n",
            "Have you ever been told by a doctor or other health professional that you have pre‐diabetes or borderline diabetes?\n",
            "184\n",
            "Has a doctor, nurse, or other health professional ever told you that you have diabetes?\n",
            "185\n",
            "Has a doctor, nurse, or other health professional ever told you that you had any of the following? f. A depressive disorder, including depression, major depression, dysthymia, or minor depression?\n",
            "186\n",
            "Has a doctor, nurse, or other health professional ever told you that you had any of the following? e. Chronic Obstructive Pulmonary Disease or COPD,emphysema or chronic bronchitis?\n",
            "187\n",
            "Has a doctor, nurse, or other health professional ever told you that you had any of the following?  d. Asthma\n",
            "188\n",
            "Has a doctor, nurse, or other health professional ever told you that you had any of the following?  c. A stroke?\n",
            "189\n",
            "Has a doctor, nurse, or other health professional ever told you that you had any of the following?  b. Angina or coronary heart disease?\n",
            "190\n",
            "Has a doctor, nurse, or other health professional ever told you that you had any of the following?  a. A heart attack, also called a myocardial infarction?\n",
            "196\n",
            "About how long has it been since you last visited a doctor for a routine checkup? A routine checkup is a general physical exam, not an exam for a specific injury, illness, or condition.\n",
            "198\n",
            "Was there a time in the past 12 months when you needed to see a doctor but could not because of cost?\n",
            "199\n",
            "Do you have one person you think of as your personal doctor or health care provider?\n"
          ]
        }
      ],
      "source": [
        "for i, col in enumerate(df.columns):\n",
        "  if \"doctor\" in col:\n",
        "    print(i)\n",
        "    print(col)"
      ]
    },
    {
      "cell_type": "code",
      "execution_count": null,
      "metadata": {
        "colab": {
          "base_uri": "https://localhost:8080/"
        },
        "id": "gJoDVS07H-a7",
        "outputId": "f31abb13-3465-44f0-c596-9a476528f242"
      },
      "outputs": [
        {
          "output_type": "stream",
          "name": "stdout",
          "text": [
            "154\n",
            "How difficult is it for you to get transportation to a store that sells healthy food, such as fresh fruits and vegetables? \n"
          ]
        }
      ],
      "source": [
        "for i, col in enumerate(df.columns):\n",
        "  if \"food\" in col:\n",
        "    print(i)\n",
        "    print(col)"
      ]
    },
    {
      "cell_type": "code",
      "execution_count": null,
      "metadata": {
        "id": "lYZG9JN7nvFT"
      },
      "outputs": [],
      "source": [
        "food_transportation_problem = df.columns[154]"
      ]
    },
    {
      "cell_type": "code",
      "execution_count": null,
      "metadata": {
        "colab": {
          "base_uri": "https://localhost:8080/"
        },
        "id": "ijsjqvfkK0V8",
        "outputId": "4cb78a0f-22d3-462f-9da9-fc75ebafa71c"
      },
      "outputs": [
        {
          "output_type": "stream",
          "name": "stdout",
          "text": [
            "178\n",
            "About how many times in the past 12 months have you seen a doctor, nurse, or other health professional for your diabetes or pre-diabetes?\n",
            "179\n",
            "How old were you when you were told you have diabetes, pre- diabetes or gestational diabetes?\n",
            "181\n",
            "Have you had a test for high blood sugar or diabetes within the past three years?\n",
            "182\n",
            "Have you ever been told by a doctor or other health professional that you have pre‐diabetes or borderline diabetes?\n",
            "183\n",
            "Was your diabetes due to a pregnancy? \n",
            "184\n",
            "Has a doctor, nurse, or other health professional ever told you that you have diabetes?\n"
          ]
        }
      ],
      "source": [
        "for i, col in enumerate(df.columns):\n",
        "  if \"diabetes\" in col:\n",
        "    print(i)\n",
        "    print(col)"
      ]
    },
    {
      "cell_type": "code",
      "execution_count": null,
      "metadata": {
        "colab": {
          "base_uri": "https://localhost:8080/"
        },
        "id": "fFPbuOYuLsZS",
        "outputId": "b12ef6c2-631c-4f40-a8e6-464b30a76c49"
      },
      "outputs": [
        {
          "output_type": "stream",
          "name": "stdout",
          "text": [
            "25\n",
            "Within the past 12 months when seeking health care, do you feel your experiences were worse than, the same as, or better than for people of other races? \n",
            "63\n",
            "How many times has your new baby been to a doctor, nurse, or other health care worker for a well‐baby checkup? A well-baby checkup is a regular health visit for your baby usually at 1, 2, 4, and 6 months of age. \n",
            "123\n",
            "Which of these statements explain why you or your family member did not get the treatment or counseling you needed for your use of alcohol, drug use, or both? Had health care coverage, but it didn’t cover treatment for [alcohol, drug use, or both], or didn’t cover the full cost.\n",
            "124\n",
            "Which of these statements explain why you or your family member did not get the treatment or counseling you needed for your use of alcohol, drug use, or both? No health care coverage, and couldn’t afford the cost.\n",
            "130\n",
            "Within the last 12 months, have you traveled either locally or out of state, to more than one health care provider for the primary reason of obtaining prescription pain medications or tranquilizers such as Codeine, morphine, Lortab, Vicodin, Tylenol #3, Percocet, or OxyContin?\n",
            "192\n",
            "Do you currently have any health care bills that are being paid off over time?\n",
            "199\n",
            "Do you have one person you think of as your personal doctor or health care provider?\n",
            "202\n",
            "What is the primary source of your health care coverage? Is it…\n"
          ]
        }
      ],
      "source": [
        "for i, col in enumerate(df.columns):\n",
        "  if \"health care\" in col:\n",
        "    print(i)\n",
        "    print(col)"
      ]
    },
    {
      "cell_type": "code",
      "execution_count": null,
      "metadata": {
        "colab": {
          "base_uri": "https://localhost:8080/"
        },
        "id": "a0UCFKH4TSRB",
        "outputId": "9d5c63b4-7c40-4bdf-89e5-91f13603381a"
      },
      "outputs": [
        {
          "output_type": "execute_result",
          "data": {
            "text/plain": [
              "array(['West', 'South East', 'South West', 'East', 'North',\n",
              "       'Nashville Promise Zone'], dtype=object)"
            ]
          },
          "metadata": {},
          "execution_count": 21
        }
      ],
      "source": [
        "df['Zone'].unique()"
      ]
    },
    {
      "cell_type": "code",
      "execution_count": null,
      "metadata": {
        "colab": {
          "base_uri": "https://localhost:8080/"
        },
        "id": "-2DN2jktIMdV",
        "outputId": "5317f017-c665-4df3-c336-42305a4a6bb8"
      },
      "outputs": [
        {
          "output_type": "execute_result",
          "data": {
            "text/plain": [
              "array(['English', 'Spanish'], dtype=object)"
            ]
          },
          "metadata": {},
          "execution_count": 22
        }
      ],
      "source": [
        "df['Vlanguage'].unique()"
      ]
    },
    {
      "cell_type": "code",
      "execution_count": null,
      "metadata": {
        "colab": {
          "base_uri": "https://localhost:8080/"
        },
        "id": "ODHYtJu5IWIE",
        "outputId": "c1dc86b3-08ed-4467-a654-480116d7087f"
      },
      "outputs": [
        {
          "output_type": "execute_result",
          "data": {
            "text/plain": [
              "array([nan,  1.,  4.,  2.,  3.,  5.])"
            ]
          },
          "metadata": {},
          "execution_count": 23
        }
      ],
      "source": [
        "df['DEVICE'].unique()"
      ]
    },
    {
      "cell_type": "code",
      "execution_count": null,
      "metadata": {
        "id": "60aZCHkRJoSJ"
      },
      "outputs": [],
      "source": [
        "transportation_to_healthy_foods_list = df[transportation_to_healthy_foods].unique()"
      ]
    },
    {
      "cell_type": "code",
      "execution_count": null,
      "metadata": {
        "colab": {
          "base_uri": "https://localhost:8080/"
        },
        "id": "lEx4VF3oplou",
        "outputId": "b490b3fb-a59f-40d0-b39c-771fb72d3ed0"
      },
      "outputs": [
        {
          "output_type": "execute_result",
          "data": {
            "text/plain": [
              "array([ 5., nan,  4.,  3.,  1.,  2.])"
            ]
          },
          "metadata": {},
          "execution_count": 25
        }
      ],
      "source": [
        "transportation_to_healthy_foods_list"
      ]
    },
    {
      "cell_type": "code",
      "execution_count": null,
      "metadata": {
        "colab": {
          "base_uri": "https://localhost:8080/"
        },
        "id": "D1lAtn74It4z",
        "outputId": "7bc28cad-9f61-46ae-f178-926dec5e7676"
      },
      "outputs": [
        {
          "output_type": "execute_result",
          "data": {
            "text/plain": [
              "array([nan, 53., 32.,  0., 57., 34., 35., 97., 60., 30., 77., 70., 50.,\n",
              "        5., 72., 52., 45., 75., 41., 61., 69., 62., 68., 59., 67., 65.,\n",
              "       58., 64., 40., 55., 51., 66., 46., 63., 37., 48., 54., 56., 33.,\n",
              "       43., 38., 39., 49., 42., 44., 47., 17., 26., 29., 19., 28., 25.,\n",
              "       14.,  7., 23., 20., 88., 76., 71., 74., 36., 73.,  1.,  9., 22.,\n",
              "       16., 24., 31., 27., 15., 12., 21.])"
            ]
          },
          "metadata": {},
          "execution_count": 26
        }
      ],
      "source": [
        "df[age_diabetes].unique()"
      ]
    },
    {
      "cell_type": "code",
      "execution_count": null,
      "metadata": {
        "colab": {
          "base_uri": "https://localhost:8080/"
        },
        "id": "EVGqrtbVLk9m",
        "outputId": "6b5b467b-e2a2-44a8-91c4-277a467cf2b5"
      },
      "outputs": [
        {
          "output_type": "execute_result",
          "data": {
            "text/plain": [
              "array([nan,  0.,  1.])"
            ]
          },
          "metadata": {},
          "execution_count": 27
        }
      ],
      "source": [
        "df[health_coverage_problems].unique()"
      ]
    },
    {
      "cell_type": "code",
      "execution_count": null,
      "metadata": {
        "colab": {
          "base_uri": "https://localhost:8080/"
        },
        "id": "nFiyXQGyW0S0",
        "outputId": "607e98b8-e046-4520-8a9f-6a1d2b4729b8"
      },
      "outputs": [
        {
          "output_type": "execute_result",
          "data": {
            "text/plain": [
              "array([    nan,  37211.,  37207.,  37013.,  37216.,  37221.,  37189.,\n",
              "        37205.,  37215.,  37115.,  37218.,  37206.,  37080.,  37076.,\n",
              "        37217.,  37214.,  37208.,  37072.,  37209.,  37027.,  37210.,\n",
              "        37138.,  37220.,  37212.,  37204.,  37143.,  37228.,  99997.,\n",
              "        37203.,  37222.,  37219.,  37127.,  38107.,  37213.,  37201.,\n",
              "        37015.,  37011.,  39207.,  37103.,  32214.,  36138., 372013.,\n",
              "        37135.,  37012.,  37307.,  37064.,  37310.])"
            ]
          },
          "metadata": {},
          "execution_count": 28
        }
      ],
      "source": [
        "df[zip_code].unique()"
      ]
    },
    {
      "cell_type": "code",
      "execution_count": null,
      "metadata": {
        "id": "j8EZVJK6Yp2N"
      },
      "outputs": [],
      "source": [
        "#EXAMPLE of renaming columns\n",
        "sample = {\n",
        "    'really long and annoying column title': [3, 2, 0, 1],\n",
        "    'please do not type this whole column title when you reference it': [0, 3, 7, 3]\n",
        "}\n",
        "df_sample = pd.DataFrame(sample)"
      ]
    },
    {
      "cell_type": "code",
      "execution_count": null,
      "metadata": {
        "colab": {
          "base_uri": "https://localhost:8080/",
          "height": 173
        },
        "id": "A54T6AdlZNkH",
        "outputId": "fcf476a1-200e-4773-c241-a369bb387ce9"
      },
      "outputs": [
        {
          "output_type": "execute_result",
          "data": {
            "text/plain": [
              "   really long and annoying column title  \\\n",
              "0                                      3   \n",
              "1                                      2   \n",
              "2                                      0   \n",
              "3                                      1   \n",
              "\n",
              "   please do not type this whole column title when you reference it  \n",
              "0                                                  0                 \n",
              "1                                                  3                 \n",
              "2                                                  7                 \n",
              "3                                                  3                 "
            ],
            "text/html": [
              "\n",
              "  <div id=\"df-a887a67d-45ab-4ded-8289-ee057947035b\">\n",
              "    <div class=\"colab-df-container\">\n",
              "      <div>\n",
              "<style scoped>\n",
              "    .dataframe tbody tr th:only-of-type {\n",
              "        vertical-align: middle;\n",
              "    }\n",
              "\n",
              "    .dataframe tbody tr th {\n",
              "        vertical-align: top;\n",
              "    }\n",
              "\n",
              "    .dataframe thead th {\n",
              "        text-align: right;\n",
              "    }\n",
              "</style>\n",
              "<table border=\"1\" class=\"dataframe\">\n",
              "  <thead>\n",
              "    <tr style=\"text-align: right;\">\n",
              "      <th></th>\n",
              "      <th>really long and annoying column title</th>\n",
              "      <th>please do not type this whole column title when you reference it</th>\n",
              "    </tr>\n",
              "  </thead>\n",
              "  <tbody>\n",
              "    <tr>\n",
              "      <th>0</th>\n",
              "      <td>3</td>\n",
              "      <td>0</td>\n",
              "    </tr>\n",
              "    <tr>\n",
              "      <th>1</th>\n",
              "      <td>2</td>\n",
              "      <td>3</td>\n",
              "    </tr>\n",
              "    <tr>\n",
              "      <th>2</th>\n",
              "      <td>0</td>\n",
              "      <td>7</td>\n",
              "    </tr>\n",
              "    <tr>\n",
              "      <th>3</th>\n",
              "      <td>1</td>\n",
              "      <td>3</td>\n",
              "    </tr>\n",
              "  </tbody>\n",
              "</table>\n",
              "</div>\n",
              "      <button class=\"colab-df-convert\" onclick=\"convertToInteractive('df-a887a67d-45ab-4ded-8289-ee057947035b')\"\n",
              "              title=\"Convert this dataframe to an interactive table.\"\n",
              "              style=\"display:none;\">\n",
              "        \n",
              "  <svg xmlns=\"http://www.w3.org/2000/svg\" height=\"24px\"viewBox=\"0 0 24 24\"\n",
              "       width=\"24px\">\n",
              "    <path d=\"M0 0h24v24H0V0z\" fill=\"none\"/>\n",
              "    <path d=\"M18.56 5.44l.94 2.06.94-2.06 2.06-.94-2.06-.94-.94-2.06-.94 2.06-2.06.94zm-11 1L8.5 8.5l.94-2.06 2.06-.94-2.06-.94L8.5 2.5l-.94 2.06-2.06.94zm10 10l.94 2.06.94-2.06 2.06-.94-2.06-.94-.94-2.06-.94 2.06-2.06.94z\"/><path d=\"M17.41 7.96l-1.37-1.37c-.4-.4-.92-.59-1.43-.59-.52 0-1.04.2-1.43.59L10.3 9.45l-7.72 7.72c-.78.78-.78 2.05 0 2.83L4 21.41c.39.39.9.59 1.41.59.51 0 1.02-.2 1.41-.59l7.78-7.78 2.81-2.81c.8-.78.8-2.07 0-2.86zM5.41 20L4 18.59l7.72-7.72 1.47 1.35L5.41 20z\"/>\n",
              "  </svg>\n",
              "      </button>\n",
              "      \n",
              "  <style>\n",
              "    .colab-df-container {\n",
              "      display:flex;\n",
              "      flex-wrap:wrap;\n",
              "      gap: 12px;\n",
              "    }\n",
              "\n",
              "    .colab-df-convert {\n",
              "      background-color: #E8F0FE;\n",
              "      border: none;\n",
              "      border-radius: 50%;\n",
              "      cursor: pointer;\n",
              "      display: none;\n",
              "      fill: #1967D2;\n",
              "      height: 32px;\n",
              "      padding: 0 0 0 0;\n",
              "      width: 32px;\n",
              "    }\n",
              "\n",
              "    .colab-df-convert:hover {\n",
              "      background-color: #E2EBFA;\n",
              "      box-shadow: 0px 1px 2px rgba(60, 64, 67, 0.3), 0px 1px 3px 1px rgba(60, 64, 67, 0.15);\n",
              "      fill: #174EA6;\n",
              "    }\n",
              "\n",
              "    [theme=dark] .colab-df-convert {\n",
              "      background-color: #3B4455;\n",
              "      fill: #D2E3FC;\n",
              "    }\n",
              "\n",
              "    [theme=dark] .colab-df-convert:hover {\n",
              "      background-color: #434B5C;\n",
              "      box-shadow: 0px 1px 3px 1px rgba(0, 0, 0, 0.15);\n",
              "      filter: drop-shadow(0px 1px 2px rgba(0, 0, 0, 0.3));\n",
              "      fill: #FFFFFF;\n",
              "    }\n",
              "  </style>\n",
              "\n",
              "      <script>\n",
              "        const buttonEl =\n",
              "          document.querySelector('#df-a887a67d-45ab-4ded-8289-ee057947035b button.colab-df-convert');\n",
              "        buttonEl.style.display =\n",
              "          google.colab.kernel.accessAllowed ? 'block' : 'none';\n",
              "\n",
              "        async function convertToInteractive(key) {\n",
              "          const element = document.querySelector('#df-a887a67d-45ab-4ded-8289-ee057947035b');\n",
              "          const dataTable =\n",
              "            await google.colab.kernel.invokeFunction('convertToInteractive',\n",
              "                                                     [key], {});\n",
              "          if (!dataTable) return;\n",
              "\n",
              "          const docLinkHtml = 'Like what you see? Visit the ' +\n",
              "            '<a target=\"_blank\" href=https://colab.research.google.com/notebooks/data_table.ipynb>data table notebook</a>'\n",
              "            + ' to learn more about interactive tables.';\n",
              "          element.innerHTML = '';\n",
              "          dataTable['output_type'] = 'display_data';\n",
              "          await google.colab.output.renderOutput(dataTable, element);\n",
              "          const docLink = document.createElement('div');\n",
              "          docLink.innerHTML = docLinkHtml;\n",
              "          element.appendChild(docLink);\n",
              "        }\n",
              "      </script>\n",
              "    </div>\n",
              "  </div>\n",
              "  "
            ]
          },
          "metadata": {},
          "execution_count": 30
        }
      ],
      "source": [
        "#EXAMPLE\n",
        "df_sample.head()"
      ]
    },
    {
      "cell_type": "code",
      "execution_count": null,
      "metadata": {
        "colab": {
          "base_uri": "https://localhost:8080/"
        },
        "id": "fCg-GKy6ZOcy",
        "outputId": "54fdcee0-5825-4fa5-c320-25fb5ec563d9"
      },
      "outputs": [
        {
          "output_type": "stream",
          "name": "stdout",
          "text": [
            "really long and annoying column title\n",
            "please do not type this whole column title when you reference it\n"
          ]
        }
      ],
      "source": [
        "#EXAMPLE : what are the current titles\n",
        "print(df_sample.columns[0])\n",
        "print(df_sample.columns[1])"
      ]
    },
    {
      "cell_type": "code",
      "execution_count": null,
      "metadata": {
        "id": "Nt2b74hLZvDg"
      },
      "outputs": [],
      "source": [
        "#EXAMPLE : replace old with new\n",
        "df_sample.rename(columns = {'really long and annoying column title':'short_label', 'please do not type this whole column title when you reference it':'descriptive_label'}, inplace = True)"
      ]
    },
    {
      "cell_type": "code",
      "execution_count": null,
      "metadata": {
        "id": "UL5axOzmag9p"
      },
      "outputs": [],
      "source": [
        "#EXAMPLE : say you want to create a new column\n",
        "df_sample[\"new_col\"] = df_sample[\"short_label\"]*2"
      ]
    },
    {
      "cell_type": "code",
      "execution_count": null,
      "metadata": {
        "colab": {
          "base_uri": "https://localhost:8080/",
          "height": 173
        },
        "id": "_vT6Ax6OcqLB",
        "outputId": "8641618f-53f6-4905-c111-4231f236bcb0"
      },
      "outputs": [
        {
          "output_type": "execute_result",
          "data": {
            "text/plain": [
              "   short_label  descriptive_label  new_col\n",
              "0            3                  0        6\n",
              "1            2                  3        4\n",
              "2            0                  7        0\n",
              "3            1                  3        2"
            ],
            "text/html": [
              "\n",
              "  <div id=\"df-1fdcc58e-83d2-4d83-8b3e-d27261e97c76\">\n",
              "    <div class=\"colab-df-container\">\n",
              "      <div>\n",
              "<style scoped>\n",
              "    .dataframe tbody tr th:only-of-type {\n",
              "        vertical-align: middle;\n",
              "    }\n",
              "\n",
              "    .dataframe tbody tr th {\n",
              "        vertical-align: top;\n",
              "    }\n",
              "\n",
              "    .dataframe thead th {\n",
              "        text-align: right;\n",
              "    }\n",
              "</style>\n",
              "<table border=\"1\" class=\"dataframe\">\n",
              "  <thead>\n",
              "    <tr style=\"text-align: right;\">\n",
              "      <th></th>\n",
              "      <th>short_label</th>\n",
              "      <th>descriptive_label</th>\n",
              "      <th>new_col</th>\n",
              "    </tr>\n",
              "  </thead>\n",
              "  <tbody>\n",
              "    <tr>\n",
              "      <th>0</th>\n",
              "      <td>3</td>\n",
              "      <td>0</td>\n",
              "      <td>6</td>\n",
              "    </tr>\n",
              "    <tr>\n",
              "      <th>1</th>\n",
              "      <td>2</td>\n",
              "      <td>3</td>\n",
              "      <td>4</td>\n",
              "    </tr>\n",
              "    <tr>\n",
              "      <th>2</th>\n",
              "      <td>0</td>\n",
              "      <td>7</td>\n",
              "      <td>0</td>\n",
              "    </tr>\n",
              "    <tr>\n",
              "      <th>3</th>\n",
              "      <td>1</td>\n",
              "      <td>3</td>\n",
              "      <td>2</td>\n",
              "    </tr>\n",
              "  </tbody>\n",
              "</table>\n",
              "</div>\n",
              "      <button class=\"colab-df-convert\" onclick=\"convertToInteractive('df-1fdcc58e-83d2-4d83-8b3e-d27261e97c76')\"\n",
              "              title=\"Convert this dataframe to an interactive table.\"\n",
              "              style=\"display:none;\">\n",
              "        \n",
              "  <svg xmlns=\"http://www.w3.org/2000/svg\" height=\"24px\"viewBox=\"0 0 24 24\"\n",
              "       width=\"24px\">\n",
              "    <path d=\"M0 0h24v24H0V0z\" fill=\"none\"/>\n",
              "    <path d=\"M18.56 5.44l.94 2.06.94-2.06 2.06-.94-2.06-.94-.94-2.06-.94 2.06-2.06.94zm-11 1L8.5 8.5l.94-2.06 2.06-.94-2.06-.94L8.5 2.5l-.94 2.06-2.06.94zm10 10l.94 2.06.94-2.06 2.06-.94-2.06-.94-.94-2.06-.94 2.06-2.06.94z\"/><path d=\"M17.41 7.96l-1.37-1.37c-.4-.4-.92-.59-1.43-.59-.52 0-1.04.2-1.43.59L10.3 9.45l-7.72 7.72c-.78.78-.78 2.05 0 2.83L4 21.41c.39.39.9.59 1.41.59.51 0 1.02-.2 1.41-.59l7.78-7.78 2.81-2.81c.8-.78.8-2.07 0-2.86zM5.41 20L4 18.59l7.72-7.72 1.47 1.35L5.41 20z\"/>\n",
              "  </svg>\n",
              "      </button>\n",
              "      \n",
              "  <style>\n",
              "    .colab-df-container {\n",
              "      display:flex;\n",
              "      flex-wrap:wrap;\n",
              "      gap: 12px;\n",
              "    }\n",
              "\n",
              "    .colab-df-convert {\n",
              "      background-color: #E8F0FE;\n",
              "      border: none;\n",
              "      border-radius: 50%;\n",
              "      cursor: pointer;\n",
              "      display: none;\n",
              "      fill: #1967D2;\n",
              "      height: 32px;\n",
              "      padding: 0 0 0 0;\n",
              "      width: 32px;\n",
              "    }\n",
              "\n",
              "    .colab-df-convert:hover {\n",
              "      background-color: #E2EBFA;\n",
              "      box-shadow: 0px 1px 2px rgba(60, 64, 67, 0.3), 0px 1px 3px 1px rgba(60, 64, 67, 0.15);\n",
              "      fill: #174EA6;\n",
              "    }\n",
              "\n",
              "    [theme=dark] .colab-df-convert {\n",
              "      background-color: #3B4455;\n",
              "      fill: #D2E3FC;\n",
              "    }\n",
              "\n",
              "    [theme=dark] .colab-df-convert:hover {\n",
              "      background-color: #434B5C;\n",
              "      box-shadow: 0px 1px 3px 1px rgba(0, 0, 0, 0.15);\n",
              "      filter: drop-shadow(0px 1px 2px rgba(0, 0, 0, 0.3));\n",
              "      fill: #FFFFFF;\n",
              "    }\n",
              "  </style>\n",
              "\n",
              "      <script>\n",
              "        const buttonEl =\n",
              "          document.querySelector('#df-1fdcc58e-83d2-4d83-8b3e-d27261e97c76 button.colab-df-convert');\n",
              "        buttonEl.style.display =\n",
              "          google.colab.kernel.accessAllowed ? 'block' : 'none';\n",
              "\n",
              "        async function convertToInteractive(key) {\n",
              "          const element = document.querySelector('#df-1fdcc58e-83d2-4d83-8b3e-d27261e97c76');\n",
              "          const dataTable =\n",
              "            await google.colab.kernel.invokeFunction('convertToInteractive',\n",
              "                                                     [key], {});\n",
              "          if (!dataTable) return;\n",
              "\n",
              "          const docLinkHtml = 'Like what you see? Visit the ' +\n",
              "            '<a target=\"_blank\" href=https://colab.research.google.com/notebooks/data_table.ipynb>data table notebook</a>'\n",
              "            + ' to learn more about interactive tables.';\n",
              "          element.innerHTML = '';\n",
              "          dataTable['output_type'] = 'display_data';\n",
              "          await google.colab.output.renderOutput(dataTable, element);\n",
              "          const docLink = document.createElement('div');\n",
              "          docLink.innerHTML = docLinkHtml;\n",
              "          element.appendChild(docLink);\n",
              "        }\n",
              "      </script>\n",
              "    </div>\n",
              "  </div>\n",
              "  "
            ]
          },
          "metadata": {},
          "execution_count": 34
        }
      ],
      "source": [
        "#EXAMPLE : check the updated DF\n",
        "df_sample.head()"
      ]
    },
    {
      "cell_type": "code",
      "execution_count": null,
      "metadata": {
        "id": "6_PzYJGDMz3a"
      },
      "outputs": [],
      "source": [
        "age_diabetes_column = {\n",
        "    'How old were you when you were told you have diabetes, pre- diabetes or gestational diabetes?': [53, 32,  0, 57, 34, 35, 97, 60, 30, 77, 70, 50,\n",
        "        5, 72, 52, 45, 75, 41, 61, 69, 62, 68, 59, 67, 65,\n",
        "       58, 64, 40, 55, 51, 66, 46, 63, 37, 48, 54, 56, 33,\n",
        "       43, 38, 39, 49, 42, 44, 47, 17, 26, 29, 19, 28, 25,\n",
        "       14,  7, 23, 20, 88, 76, 71, 74, 36, 73,  1,  9, 22,\n",
        "       16, 24, 31, 27, 15, 12, 21]\n",
        "}\n",
        "df_age_diabetes = pd.DataFrame(age_diabetes_column)"
      ]
    },
    {
      "cell_type": "code",
      "execution_count": null,
      "metadata": {
        "colab": {
          "base_uri": "https://localhost:8080/",
          "height": 419
        },
        "id": "3dTDETnpOh1x",
        "outputId": "0560f7d0-b29a-45fe-a08c-7e940dcfef5c"
      },
      "outputs": [
        {
          "output_type": "execute_result",
          "data": {
            "text/plain": [
              "    How old were you when you were told you have diabetes, pre- diabetes or gestational diabetes?\n",
              "0                                                  53                                            \n",
              "1                                                  32                                            \n",
              "2                                                   0                                            \n",
              "3                                                  57                                            \n",
              "4                                                  34                                            \n",
              "..                                                ...                                            \n",
              "66                                                 31                                            \n",
              "67                                                 27                                            \n",
              "68                                                 15                                            \n",
              "69                                                 12                                            \n",
              "70                                                 21                                            \n",
              "\n",
              "[71 rows x 1 columns]"
            ],
            "text/html": [
              "\n",
              "  <div id=\"df-e69c4d81-13a7-421b-9881-4d90d3d4e1ea\">\n",
              "    <div class=\"colab-df-container\">\n",
              "      <div>\n",
              "<style scoped>\n",
              "    .dataframe tbody tr th:only-of-type {\n",
              "        vertical-align: middle;\n",
              "    }\n",
              "\n",
              "    .dataframe tbody tr th {\n",
              "        vertical-align: top;\n",
              "    }\n",
              "\n",
              "    .dataframe thead th {\n",
              "        text-align: right;\n",
              "    }\n",
              "</style>\n",
              "<table border=\"1\" class=\"dataframe\">\n",
              "  <thead>\n",
              "    <tr style=\"text-align: right;\">\n",
              "      <th></th>\n",
              "      <th>How old were you when you were told you have diabetes, pre- diabetes or gestational diabetes?</th>\n",
              "    </tr>\n",
              "  </thead>\n",
              "  <tbody>\n",
              "    <tr>\n",
              "      <th>0</th>\n",
              "      <td>53</td>\n",
              "    </tr>\n",
              "    <tr>\n",
              "      <th>1</th>\n",
              "      <td>32</td>\n",
              "    </tr>\n",
              "    <tr>\n",
              "      <th>2</th>\n",
              "      <td>0</td>\n",
              "    </tr>\n",
              "    <tr>\n",
              "      <th>3</th>\n",
              "      <td>57</td>\n",
              "    </tr>\n",
              "    <tr>\n",
              "      <th>4</th>\n",
              "      <td>34</td>\n",
              "    </tr>\n",
              "    <tr>\n",
              "      <th>...</th>\n",
              "      <td>...</td>\n",
              "    </tr>\n",
              "    <tr>\n",
              "      <th>66</th>\n",
              "      <td>31</td>\n",
              "    </tr>\n",
              "    <tr>\n",
              "      <th>67</th>\n",
              "      <td>27</td>\n",
              "    </tr>\n",
              "    <tr>\n",
              "      <th>68</th>\n",
              "      <td>15</td>\n",
              "    </tr>\n",
              "    <tr>\n",
              "      <th>69</th>\n",
              "      <td>12</td>\n",
              "    </tr>\n",
              "    <tr>\n",
              "      <th>70</th>\n",
              "      <td>21</td>\n",
              "    </tr>\n",
              "  </tbody>\n",
              "</table>\n",
              "<p>71 rows × 1 columns</p>\n",
              "</div>\n",
              "      <button class=\"colab-df-convert\" onclick=\"convertToInteractive('df-e69c4d81-13a7-421b-9881-4d90d3d4e1ea')\"\n",
              "              title=\"Convert this dataframe to an interactive table.\"\n",
              "              style=\"display:none;\">\n",
              "        \n",
              "  <svg xmlns=\"http://www.w3.org/2000/svg\" height=\"24px\"viewBox=\"0 0 24 24\"\n",
              "       width=\"24px\">\n",
              "    <path d=\"M0 0h24v24H0V0z\" fill=\"none\"/>\n",
              "    <path d=\"M18.56 5.44l.94 2.06.94-2.06 2.06-.94-2.06-.94-.94-2.06-.94 2.06-2.06.94zm-11 1L8.5 8.5l.94-2.06 2.06-.94-2.06-.94L8.5 2.5l-.94 2.06-2.06.94zm10 10l.94 2.06.94-2.06 2.06-.94-2.06-.94-.94-2.06-.94 2.06-2.06.94z\"/><path d=\"M17.41 7.96l-1.37-1.37c-.4-.4-.92-.59-1.43-.59-.52 0-1.04.2-1.43.59L10.3 9.45l-7.72 7.72c-.78.78-.78 2.05 0 2.83L4 21.41c.39.39.9.59 1.41.59.51 0 1.02-.2 1.41-.59l7.78-7.78 2.81-2.81c.8-.78.8-2.07 0-2.86zM5.41 20L4 18.59l7.72-7.72 1.47 1.35L5.41 20z\"/>\n",
              "  </svg>\n",
              "      </button>\n",
              "      \n",
              "  <style>\n",
              "    .colab-df-container {\n",
              "      display:flex;\n",
              "      flex-wrap:wrap;\n",
              "      gap: 12px;\n",
              "    }\n",
              "\n",
              "    .colab-df-convert {\n",
              "      background-color: #E8F0FE;\n",
              "      border: none;\n",
              "      border-radius: 50%;\n",
              "      cursor: pointer;\n",
              "      display: none;\n",
              "      fill: #1967D2;\n",
              "      height: 32px;\n",
              "      padding: 0 0 0 0;\n",
              "      width: 32px;\n",
              "    }\n",
              "\n",
              "    .colab-df-convert:hover {\n",
              "      background-color: #E2EBFA;\n",
              "      box-shadow: 0px 1px 2px rgba(60, 64, 67, 0.3), 0px 1px 3px 1px rgba(60, 64, 67, 0.15);\n",
              "      fill: #174EA6;\n",
              "    }\n",
              "\n",
              "    [theme=dark] .colab-df-convert {\n",
              "      background-color: #3B4455;\n",
              "      fill: #D2E3FC;\n",
              "    }\n",
              "\n",
              "    [theme=dark] .colab-df-convert:hover {\n",
              "      background-color: #434B5C;\n",
              "      box-shadow: 0px 1px 3px 1px rgba(0, 0, 0, 0.15);\n",
              "      filter: drop-shadow(0px 1px 2px rgba(0, 0, 0, 0.3));\n",
              "      fill: #FFFFFF;\n",
              "    }\n",
              "  </style>\n",
              "\n",
              "      <script>\n",
              "        const buttonEl =\n",
              "          document.querySelector('#df-e69c4d81-13a7-421b-9881-4d90d3d4e1ea button.colab-df-convert');\n",
              "        buttonEl.style.display =\n",
              "          google.colab.kernel.accessAllowed ? 'block' : 'none';\n",
              "\n",
              "        async function convertToInteractive(key) {\n",
              "          const element = document.querySelector('#df-e69c4d81-13a7-421b-9881-4d90d3d4e1ea');\n",
              "          const dataTable =\n",
              "            await google.colab.kernel.invokeFunction('convertToInteractive',\n",
              "                                                     [key], {});\n",
              "          if (!dataTable) return;\n",
              "\n",
              "          const docLinkHtml = 'Like what you see? Visit the ' +\n",
              "            '<a target=\"_blank\" href=https://colab.research.google.com/notebooks/data_table.ipynb>data table notebook</a>'\n",
              "            + ' to learn more about interactive tables.';\n",
              "          element.innerHTML = '';\n",
              "          dataTable['output_type'] = 'display_data';\n",
              "          await google.colab.output.renderOutput(dataTable, element);\n",
              "          const docLink = document.createElement('div');\n",
              "          docLink.innerHTML = docLinkHtml;\n",
              "          element.appendChild(docLink);\n",
              "        }\n",
              "      </script>\n",
              "    </div>\n",
              "  </div>\n",
              "  "
            ]
          },
          "metadata": {},
          "execution_count": 36
        }
      ],
      "source": [
        "df_age_diabetes"
      ]
    },
    {
      "cell_type": "code",
      "execution_count": null,
      "metadata": {
        "id": "KT3IdohOOoI5"
      },
      "outputs": [],
      "source": [
        "#df.rename(columns= {'How old were you when you were told you have diabetes, pre- diabetes or gestational diabetes?':'Age Of People When They Got Diabetes'}, inplace = True)"
      ]
    },
    {
      "cell_type": "code",
      "execution_count": null,
      "metadata": {
        "id": "qv99YttBP-C2"
      },
      "outputs": [],
      "source": [
        "age_diabetes = 'How old were you when you were told you have diabetes, pre- diabetes or gestational diabetes?'"
      ]
    },
    {
      "cell_type": "code",
      "execution_count": null,
      "metadata": {
        "colab": {
          "base_uri": "https://localhost:8080/"
        },
        "id": "QFnz__1dQBru",
        "outputId": "fe49712a-96a9-40d7-b043-26151da9d89a"
      },
      "outputs": [
        {
          "output_type": "execute_result",
          "data": {
            "text/plain": [
              "0        NaN\n",
              "1       53.0\n",
              "2        NaN\n",
              "3       32.0\n",
              "4        NaN\n",
              "        ... \n",
              "1800     NaN\n",
              "1801     NaN\n",
              "1802     NaN\n",
              "1803     NaN\n",
              "1804     NaN\n",
              "Name: How old were you when you were told you have diabetes, pre- diabetes or gestational diabetes?, Length: 1805, dtype: float64"
            ]
          },
          "metadata": {},
          "execution_count": 39
        }
      ],
      "source": [
        "df[age_diabetes]"
      ]
    },
    {
      "cell_type": "code",
      "execution_count": null,
      "metadata": {
        "colab": {
          "base_uri": "https://localhost:8080/",
          "height": 841
        },
        "id": "_1KirZ_LRLoW",
        "outputId": "813d5d3f-8e5c-4ad7-8dcf-0568def321e7"
      },
      "outputs": [
        {
          "output_type": "execute_result",
          "data": {
            "text/plain": [
              "   Unnamed: 0        Zone  CaseID Vlanguage  TYPE_QX DEVICE_SPECIFY  DEVICE  \\\n",
              "0           0        West  100036   English        1            NaN     NaN   \n",
              "1           1  South East  100072   English        1            NaN     NaN   \n",
              "2           2  South East  101071   English        1            NaN     1.0   \n",
              "3           3  South East  103738   English        1            NaN     NaN   \n",
              "4           4  South East  103752   English        1            NaN     NaN   \n",
              "\n",
              "  smp_ord_STID  var300O1233  var300O1232  ...  \\\n",
              "0            2          NaN          NaN  ...   \n",
              "1            1          NaN          NaN  ...   \n",
              "2            1          1.0          1.0  ...   \n",
              "3            2          NaN          NaN  ...   \n",
              "4            3          NaN          NaN  ...   \n",
              "\n",
              "   About how long has it been since you last visited a doctor for a routine checkup? A routine checkup is a general physical exam, not an exam for a specific injury, illness, or condition.  \\\n",
              "0                                                1.0                                                                                                                                           \n",
              "1                                                1.0                                                                                                                                           \n",
              "2                                                1.0                                                                                                                                           \n",
              "3                                                1.0                                                                                                                                           \n",
              "4                                                4.0                                                                                                                                           \n",
              "\n",
              "   Other than cost), have you delayed getting needed medical care for any of the following reasons in the past 12 months?   \\\n",
              "0                                                6.0                                                                         \n",
              "1                                                2.0                                                                         \n",
              "2                                                7.0                                                                         \n",
              "3                                                7.0                                                                         \n",
              "4                                                7.0                                                                         \n",
              "\n",
              "   Was there a time in the past 12 months when you needed to see a doctor but could not because of cost?  \\\n",
              "0                                                2.0                                                       \n",
              "1                                                2.0                                                       \n",
              "2                                                2.0                                                       \n",
              "3                                                2.0                                                       \n",
              "4                                                2.0                                                       \n",
              "\n",
              "   Do you have one person you think of as your personal doctor or health care provider?  \\\n",
              "0                                                1.0                                      \n",
              "1                                                1.0                                      \n",
              "2                                                1.0                                      \n",
              "3                                                1.0                                      \n",
              "4                                                2.0                                      \n",
              "\n",
              "   In the past 12 months was there any time when you did not have any health insurance or coverage?  \\\n",
              "0                                                2.0                                                  \n",
              "1                                                2.0                                                  \n",
              "2                                                2.0                                                  \n",
              "3                                                2.0                                                  \n",
              "4                                                2.0                                                  \n",
              "\n",
              "   Do you have Medicare?  \\\n",
              "0                    1.0   \n",
              "1                    2.0   \n",
              "2                    NaN   \n",
              "3                    2.0   \n",
              "4                    2.0   \n",
              "\n",
              "  What is the primary source of your health care coverage? Is it…  \\\n",
              "0                                                1.0                \n",
              "1                                                1.0                \n",
              "2                                                3.0                \n",
              "3                                                4.0                \n",
              "4                                                2.0                \n",
              "\n",
              "   Now thinking about your mental health, which includes stress, depression, and problems with emotions, for how many days during the past 30 days was your mental health not good? (Please specify a number between 0 and 30.)  \\\n",
              "0                                                5.0                                                                                                                                                                              \n",
              "1                                                0.0                                                                                                                                                                              \n",
              "2                                                0.0                                                                                                                                                                              \n",
              "3                                                2.0                                                                                                                                                                              \n",
              "4                                                0.0                                                                                                                                                                              \n",
              "\n",
              "   Now thinking about your physical health, which includes physical illness and njury, for how many days during the past 30 days was your physical health not good? (Please specify a number between 0 and 30.)  \\\n",
              "0                                               20.0                                                                                                                                                              \n",
              "1                                                0.0                                                                                                                                                              \n",
              "2                                                0.0                                                                                                                                                              \n",
              "3                                                4.0                                                                                                                                                              \n",
              "4                                                1.0                                                                                                                                                              \n",
              "\n",
              "   Let's begin with some basic questions about your health. Would you say that in general your health is:  \n",
              "0                                                3.0                                                       \n",
              "1                                                3.0                                                       \n",
              "2                                                2.0                                                       \n",
              "3                                                3.0                                                       \n",
              "4                                                1.0                                                       \n",
              "\n",
              "[5 rows x 206 columns]"
            ],
            "text/html": [
              "\n",
              "  <div id=\"df-bf01d2ba-0f28-4e24-81f4-140e561b22a2\">\n",
              "    <div class=\"colab-df-container\">\n",
              "      <div>\n",
              "<style scoped>\n",
              "    .dataframe tbody tr th:only-of-type {\n",
              "        vertical-align: middle;\n",
              "    }\n",
              "\n",
              "    .dataframe tbody tr th {\n",
              "        vertical-align: top;\n",
              "    }\n",
              "\n",
              "    .dataframe thead th {\n",
              "        text-align: right;\n",
              "    }\n",
              "</style>\n",
              "<table border=\"1\" class=\"dataframe\">\n",
              "  <thead>\n",
              "    <tr style=\"text-align: right;\">\n",
              "      <th></th>\n",
              "      <th>Unnamed: 0</th>\n",
              "      <th>Zone</th>\n",
              "      <th>CaseID</th>\n",
              "      <th>Vlanguage</th>\n",
              "      <th>TYPE_QX</th>\n",
              "      <th>DEVICE_SPECIFY</th>\n",
              "      <th>DEVICE</th>\n",
              "      <th>smp_ord_STID</th>\n",
              "      <th>var300O1233</th>\n",
              "      <th>var300O1232</th>\n",
              "      <th>...</th>\n",
              "      <th>About how long has it been since you last visited a doctor for a routine checkup? A routine checkup is a general physical exam, not an exam for a specific injury, illness, or condition.</th>\n",
              "      <th>Other than cost), have you delayed getting needed medical care for any of the following reasons in the past 12 months?</th>\n",
              "      <th>Was there a time in the past 12 months when you needed to see a doctor but could not because of cost?</th>\n",
              "      <th>Do you have one person you think of as your personal doctor or health care provider?</th>\n",
              "      <th>In the past 12 months was there any time when you did not have any health insurance or coverage?</th>\n",
              "      <th>Do you have Medicare?</th>\n",
              "      <th>What is the primary source of your health care coverage? Is it…</th>\n",
              "      <th>Now thinking about your mental health, which includes stress, depression, and problems with emotions, for how many days during the past 30 days was your mental health not good? (Please specify a number between 0 and 30.)</th>\n",
              "      <th>Now thinking about your physical health, which includes physical illness and njury, for how many days during the past 30 days was your physical health not good? (Please specify a number between 0 and 30.)</th>\n",
              "      <th>Let's begin with some basic questions about your health. Would you say that in general your health is:</th>\n",
              "    </tr>\n",
              "  </thead>\n",
              "  <tbody>\n",
              "    <tr>\n",
              "      <th>0</th>\n",
              "      <td>0</td>\n",
              "      <td>West</td>\n",
              "      <td>100036</td>\n",
              "      <td>English</td>\n",
              "      <td>1</td>\n",
              "      <td>NaN</td>\n",
              "      <td>NaN</td>\n",
              "      <td>2</td>\n",
              "      <td>NaN</td>\n",
              "      <td>NaN</td>\n",
              "      <td>...</td>\n",
              "      <td>1.0</td>\n",
              "      <td>6.0</td>\n",
              "      <td>2.0</td>\n",
              "      <td>1.0</td>\n",
              "      <td>2.0</td>\n",
              "      <td>1.0</td>\n",
              "      <td>1.0</td>\n",
              "      <td>5.0</td>\n",
              "      <td>20.0</td>\n",
              "      <td>3.0</td>\n",
              "    </tr>\n",
              "    <tr>\n",
              "      <th>1</th>\n",
              "      <td>1</td>\n",
              "      <td>South East</td>\n",
              "      <td>100072</td>\n",
              "      <td>English</td>\n",
              "      <td>1</td>\n",
              "      <td>NaN</td>\n",
              "      <td>NaN</td>\n",
              "      <td>1</td>\n",
              "      <td>NaN</td>\n",
              "      <td>NaN</td>\n",
              "      <td>...</td>\n",
              "      <td>1.0</td>\n",
              "      <td>2.0</td>\n",
              "      <td>2.0</td>\n",
              "      <td>1.0</td>\n",
              "      <td>2.0</td>\n",
              "      <td>2.0</td>\n",
              "      <td>1.0</td>\n",
              "      <td>0.0</td>\n",
              "      <td>0.0</td>\n",
              "      <td>3.0</td>\n",
              "    </tr>\n",
              "    <tr>\n",
              "      <th>2</th>\n",
              "      <td>2</td>\n",
              "      <td>South East</td>\n",
              "      <td>101071</td>\n",
              "      <td>English</td>\n",
              "      <td>1</td>\n",
              "      <td>NaN</td>\n",
              "      <td>1.0</td>\n",
              "      <td>1</td>\n",
              "      <td>1.0</td>\n",
              "      <td>1.0</td>\n",
              "      <td>...</td>\n",
              "      <td>1.0</td>\n",
              "      <td>7.0</td>\n",
              "      <td>2.0</td>\n",
              "      <td>1.0</td>\n",
              "      <td>2.0</td>\n",
              "      <td>NaN</td>\n",
              "      <td>3.0</td>\n",
              "      <td>0.0</td>\n",
              "      <td>0.0</td>\n",
              "      <td>2.0</td>\n",
              "    </tr>\n",
              "    <tr>\n",
              "      <th>3</th>\n",
              "      <td>3</td>\n",
              "      <td>South East</td>\n",
              "      <td>103738</td>\n",
              "      <td>English</td>\n",
              "      <td>1</td>\n",
              "      <td>NaN</td>\n",
              "      <td>NaN</td>\n",
              "      <td>2</td>\n",
              "      <td>NaN</td>\n",
              "      <td>NaN</td>\n",
              "      <td>...</td>\n",
              "      <td>1.0</td>\n",
              "      <td>7.0</td>\n",
              "      <td>2.0</td>\n",
              "      <td>1.0</td>\n",
              "      <td>2.0</td>\n",
              "      <td>2.0</td>\n",
              "      <td>4.0</td>\n",
              "      <td>2.0</td>\n",
              "      <td>4.0</td>\n",
              "      <td>3.0</td>\n",
              "    </tr>\n",
              "    <tr>\n",
              "      <th>4</th>\n",
              "      <td>4</td>\n",
              "      <td>South East</td>\n",
              "      <td>103752</td>\n",
              "      <td>English</td>\n",
              "      <td>1</td>\n",
              "      <td>NaN</td>\n",
              "      <td>NaN</td>\n",
              "      <td>3</td>\n",
              "      <td>NaN</td>\n",
              "      <td>NaN</td>\n",
              "      <td>...</td>\n",
              "      <td>4.0</td>\n",
              "      <td>7.0</td>\n",
              "      <td>2.0</td>\n",
              "      <td>2.0</td>\n",
              "      <td>2.0</td>\n",
              "      <td>2.0</td>\n",
              "      <td>2.0</td>\n",
              "      <td>0.0</td>\n",
              "      <td>1.0</td>\n",
              "      <td>1.0</td>\n",
              "    </tr>\n",
              "  </tbody>\n",
              "</table>\n",
              "<p>5 rows × 206 columns</p>\n",
              "</div>\n",
              "      <button class=\"colab-df-convert\" onclick=\"convertToInteractive('df-bf01d2ba-0f28-4e24-81f4-140e561b22a2')\"\n",
              "              title=\"Convert this dataframe to an interactive table.\"\n",
              "              style=\"display:none;\">\n",
              "        \n",
              "  <svg xmlns=\"http://www.w3.org/2000/svg\" height=\"24px\"viewBox=\"0 0 24 24\"\n",
              "       width=\"24px\">\n",
              "    <path d=\"M0 0h24v24H0V0z\" fill=\"none\"/>\n",
              "    <path d=\"M18.56 5.44l.94 2.06.94-2.06 2.06-.94-2.06-.94-.94-2.06-.94 2.06-2.06.94zm-11 1L8.5 8.5l.94-2.06 2.06-.94-2.06-.94L8.5 2.5l-.94 2.06-2.06.94zm10 10l.94 2.06.94-2.06 2.06-.94-2.06-.94-.94-2.06-.94 2.06-2.06.94z\"/><path d=\"M17.41 7.96l-1.37-1.37c-.4-.4-.92-.59-1.43-.59-.52 0-1.04.2-1.43.59L10.3 9.45l-7.72 7.72c-.78.78-.78 2.05 0 2.83L4 21.41c.39.39.9.59 1.41.59.51 0 1.02-.2 1.41-.59l7.78-7.78 2.81-2.81c.8-.78.8-2.07 0-2.86zM5.41 20L4 18.59l7.72-7.72 1.47 1.35L5.41 20z\"/>\n",
              "  </svg>\n",
              "      </button>\n",
              "      \n",
              "  <style>\n",
              "    .colab-df-container {\n",
              "      display:flex;\n",
              "      flex-wrap:wrap;\n",
              "      gap: 12px;\n",
              "    }\n",
              "\n",
              "    .colab-df-convert {\n",
              "      background-color: #E8F0FE;\n",
              "      border: none;\n",
              "      border-radius: 50%;\n",
              "      cursor: pointer;\n",
              "      display: none;\n",
              "      fill: #1967D2;\n",
              "      height: 32px;\n",
              "      padding: 0 0 0 0;\n",
              "      width: 32px;\n",
              "    }\n",
              "\n",
              "    .colab-df-convert:hover {\n",
              "      background-color: #E2EBFA;\n",
              "      box-shadow: 0px 1px 2px rgba(60, 64, 67, 0.3), 0px 1px 3px 1px rgba(60, 64, 67, 0.15);\n",
              "      fill: #174EA6;\n",
              "    }\n",
              "\n",
              "    [theme=dark] .colab-df-convert {\n",
              "      background-color: #3B4455;\n",
              "      fill: #D2E3FC;\n",
              "    }\n",
              "\n",
              "    [theme=dark] .colab-df-convert:hover {\n",
              "      background-color: #434B5C;\n",
              "      box-shadow: 0px 1px 3px 1px rgba(0, 0, 0, 0.15);\n",
              "      filter: drop-shadow(0px 1px 2px rgba(0, 0, 0, 0.3));\n",
              "      fill: #FFFFFF;\n",
              "    }\n",
              "  </style>\n",
              "\n",
              "      <script>\n",
              "        const buttonEl =\n",
              "          document.querySelector('#df-bf01d2ba-0f28-4e24-81f4-140e561b22a2 button.colab-df-convert');\n",
              "        buttonEl.style.display =\n",
              "          google.colab.kernel.accessAllowed ? 'block' : 'none';\n",
              "\n",
              "        async function convertToInteractive(key) {\n",
              "          const element = document.querySelector('#df-bf01d2ba-0f28-4e24-81f4-140e561b22a2');\n",
              "          const dataTable =\n",
              "            await google.colab.kernel.invokeFunction('convertToInteractive',\n",
              "                                                     [key], {});\n",
              "          if (!dataTable) return;\n",
              "\n",
              "          const docLinkHtml = 'Like what you see? Visit the ' +\n",
              "            '<a target=\"_blank\" href=https://colab.research.google.com/notebooks/data_table.ipynb>data table notebook</a>'\n",
              "            + ' to learn more about interactive tables.';\n",
              "          element.innerHTML = '';\n",
              "          dataTable['output_type'] = 'display_data';\n",
              "          await google.colab.output.renderOutput(dataTable, element);\n",
              "          const docLink = document.createElement('div');\n",
              "          docLink.innerHTML = docLinkHtml;\n",
              "          element.appendChild(docLink);\n",
              "        }\n",
              "      </script>\n",
              "    </div>\n",
              "  </div>\n",
              "  "
            ]
          },
          "metadata": {},
          "execution_count": 40
        }
      ],
      "source": [
        "df.head()"
      ]
    },
    {
      "cell_type": "code",
      "execution_count": null,
      "metadata": {
        "colab": {
          "base_uri": "https://localhost:8080/"
        },
        "id": "KqHhqxTqTG74",
        "outputId": "76f2a559-a870-41fd-f8b0-5345eee2f364"
      },
      "outputs": [
        {
          "output_type": "stream",
          "name": "stdout",
          "text": [
            "English: 1779, Spanish: 26\n"
          ]
        }
      ],
      "source": [
        "print(f\"English: {len(df[df['Vlanguage']=='English'])}, Spanish: {len(df[df['Vlanguage']=='Spanish'])}\")"
      ]
    },
    {
      "cell_type": "code",
      "execution_count": null,
      "metadata": {
        "colab": {
          "base_uri": "https://localhost:8080/"
        },
        "id": "dqImF2IFZvH9",
        "outputId": "eae30a51-1651-4416-9646-f7fdbfb553a9"
      },
      "outputs": [
        {
          "output_type": "execute_result",
          "data": {
            "text/plain": [
              "array([    nan,  37211.,  37207.,  37013.,  37216.,  37221.,  37189.,\n",
              "        37205.,  37215.,  37115.,  37218.,  37206.,  37080.,  37076.,\n",
              "        37217.,  37214.,  37208.,  37072.,  37209.,  37027.,  37210.,\n",
              "        37138.,  37220.,  37212.,  37204.,  37143.,  37228.,  99997.,\n",
              "        37203.,  37222.,  37219.,  37127.,  38107.,  37213.,  37201.,\n",
              "        37015.,  37011.,  39207.,  37103.,  32214.,  36138., 372013.,\n",
              "        37135.,  37012.,  37307.,  37064.,  37310.])"
            ]
          },
          "metadata": {},
          "execution_count": 42
        }
      ],
      "source": [
        "df[zip_code].unique()"
      ]
    },
    {
      "cell_type": "code",
      "execution_count": null,
      "metadata": {
        "colab": {
          "base_uri": "https://localhost:8080/"
        },
        "id": "Q-Cm9hLfYM_E",
        "outputId": "d8d5b911-f386-4cc6-c6b8-2b52619e872d"
      },
      "outputs": [
        {
          "output_type": "stream",
          "name": "stdout",
          "text": [
            "What is the ZIP Code where you currently live? (Please specify) \n",
            "10\n"
          ]
        },
        {
          "output_type": "execute_result",
          "data": {
            "text/plain": [
              "0           NaN\n",
              "1           NaN\n",
              "2       37211.0\n",
              "3           NaN\n",
              "4           NaN\n",
              "         ...   \n",
              "1800    37013.0\n",
              "1801    37013.0\n",
              "1802    37211.0\n",
              "1803    99997.0\n",
              "1804    37115.0\n",
              "Name: What is the ZIP Code where you currently live? (Please specify) , Length: 1805, dtype: float64"
            ]
          },
          "metadata": {},
          "execution_count": 43
        }
      ],
      "source": [
        "for i, col in enumerate(df.columns):\n",
        "  if \"ZIP\" in col:\n",
        "    print(col)\n",
        "    print(i)\n",
        "    zipcodestring = col\n",
        "\n",
        "df[zipcodestring]"
      ]
    },
    {
      "cell_type": "code",
      "execution_count": null,
      "metadata": {
        "colab": {
          "base_uri": "https://localhost:8080/"
        },
        "id": "OsSXqUqxYHnB",
        "outputId": "8f64fbea-4024-439c-94f7-2dc5fef0eefe"
      },
      "outputs": [
        {
          "output_type": "execute_result",
          "data": {
            "text/plain": [
              "214"
            ]
          },
          "metadata": {},
          "execution_count": 44
        }
      ],
      "source": [
        "len(df[df[zipcodestring]==37211])"
      ]
    },
    {
      "cell_type": "code",
      "execution_count": null,
      "metadata": {
        "colab": {
          "base_uri": "https://localhost:8080/"
        },
        "id": "-kWqsURAT2tx",
        "outputId": "d7ea0661-7130-4078-c5be-9a20be693839"
      },
      "outputs": [
        {
          "output_type": "stream",
          "name": "stdout",
          "text": [
            "37211: 214\n"
          ]
        }
      ],
      "source": [
        "print(f\"37211: {len(df[df[zipcodestring]==37211])}\")"
      ]
    },
    {
      "cell_type": "code",
      "execution_count": null,
      "metadata": {
        "colab": {
          "base_uri": "https://localhost:8080/"
        },
        "id": "X-1of-7BZgYm",
        "outputId": "61049af9-fec7-4702-c86d-75f73768b710"
      },
      "outputs": [
        {
          "output_type": "stream",
          "name": "stdout",
          "text": [
            "37207: 115\n"
          ]
        }
      ],
      "source": [
        "print(f\"37207: {len(df[df[zipcodestring]==37207])}\")"
      ]
    },
    {
      "cell_type": "code",
      "execution_count": null,
      "metadata": {
        "colab": {
          "base_uri": "https://localhost:8080/"
        },
        "id": "ZyU2xSMgZ0mD",
        "outputId": "08e030d1-c2b8-4198-8bc8-30ddf77e658d"
      },
      "outputs": [
        {
          "output_type": "stream",
          "name": "stdout",
          "text": [
            "37013: 215\n"
          ]
        }
      ],
      "source": [
        "print(f\"37013: {len(df[df[zipcodestring]==37013])}\")"
      ]
    },
    {
      "cell_type": "code",
      "execution_count": null,
      "metadata": {
        "colab": {
          "base_uri": "https://localhost:8080/"
        },
        "id": "CwmgmhWBZ7j8",
        "outputId": "8f0f00dc-c363-4504-f82a-8f5936be99ab"
      },
      "outputs": [
        {
          "output_type": "stream",
          "name": "stdout",
          "text": [
            "37216: 52\n"
          ]
        }
      ],
      "source": [
        "print(f\"37216: {len(df[df[zipcodestring]==37216])}\")"
      ]
    },
    {
      "cell_type": "code",
      "execution_count": null,
      "metadata": {
        "colab": {
          "base_uri": "https://localhost:8080/"
        },
        "id": "L33hxVI8aABY",
        "outputId": "86099d3f-c8a3-458f-eb8e-bc891c354aa1"
      },
      "outputs": [
        {
          "output_type": "stream",
          "name": "stdout",
          "text": [
            "37221: 109\n"
          ]
        }
      ],
      "source": [
        "print(f\"37221: {len(df[df[zipcodestring]==37221])}\")"
      ]
    },
    {
      "cell_type": "code",
      "execution_count": null,
      "metadata": {
        "colab": {
          "base_uri": "https://localhost:8080/"
        },
        "id": "1Y_dYqcaaD9c",
        "outputId": "4aff8138-ab8e-4772-96a2-ba28f5fc6406"
      },
      "outputs": [
        {
          "output_type": "stream",
          "name": "stdout",
          "text": [
            "37189: 12\n"
          ]
        }
      ],
      "source": [
        "print(f\"37189: {len(df[df[zipcodestring]==37189])}\")"
      ]
    },
    {
      "cell_type": "code",
      "execution_count": null,
      "metadata": {
        "colab": {
          "base_uri": "https://localhost:8080/"
        },
        "id": "RBUzm9y_aQn1",
        "outputId": "4fe7a459-8728-4e7c-eae2-e83c211251e7"
      },
      "outputs": [
        {
          "output_type": "stream",
          "name": "stdout",
          "text": [
            "37205: 67\n"
          ]
        }
      ],
      "source": [
        "print(f\"37205: {len(df[df[zipcodestring]==37205])}\")"
      ]
    },
    {
      "cell_type": "code",
      "execution_count": null,
      "metadata": {
        "colab": {
          "base_uri": "https://localhost:8080/"
        },
        "id": "ZNJGSinAaXbm",
        "outputId": "3bd3038b-6f87-4285-c31d-a49cd7e28443"
      },
      "outputs": [
        {
          "output_type": "stream",
          "name": "stdout",
          "text": [
            "37215: 55\n"
          ]
        }
      ],
      "source": [
        "print(f\"37215: {len(df[df[zipcodestring]==37215])}\")"
      ]
    },
    {
      "cell_type": "code",
      "execution_count": null,
      "metadata": {
        "colab": {
          "base_uri": "https://localhost:8080/"
        },
        "id": "7ABXeDjpabSw",
        "outputId": "c095dffb-c5aa-4772-a8c5-5b5210a0f6f8"
      },
      "outputs": [
        {
          "output_type": "stream",
          "name": "stdout",
          "text": [
            "37115: 85\n"
          ]
        }
      ],
      "source": [
        " print(f\"37115: {len(df[df[zipcodestring]==37115])}\")"
      ]
    },
    {
      "cell_type": "code",
      "execution_count": null,
      "metadata": {
        "colab": {
          "base_uri": "https://localhost:8080/"
        },
        "id": "t5sTHG50bBJG",
        "outputId": "f9f1f31f-ab04-41e0-bd94-6eab5e4ff5dc"
      },
      "outputs": [
        {
          "output_type": "stream",
          "name": "stdout",
          "text": [
            "37218: 63\n"
          ]
        }
      ],
      "source": [
        " print(f\"37218: {len(df[df[zipcodestring]==37218])}\")"
      ]
    },
    {
      "cell_type": "code",
      "execution_count": null,
      "metadata": {
        "colab": {
          "base_uri": "https://localhost:8080/"
        },
        "id": "gLj5f3d4bYd0",
        "outputId": "f7500970-d4b7-4a3f-a125-84f8c62f5fc6"
      },
      "outputs": [
        {
          "output_type": "stream",
          "name": "stdout",
          "text": [
            "37206: 65\n"
          ]
        }
      ],
      "source": [
        " print(f\"37206: {len(df[df[zipcodestring]==37206])}\")"
      ]
    },
    {
      "cell_type": "code",
      "execution_count": null,
      "metadata": {
        "colab": {
          "base_uri": "https://localhost:8080/"
        },
        "id": "zZjGdjbJbk6H",
        "outputId": "ca77d87e-b079-4ed5-b866-248d77712be1"
      },
      "outputs": [
        {
          "output_type": "stream",
          "name": "stdout",
          "text": [
            "37080: 9\n"
          ]
        }
      ],
      "source": [
        " print(f\"37080: {len(df[df[zipcodestring]==37080])}\")"
      ]
    },
    {
      "cell_type": "code",
      "execution_count": null,
      "metadata": {
        "colab": {
          "base_uri": "https://localhost:8080/"
        },
        "id": "xNSgU4dSbp8V",
        "outputId": "a0d7e5c9-768d-4170-a7b3-5c61bb9317b4"
      },
      "outputs": [
        {
          "output_type": "stream",
          "name": "stdout",
          "text": [
            "37076: 70\n"
          ]
        }
      ],
      "source": [
        " print(f\"37076: {len(df[df[zipcodestring]==37076])}\")"
      ]
    },
    {
      "cell_type": "code",
      "execution_count": null,
      "metadata": {
        "colab": {
          "base_uri": "https://localhost:8080/"
        },
        "id": "g7sC4AS9btYl",
        "outputId": "1e574a54-f6ea-47eb-d3fb-ccf0f4d21fc3"
      },
      "outputs": [
        {
          "output_type": "stream",
          "name": "stdout",
          "text": [
            "37217: 97\n"
          ]
        }
      ],
      "source": [
        " print(f\"37217: {len(df[df[zipcodestring]==37217])}\")"
      ]
    },
    {
      "cell_type": "code",
      "execution_count": null,
      "metadata": {
        "colab": {
          "base_uri": "https://localhost:8080/"
        },
        "id": "jLB2H0OZbxK2",
        "outputId": "40a17f52-cdd2-402e-918b-125feda59596"
      },
      "outputs": [
        {
          "output_type": "stream",
          "name": "stdout",
          "text": [
            "37214: 47\n"
          ]
        }
      ],
      "source": [
        " print(f\"37214: {len(df[df[zipcodestring]==37214])}\")"
      ]
    },
    {
      "cell_type": "code",
      "execution_count": null,
      "metadata": {
        "colab": {
          "base_uri": "https://localhost:8080/"
        },
        "id": "A5sLwf_db1lg",
        "outputId": "72b4e676-054d-46a7-9359-a8c9390c171c"
      },
      "outputs": [
        {
          "output_type": "stream",
          "name": "stdout",
          "text": [
            "37208: 42\n"
          ]
        }
      ],
      "source": [
        " print(f\"37208: {len(df[df[zipcodestring]==37208])}\")"
      ]
    },
    {
      "cell_type": "code",
      "execution_count": null,
      "metadata": {
        "colab": {
          "base_uri": "https://localhost:8080/"
        },
        "id": "sc80mMSbb4xC",
        "outputId": "b9f27cc8-83a8-4f73-9acc-f5ef8b482bc1"
      },
      "outputs": [
        {
          "output_type": "stream",
          "name": "stdout",
          "text": [
            "37072: 37\n"
          ]
        }
      ],
      "source": [
        " print(f\"37072: {len(df[df[zipcodestring]==37072])}\")"
      ]
    },
    {
      "cell_type": "code",
      "execution_count": null,
      "metadata": {
        "colab": {
          "base_uri": "https://localhost:8080/"
        },
        "id": "07ikMeXyb9iE",
        "outputId": "fa8a486e-25d0-446a-c372-413e0f9d2cdc"
      },
      "outputs": [
        {
          "output_type": "stream",
          "name": "stdout",
          "text": [
            "37209: 107\n"
          ]
        }
      ],
      "source": [
        " print(f\"37209: {len(df[df[zipcodestring]==37209])}\")"
      ]
    },
    {
      "cell_type": "code",
      "execution_count": null,
      "metadata": {
        "colab": {
          "base_uri": "https://localhost:8080/"
        },
        "id": "gfFLKMizcBl0",
        "outputId": "b88c75b7-5fe9-4489-8365-9493cd2b3839"
      },
      "outputs": [
        {
          "output_type": "stream",
          "name": "stdout",
          "text": [
            "37027: 23\n"
          ]
        }
      ],
      "source": [
        " print(f\"37027: {len(df[df[zipcodestring]==37027])}\")"
      ]
    },
    {
      "cell_type": "code",
      "execution_count": null,
      "metadata": {
        "colab": {
          "base_uri": "https://localhost:8080/"
        },
        "id": "C9NLZwcFcFTD",
        "outputId": "e38b3cec-e4d7-4688-c69e-b9bb9e192ada"
      },
      "outputs": [
        {
          "output_type": "stream",
          "name": "stdout",
          "text": [
            "37210: 56\n"
          ]
        }
      ],
      "source": [
        " print(f\"37210: {len(df[df[zipcodestring]==37210])}\")"
      ]
    },
    {
      "cell_type": "code",
      "execution_count": null,
      "metadata": {
        "colab": {
          "base_uri": "https://localhost:8080/"
        },
        "id": "C9ScuEKPcI9N",
        "outputId": "ebb07269-cef3-4af1-8779-b09388c2e405"
      },
      "outputs": [
        {
          "output_type": "stream",
          "name": "stdout",
          "text": [
            "37138: 18\n"
          ]
        }
      ],
      "source": [
        " print(f\"37138: {len(df[df[zipcodestring]==37138])}\")"
      ]
    },
    {
      "cell_type": "code",
      "execution_count": null,
      "metadata": {
        "colab": {
          "base_uri": "https://localhost:8080/"
        },
        "id": "IEufncM5cNLE",
        "outputId": "093337f0-f22b-4002-dabf-311983c6a241"
      },
      "outputs": [
        {
          "output_type": "stream",
          "name": "stdout",
          "text": [
            "37220: 14\n"
          ]
        }
      ],
      "source": [
        " print(f\"37220: {len(df[df[zipcodestring]==37220])}\")"
      ]
    },
    {
      "cell_type": "code",
      "execution_count": null,
      "metadata": {
        "colab": {
          "base_uri": "https://localhost:8080/"
        },
        "id": "r97BZLfKcQOs",
        "outputId": "5392e51f-c122-4796-a968-8db374dc576f"
      },
      "outputs": [
        {
          "output_type": "stream",
          "name": "stdout",
          "text": [
            "37212: 37\n"
          ]
        }
      ],
      "source": [
        " print(f\"37212: {len(df[df[zipcodestring]==37212])}\")"
      ]
    },
    {
      "cell_type": "code",
      "execution_count": null,
      "metadata": {
        "colab": {
          "base_uri": "https://localhost:8080/"
        },
        "id": "kx9N14zxcTpn",
        "outputId": "a33bf0c6-fab9-4269-940a-f8aa9313de70"
      },
      "outputs": [
        {
          "output_type": "stream",
          "name": "stdout",
          "text": [
            "37204: 39\n"
          ]
        }
      ],
      "source": [
        " print(f\"37204: {len(df[df[zipcodestring]==37204])}\")"
      ]
    },
    {
      "cell_type": "code",
      "execution_count": null,
      "metadata": {
        "colab": {
          "base_uri": "https://localhost:8080/"
        },
        "id": "XN-Q9-UJcYgW",
        "outputId": "1224df41-1e21-4e75-97bd-391ec83c68f6"
      },
      "outputs": [
        {
          "output_type": "stream",
          "name": "stdout",
          "text": [
            "37143: 1\n"
          ]
        }
      ],
      "source": [
        " print(f\"37143: {len(df[df[zipcodestring]==37143])}\")"
      ]
    },
    {
      "cell_type": "code",
      "execution_count": null,
      "metadata": {
        "colab": {
          "base_uri": "https://localhost:8080/"
        },
        "id": "SxeZXmCYcdSI",
        "outputId": "ae511b0c-f862-49f0-e551-324959eea5be"
      },
      "outputs": [
        {
          "output_type": "stream",
          "name": "stdout",
          "text": [
            "37228: 9\n"
          ]
        }
      ],
      "source": [
        " print(f\"37228: {len(df[df[zipcodestring]==37228])}\")"
      ]
    },
    {
      "cell_type": "code",
      "execution_count": null,
      "metadata": {
        "colab": {
          "base_uri": "https://localhost:8080/"
        },
        "id": "2F4VG3Sgcr4c",
        "outputId": "b13fc418-e786-4122-d91f-75001240195e"
      },
      "outputs": [
        {
          "output_type": "stream",
          "name": "stdout",
          "text": [
            "99997: 2\n"
          ]
        }
      ],
      "source": [
        " print(f\"99997: {len(df[df[zipcodestring]==99997])}\")"
      ]
    },
    {
      "cell_type": "code",
      "execution_count": null,
      "metadata": {
        "colab": {
          "base_uri": "https://localhost:8080/"
        },
        "id": "wEN9RjXgcvWp",
        "outputId": "a072c1cb-c3d4-4d04-efe6-aa888a52c95f"
      },
      "outputs": [
        {
          "output_type": "stream",
          "name": "stdout",
          "text": [
            "37203: 47\n"
          ]
        }
      ],
      "source": [
        " print(f\"37203: {len(df[df[zipcodestring]==37203])}\")"
      ]
    },
    {
      "cell_type": "code",
      "execution_count": null,
      "metadata": {
        "colab": {
          "base_uri": "https://localhost:8080/"
        },
        "id": "u7bPbB0Vc0-O",
        "outputId": "b84fd71a-43b7-4593-f6b0-81e7c217f1ba"
      },
      "outputs": [
        {
          "output_type": "stream",
          "name": "stdout",
          "text": [
            "37222: 1\n"
          ]
        }
      ],
      "source": [
        " print(f\"37222: {len(df[df[zipcodestring]==37222])}\")"
      ]
    },
    {
      "cell_type": "code",
      "execution_count": null,
      "metadata": {
        "colab": {
          "base_uri": "https://localhost:8080/"
        },
        "id": "A-BcQ8Rsc6Mc",
        "outputId": "39b30bf5-9689-49f2-8d52-1971e80deaa6"
      },
      "outputs": [
        {
          "output_type": "stream",
          "name": "stdout",
          "text": [
            "37219: 5\n"
          ]
        }
      ],
      "source": [
        " print(f\"37219: {len(df[df[zipcodestring]==37219])}\")"
      ]
    },
    {
      "cell_type": "code",
      "execution_count": null,
      "metadata": {
        "colab": {
          "base_uri": "https://localhost:8080/"
        },
        "id": "zflAMqiGc9DE",
        "outputId": "6faf4b8a-6365-4482-a359-b10951c164f7"
      },
      "outputs": [
        {
          "output_type": "stream",
          "name": "stdout",
          "text": [
            "37127: 3\n"
          ]
        }
      ],
      "source": [
        " print(f\"37127: {len(df[df[zipcodestring]==37127])}\")"
      ]
    },
    {
      "cell_type": "code",
      "execution_count": null,
      "metadata": {
        "colab": {
          "base_uri": "https://localhost:8080/"
        },
        "id": "twGbIVUpdCE8",
        "outputId": "e9303413-bafc-42a1-94c2-d934b5cef4af"
      },
      "outputs": [
        {
          "output_type": "stream",
          "name": "stdout",
          "text": [
            "38107: 1\n"
          ]
        }
      ],
      "source": [
        " print(f\"38107: {len(df[df[zipcodestring]==38107])}\")"
      ]
    },
    {
      "cell_type": "code",
      "execution_count": null,
      "metadata": {
        "colab": {
          "base_uri": "https://localhost:8080/"
        },
        "id": "TaGaLESOdFcF",
        "outputId": "131b6105-e79e-4ef2-dcc7-6dbc7e9ec71a"
      },
      "outputs": [
        {
          "output_type": "stream",
          "name": "stdout",
          "text": [
            "37213: 1\n"
          ]
        }
      ],
      "source": [
        " print(f\"37213: {len(df[df[zipcodestring]==37213])}\")"
      ]
    },
    {
      "cell_type": "code",
      "execution_count": null,
      "metadata": {
        "colab": {
          "base_uri": "https://localhost:8080/"
        },
        "id": "4zsGlLU_dIX_",
        "outputId": "24250d26-a6fb-4089-a5a9-0a7f64235c0d"
      },
      "outputs": [
        {
          "output_type": "stream",
          "name": "stdout",
          "text": [
            "37201: 3\n"
          ]
        }
      ],
      "source": [
        " print(f\"37201: {len(df[df[zipcodestring]==37201])}\")"
      ]
    },
    {
      "cell_type": "code",
      "execution_count": null,
      "metadata": {
        "colab": {
          "base_uri": "https://localhost:8080/"
        },
        "id": "yWj5HsE2dMS-",
        "outputId": "71fd4afa-0fcd-4e56-e02d-c7b0384f4f4b"
      },
      "outputs": [
        {
          "output_type": "stream",
          "name": "stdout",
          "text": [
            "37015: 2\n"
          ]
        }
      ],
      "source": [
        " print(f\"37015: {len(df[df[zipcodestring]==37015])}\")"
      ]
    },
    {
      "cell_type": "code",
      "execution_count": null,
      "metadata": {
        "colab": {
          "base_uri": "https://localhost:8080/"
        },
        "id": "iXrJrv-ndQC8",
        "outputId": "c14bcbe4-ba35-4480-9006-6e284ed911a8"
      },
      "outputs": [
        {
          "output_type": "stream",
          "name": "stdout",
          "text": [
            "37011: 1\n"
          ]
        }
      ],
      "source": [
        " print(f\"37011: {len(df[df[zipcodestring]==37011])}\")"
      ]
    },
    {
      "cell_type": "code",
      "execution_count": null,
      "metadata": {
        "colab": {
          "base_uri": "https://localhost:8080/"
        },
        "id": "MQFABvUkdUwT",
        "outputId": "57506492-e0a7-4a47-fe9f-a16973cfddbe"
      },
      "outputs": [
        {
          "output_type": "stream",
          "name": "stdout",
          "text": [
            "39207: 1\n"
          ]
        }
      ],
      "source": [
        " print(f\"39207: {len(df[df[zipcodestring]==39207])}\")"
      ]
    },
    {
      "cell_type": "code",
      "execution_count": null,
      "metadata": {
        "colab": {
          "base_uri": "https://localhost:8080/"
        },
        "id": "-IVKcaWgdYwk",
        "outputId": "ad7551b3-8d67-4da3-ce6a-fe1ac6aaed3a"
      },
      "outputs": [
        {
          "output_type": "stream",
          "name": "stdout",
          "text": [
            "37103: 1\n"
          ]
        }
      ],
      "source": [
        " print(f\"37103: {len(df[df[zipcodestring]==37103])}\")"
      ]
    },
    {
      "cell_type": "code",
      "execution_count": null,
      "metadata": {
        "colab": {
          "base_uri": "https://localhost:8080/"
        },
        "id": "5_48hCzBdb6R",
        "outputId": "8cf2e7ec-8ce2-4846-da00-f36a2bd3bbd0"
      },
      "outputs": [
        {
          "output_type": "stream",
          "name": "stdout",
          "text": [
            "32214: 1\n"
          ]
        }
      ],
      "source": [
        " print(f\"32214: {len(df[df[zipcodestring]==32214])}\")"
      ]
    },
    {
      "cell_type": "code",
      "execution_count": null,
      "metadata": {
        "colab": {
          "base_uri": "https://localhost:8080/"
        },
        "id": "ZpjtnzEkdfOd",
        "outputId": "7dfccd9a-9891-4104-e251-c0e3d9ba883a"
      },
      "outputs": [
        {
          "output_type": "stream",
          "name": "stdout",
          "text": [
            "36138: 1\n"
          ]
        }
      ],
      "source": [
        " print(f\"36138: {len(df[df[zipcodestring]==36138])}\")"
      ]
    },
    {
      "cell_type": "code",
      "execution_count": null,
      "metadata": {
        "colab": {
          "base_uri": "https://localhost:8080/"
        },
        "id": "95_sEWUkdjxb",
        "outputId": "4d7a0d4d-ac66-46f6-88d6-551ef0318236"
      },
      "outputs": [
        {
          "output_type": "stream",
          "name": "stdout",
          "text": [
            "372013: 1\n"
          ]
        }
      ],
      "source": [
        " print(f\"372013: {len(df[df[zipcodestring]==372013])}\")"
      ]
    },
    {
      "cell_type": "code",
      "execution_count": null,
      "metadata": {
        "colab": {
          "base_uri": "https://localhost:8080/"
        },
        "id": "O6CotYlSdof4",
        "outputId": "4c094737-a987-40e2-d818-6236f0f99d39"
      },
      "outputs": [
        {
          "output_type": "stream",
          "name": "stdout",
          "text": [
            "37135: 2\n"
          ]
        }
      ],
      "source": [
        " print(f\"37135: {len(df[df[zipcodestring]==37135])}\")"
      ]
    },
    {
      "cell_type": "code",
      "execution_count": null,
      "metadata": {
        "colab": {
          "base_uri": "https://localhost:8080/"
        },
        "id": "-d9V72BIdr8L",
        "outputId": "cf8e21c9-1f53-4a5a-e5f6-c60609c9bdb0"
      },
      "outputs": [
        {
          "output_type": "stream",
          "name": "stdout",
          "text": [
            "37012: 1\n"
          ]
        }
      ],
      "source": [
        " print(f\"37012: {len(df[df[zipcodestring]==37012])}\")"
      ]
    },
    {
      "cell_type": "code",
      "execution_count": null,
      "metadata": {
        "colab": {
          "base_uri": "https://localhost:8080/"
        },
        "id": "zFnlusIddvb-",
        "outputId": "b68f43dd-de50-408c-de2b-9351586592ff"
      },
      "outputs": [
        {
          "output_type": "stream",
          "name": "stdout",
          "text": [
            "37307: 1\n"
          ]
        }
      ],
      "source": [
        " print(f\"37307: {len(df[df[zipcodestring]==37307])}\")"
      ]
    },
    {
      "cell_type": "code",
      "execution_count": null,
      "metadata": {
        "colab": {
          "base_uri": "https://localhost:8080/"
        },
        "id": "md-shZ7IdzMP",
        "outputId": "4bc95ca8-9d01-48dd-e042-86da33fe9853"
      },
      "outputs": [
        {
          "output_type": "stream",
          "name": "stdout",
          "text": [
            "37064: 1\n"
          ]
        }
      ],
      "source": [
        " print(f\"37064: {len(df[df[zipcodestring]==37064])}\")"
      ]
    },
    {
      "cell_type": "code",
      "execution_count": null,
      "metadata": {
        "colab": {
          "base_uri": "https://localhost:8080/"
        },
        "id": "ePsLV2H7d2XR",
        "outputId": "7daeaa62-821f-44c1-ed5b-5d2b866f0954"
      },
      "outputs": [
        {
          "output_type": "stream",
          "name": "stdout",
          "text": [
            "37310: 1\n"
          ]
        }
      ],
      "source": [
        " print(f\"37310: {len(df[df[zipcodestring]==37310])}\")"
      ]
    },
    {
      "cell_type": "code",
      "execution_count": null,
      "metadata": {
        "colab": {
          "base_uri": "https://localhost:8080/"
        },
        "id": "R7L-RPALeS1s",
        "outputId": "a10c2371-ba80-47c6-8717-afe16aeadf1c"
      },
      "outputs": [
        {
          "output_type": "stream",
          "name": "stdout",
          "text": [
            "NaN: 70\n"
          ]
        }
      ],
      "source": [
        "print(f\"NaN: {sum(df[zipcodestring].isnull())}\")"
      ]
    },
    {
      "cell_type": "code",
      "execution_count": null,
      "metadata": {
        "id": "o739K9xAef9A"
      },
      "outputs": [],
      "source": [
        "total_zipcodes = df[zipcodestring].unique()"
      ]
    },
    {
      "cell_type": "code",
      "execution_count": null,
      "metadata": {
        "colab": {
          "base_uri": "https://localhost:8080/"
        },
        "id": "VM93Jg5Cfn7x",
        "outputId": "42441e0b-ef29-4871-d10d-ffc304b21b11"
      },
      "outputs": [
        {
          "output_type": "execute_result",
          "data": {
            "text/plain": [
              "array([    nan,  37211.,  37207.,  37013.,  37216.,  37221.,  37189.,\n",
              "        37205.,  37215.,  37115.,  37218.,  37206.,  37080.,  37076.,\n",
              "        37217.,  37214.,  37208.,  37072.,  37209.,  37027.,  37210.,\n",
              "        37138.,  37220.,  37212.,  37204.,  37143.,  37228.,  99997.,\n",
              "        37203.,  37222.,  37219.,  37127.,  38107.,  37213.,  37201.,\n",
              "        37015.,  37011.,  39207.,  37103.,  32214.,  36138., 372013.,\n",
              "        37135.,  37012.,  37307.,  37064.,  37310.])"
            ]
          },
          "metadata": {},
          "execution_count": 93
        }
      ],
      "source": [
        "total_zipcodes"
      ]
    },
    {
      "cell_type": "code",
      "execution_count": null,
      "metadata": {
        "id": "VddtNfW3fRzE"
      },
      "outputs": [],
      "source": [
        "zipcode_counts = np.zeros(len(total_zipcodes))\n",
        "for i, zip in enumerate(total_zipcodes):\n",
        "  zipcode_counts[i] = len(df[df[zipcodestring]==zip])"
      ]
    },
    {
      "cell_type": "code",
      "execution_count": null,
      "metadata": {
        "colab": {
          "base_uri": "https://localhost:8080/"
        },
        "id": "tlsav29JgLHI",
        "outputId": "2743e32e-4a9e-444d-b7a8-2ac4833883bb"
      },
      "outputs": [
        {
          "output_type": "execute_result",
          "data": {
            "text/plain": [
              "array([  0., 214., 115., 215.,  52., 109.,  12.,  67.,  55.,  85.,  63.,\n",
              "        65.,   9.,  70.,  97.,  47.,  42.,  37., 107.,  23.,  56.,  18.,\n",
              "        14.,  37.,  39.,   1.,   9.,   2.,  47.,   1.,   5.,   3.,   1.,\n",
              "         1.,   3.,   2.,   1.,   1.,   1.,   1.,   1.,   1.,   2.,   1.,\n",
              "         1.,   1.,   1.])"
            ]
          },
          "metadata": {},
          "execution_count": 95
        }
      ],
      "source": [
        "zipcode_counts"
      ]
    },
    {
      "cell_type": "code",
      "execution_count": null,
      "metadata": {
        "colab": {
          "base_uri": "https://localhost:8080/",
          "height": 570
        },
        "id": "Hrd-IPDMgM5H",
        "outputId": "c559aae6-5647-441f-8a90-9b0801aac2fe"
      },
      "outputs": [
        {
          "output_type": "execute_result",
          "data": {
            "text/plain": [
              "Text(0.5, 1.0, 'Zip Code Data (Hypertension Survey)')"
            ]
          },
          "metadata": {},
          "execution_count": 96
        },
        {
          "output_type": "display_data",
          "data": {
            "text/plain": [
              "<Figure size 1080x576 with 1 Axes>"
            ],
            "image/png": "[encoded data removed]"
          },
          "metadata": {
            "needs_background": "light"
          }
        }
      ],
      "source": [
        "fig,ax=plt.subplots(1,1, figsize=(15,8))\n",
        "ticks = plt.hist(zipcode_counts, bins = len(total_zipcodes))\n",
        "ticks[1]\n",
        "plt.xticks(ticks[1], total_zipcodes, rotation = 45)\n",
        "plt.xlabel(\"Zip Codes\", fontsize = 15)\n",
        "plt.ylabel(\"\", fontsize = 15)\n",
        "plt.title(\"Zip Code Data (Hypertension Survey)\", fontsize = 20)"
      ]
    },
    {
      "cell_type": "code",
      "execution_count": null,
      "metadata": {
        "id": "TaXZE2UPjEpy"
      },
      "outputs": [],
      "source": [
        "hyp_age_diabetes_list = df['How old were you when you were told you have diabetes, pre- diabetes or gestational diabetes?'].unique()"
      ]
    },
    {
      "cell_type": "code",
      "execution_count": null,
      "metadata": {
        "colab": {
          "base_uri": "https://localhost:8080/"
        },
        "id": "eqznJwdnja_M",
        "outputId": "be86850f-464d-47dc-c134-d3665af231a5"
      },
      "outputs": [
        {
          "output_type": "execute_result",
          "data": {
            "text/plain": [
              "array([nan, 53., 32.,  0., 57., 34., 35., 97., 60., 30., 77., 70., 50.,\n",
              "        5., 72., 52., 45., 75., 41., 61., 69., 62., 68., 59., 67., 65.,\n",
              "       58., 64., 40., 55., 51., 66., 46., 63., 37., 48., 54., 56., 33.,\n",
              "       43., 38., 39., 49., 42., 44., 47., 17., 26., 29., 19., 28., 25.,\n",
              "       14.,  7., 23., 20., 88., 76., 71., 74., 36., 73.,  1.,  9., 22.,\n",
              "       16., 24., 31., 27., 15., 12., 21.])"
            ]
          },
          "metadata": {},
          "execution_count": 98
        }
      ],
      "source": [
        "hyp_age_diabetes_list"
      ]
    },
    {
      "cell_type": "code",
      "execution_count": null,
      "metadata": {
        "colab": {
          "base_uri": "https://localhost:8080/",
          "height": 540
        },
        "id": "DvtuNa7xjmOv",
        "outputId": "76b5f309-dd8c-4c6b-9def-622fae6a3fe9"
      },
      "outputs": [
        {
          "output_type": "execute_result",
          "data": {
            "text/plain": [
              "Text(0.5, 1.0, 'The Age Of Each Person When Contracted With Diabetes (Hypertension Survey)')"
            ]
          },
          "metadata": {},
          "execution_count": 99
        },
        {
          "output_type": "display_data",
          "data": {
            "text/plain": [
              "<Figure size 1080x576 with 1 Axes>"
            ],
            "image/png": "[encoded data removed]"
          },
          "metadata": {
            "needs_background": "light"
          }
        }
      ],
      "source": [
        "fig,ax=plt.subplots(1,1, figsize=(15,8))\n",
        "plt.hist(hyp_age_diabetes_list, bins = 20)\n",
        "plt.xlabel(\"Age\", fontsize = 15)\n",
        "plt.ylabel(\"\", fontsize = 15)\n",
        "plt.title(\"The Age Of Each Person When Contracted With Diabetes (Hypertension Survey)\", fontsize = 20)"
      ]
    },
    {
      "cell_type": "code",
      "execution_count": null,
      "metadata": {
        "id": "5hR8hp_7j085"
      },
      "outputs": [],
      "source": [
        "#fig,ax=plt.subplots(1,1, figsize=(15,8))\n",
        "#plt.hist(hyp_transportation_to_healthy_foods_list, bins = 15)\n",
        "#plt.xlabel(\"# of transportations\", fontsize = 15)\n",
        "#plt.ylabel(\"#\", fontsize = 15)\n",
        "#plt.title(\"Hypertension Members Transportation To Healthy Foods (Survey)\", fontsize = 20)"
      ]
    },
    {
      "cell_type": "code",
      "execution_count": null,
      "metadata": {
        "id": "2n3hV0SmlNnV"
      },
      "outputs": [],
      "source": [
        "survey_healthy_food_transportation_counts = np.zeros(len(transportation_to_healthy_foods_list))\n",
        "for i, foodtransportation in enumerate(transportation_to_healthy_foods_list):\n",
        "  survey_healthy_food_transportation_counts[i] = len(df[df[food_transportation_problem]==foodtransportation])"
      ]
    },
    {
      "cell_type": "code",
      "execution_count": null,
      "metadata": {
        "colab": {
          "base_uri": "https://localhost:8080/",
          "height": 35
        },
        "id": "jXVjE1fbt4r0",
        "outputId": "fe38519b-867f-423a-bdea-3caa689d2926"
      },
      "outputs": [
        {
          "output_type": "execute_result",
          "data": {
            "text/plain": [
              "'How difficult is it for you to get transportation to a store that sells healthy food, such as fresh fruits and vegetables? '"
            ],
            "application/vnd.google.colaboratory.intrinsic+json": {
              "type": "string"
            }
          },
          "metadata": {},
          "execution_count": 102
        }
      ],
      "source": [
        "food_transportation_problem"
      ]
    },
    {
      "cell_type": "code",
      "execution_count": null,
      "metadata": {
        "id": "2OHU53uymh8V"
      },
      "outputs": [],
      "source": [
        "completed_healthy_food_transportation_counts = np.delete(survey_healthy_food_transportation_counts, 1)"
      ]
    },
    {
      "cell_type": "code",
      "execution_count": null,
      "metadata": {
        "colab": {
          "base_uri": "https://localhost:8080/"
        },
        "id": "k1LjbjLPyhOZ",
        "outputId": "e37ac85d-ecd2-42bf-b378-034f07bfca68"
      },
      "outputs": [
        {
          "output_type": "execute_result",
          "data": {
            "text/plain": [
              "array([1424.,  238.,   86.,   18.,   26.])"
            ]
          },
          "metadata": {},
          "execution_count": 104
        }
      ],
      "source": [
        "completed_healthy_food_transportation_counts"
      ]
    },
    {
      "cell_type": "code",
      "execution_count": null,
      "metadata": {
        "id": "S7cOtPqVqz2W"
      },
      "outputs": [],
      "source": [
        "completed_healthy_foods_list = np.delete(transportation_to_healthy_foods_list, 1)"
      ]
    },
    {
      "cell_type": "code",
      "execution_count": null,
      "metadata": {
        "colab": {
          "base_uri": "https://localhost:8080/"
        },
        "id": "ojDWnQDOyZO_",
        "outputId": "bf26bd4f-60ba-4b4d-ca1b-cba65a4ee3ec"
      },
      "outputs": [
        {
          "output_type": "execute_result",
          "data": {
            "text/plain": [
              "array([5., 4., 3., 1., 2.])"
            ]
          },
          "metadata": {},
          "execution_count": 106
        }
      ],
      "source": [
        "completed_healthy_foods_list"
      ]
    },
    {
      "cell_type": "code",
      "execution_count": null,
      "metadata": {
        "colab": {
          "base_uri": "https://localhost:8080/",
          "height": 521
        },
        "id": "hXbk1L8goRre",
        "outputId": "b65015db-a9fb-434d-d766-b21a5491f968"
      },
      "outputs": [
        {
          "output_type": "execute_result",
          "data": {
            "text/plain": [
              "Text(0.6, 1000, '5 = Not At All Difficult')"
            ]
          },
          "metadata": {},
          "execution_count": 107
        },
        {
          "output_type": "display_data",
          "data": {
            "text/plain": [
              "<Figure size 1008x576 with 1 Axes>"
            ],
            "image/png": "[encoded data removed]"
          },
          "metadata": {
            "needs_background": "light"
          }
        }
      ],
      "source": [
        "fig,ax=plt.subplots(1,1, figsize=(14,8))\n",
        "plt.bar(completed_healthy_foods_list,completed_healthy_food_transportation_counts)\n",
        "plt.ylabel(\"# of People\", fontsize = 15)\n",
        "plt.title(\"Difficulty For People To Get Healthy Foods (Hypertension Survey)\", fontsize = 20)\n",
        "plt.text(.6, 1400, \"1 = Extremely Difficult\",fontsize = 15)\n",
        "plt.text(.6, 1300, \"2 = Very Difficult\",fontsize = 15)\n",
        "plt.text(.6,1200, \"3 = Somewhat Difficult\", fontsize = 15)\n",
        "plt.text(.6,1100, \"4 = Not Very Difficult\", fontsize = 15)\n",
        "plt.text(.6,1000, \"5 = Not At All Difficult\", fontsize = 15)"
      ]
    },
    {
      "cell_type": "code",
      "execution_count": null,
      "metadata": {
        "colab": {
          "base_uri": "https://localhost:8080/",
          "height": 540
        },
        "id": "y92cW3r6usMs",
        "outputId": "c1dc2db3-d2a1-44be-fd1c-95600e551fef"
      },
      "outputs": [
        {
          "output_type": "execute_result",
          "data": {
            "text/plain": [
              "Text(0.5, 1.0, 'Age That People Got Diabetes (Hypertension Survey)')"
            ]
          },
          "metadata": {},
          "execution_count": 108
        },
        {
          "output_type": "display_data",
          "data": {
            "text/plain": [
              "<Figure size 1008x576 with 1 Axes>"
            ],
            "image/png": "[encoded data removed]"
          },
          "metadata": {
            "needs_background": "light"
          }
        }
      ],
      "source": [
        "hyp_age_diabetes_list\n",
        "\n",
        "age_diabetes_problem = df.columns[179]\n",
        "\n",
        "survey_age_diabetes_counts = np.zeros(len(hyp_age_diabetes_list))\n",
        "for i, agediabetes in enumerate(hyp_age_diabetes_list):\n",
        "  survey_age_diabetes_counts[i] = len(df[df[age_diabetes_problem]==agediabetes])\n",
        "\n",
        "completed_diabetes_list = np.delete(hyp_age_diabetes_list, 0)\n",
        "\n",
        "completed_diabetes_list\n",
        "\n",
        "completed_diabetes_counts = np.delete(survey_age_diabetes_counts, 0)\n",
        "\n",
        "fig,ax=plt.subplots(1,1, figsize=(14,8))\n",
        "plt.bar(completed_diabetes_list,completed_diabetes_counts)\n",
        "plt.xlabel(\"Age\", fontsize = 15)\n",
        "plt.ylabel(\"# of People\", fontsize = 15)\n",
        "plt.title(\"Age That People Got Diabetes (Hypertension Survey)\", fontsize = 20)"
      ]
    },
    {
      "cell_type": "code",
      "execution_count": null,
      "metadata": {
        "colab": {
          "base_uri": "https://localhost:8080/"
        },
        "id": "uBcZ2rs1u12W",
        "outputId": "d023e69f-b5bc-454a-fec5-55a7f9847d37"
      },
      "outputs": [
        {
          "output_type": "stream",
          "name": "stdout",
          "text": [
            "58\n",
            "Does lack of money for transportation expenses, such as parking, cab or bus fare, make it difficult to get to the doctor or dentist? \n",
            "59\n",
            "How difficult is it for you to get transportation to your medical care, including doctor, dentist, or pharmacy? \n",
            "154\n",
            "How difficult is it for you to get transportation to a store that sells healthy food, such as fresh fruits and vegetables? \n"
          ]
        }
      ],
      "source": [
        "for i, col in enumerate(df.columns):\n",
        "  if \"difficult\" in col:\n",
        "    print(i)\n",
        "    print(col)"
      ]
    },
    {
      "cell_type": "code",
      "execution_count": null,
      "metadata": {
        "id": "_VLDgoazwy9Y"
      },
      "outputs": [],
      "source": [
        "difficult_transportation_doctor = df.columns[59]"
      ]
    },
    {
      "cell_type": "code",
      "execution_count": null,
      "metadata": {
        "colab": {
          "base_uri": "https://localhost:8080/",
          "height": 35
        },
        "id": "lLIjQcdoxHlD",
        "outputId": "243d0154-0d33-43b6-a97d-4f683b7eebb3"
      },
      "outputs": [
        {
          "output_type": "execute_result",
          "data": {
            "text/plain": [
              "'How difficult is it for you to get transportation to your medical care, including doctor, dentist, or pharmacy? '"
            ],
            "application/vnd.google.colaboratory.intrinsic+json": {
              "type": "string"
            }
          },
          "metadata": {},
          "execution_count": 111
        }
      ],
      "source": [
        "difficult_transportation_doctor"
      ]
    },
    {
      "cell_type": "code",
      "execution_count": null,
      "metadata": {
        "id": "ahGvfQN9xJ8T"
      },
      "outputs": [],
      "source": [
        "hyp_difficult_transportation_doctor_list = df[difficult_transportation_doctor].unique()"
      ]
    },
    {
      "cell_type": "code",
      "execution_count": null,
      "metadata": {
        "colab": {
          "base_uri": "https://localhost:8080/"
        },
        "id": "hfU0P_usxX9l",
        "outputId": "bcd1ba61-ef43-4645-eb0e-32cdc469b434"
      },
      "outputs": [
        {
          "output_type": "execute_result",
          "data": {
            "text/plain": [
              "array([nan,  4.,  5.,  2.,  3.,  1.])"
            ]
          },
          "metadata": {},
          "execution_count": 113
        }
      ],
      "source": [
        "hyp_difficult_transportation_doctor_list"
      ]
    },
    {
      "cell_type": "code",
      "execution_count": null,
      "metadata": {
        "id": "TxmI342BxZ2G"
      },
      "outputs": [],
      "source": [
        "survey_difficult_transportation_doctor_counts = np.zeros(len(hyp_difficult_transportation_doctor_list))\n",
        "for i, doctortransportation in enumerate(hyp_difficult_transportation_doctor_list):\n",
        "  survey_difficult_transportation_doctor_counts[i] = len(df[df[difficult_transportation_doctor]==doctortransportation])"
      ]
    },
    {
      "cell_type": "code",
      "execution_count": null,
      "metadata": {
        "colab": {
          "base_uri": "https://localhost:8080/"
        },
        "id": "-lHJjjF1xwn8",
        "outputId": "26e84885-c2ec-4e31-d31e-df15c6b0309a"
      },
      "outputs": [
        {
          "output_type": "execute_result",
          "data": {
            "text/plain": [
              "array([   0.,  216., 1433.,   20.,   83.,   14.])"
            ]
          },
          "metadata": {},
          "execution_count": 115
        }
      ],
      "source": [
        "survey_difficult_transportation_doctor_counts"
      ]
    },
    {
      "cell_type": "code",
      "execution_count": null,
      "metadata": {
        "id": "A8qmEp8yxyRg"
      },
      "outputs": [],
      "source": [
        "completed_doctor_list = np.delete(hyp_difficult_transportation_doctor_list, 0)"
      ]
    },
    {
      "cell_type": "code",
      "execution_count": null,
      "metadata": {
        "colab": {
          "base_uri": "https://localhost:8080/"
        },
        "id": "D4eSMzRzyGcI",
        "outputId": "30578ea3-0530-48a3-9ea9-c22588e19a0c"
      },
      "outputs": [
        {
          "output_type": "execute_result",
          "data": {
            "text/plain": [
              "array([4., 5., 2., 3., 1.])"
            ]
          },
          "metadata": {},
          "execution_count": 117
        }
      ],
      "source": [
        "completed_doctor_list"
      ]
    },
    {
      "cell_type": "code",
      "execution_count": null,
      "metadata": {
        "id": "z6ydI0iAyrkr"
      },
      "outputs": [],
      "source": [
        "completed_doctor_counts = np.delete(survey_difficult_transportation_doctor_counts, 0)"
      ]
    },
    {
      "cell_type": "code",
      "execution_count": null,
      "metadata": {
        "colab": {
          "base_uri": "https://localhost:8080/"
        },
        "id": "GrkXJZCly2gD",
        "outputId": "5f44431f-0180-43d4-b1cb-1bd08a50a41e"
      },
      "outputs": [
        {
          "output_type": "execute_result",
          "data": {
            "text/plain": [
              "array([ 216., 1433.,   20.,   83.,   14.])"
            ]
          },
          "metadata": {},
          "execution_count": 119
        }
      ],
      "source": [
        "completed_doctor_counts"
      ]
    },
    {
      "cell_type": "code",
      "execution_count": null,
      "metadata": {
        "colab": {
          "base_uri": "https://localhost:8080/",
          "height": 521
        },
        "id": "dn35orEXyH4_",
        "outputId": "fc821b6f-7cce-4a97-c38c-b7aecfdcf9e0"
      },
      "outputs": [
        {
          "output_type": "execute_result",
          "data": {
            "text/plain": [
              "Text(0.6, 1000, '5 = Not At All Difficult')"
            ]
          },
          "metadata": {},
          "execution_count": 120
        },
        {
          "output_type": "display_data",
          "data": {
            "text/plain": [
              "<Figure size 1008x576 with 1 Axes>"
            ],
            "image/png": "[encoded data removed]"
          },
          "metadata": {
            "needs_background": "light"
          }
        }
      ],
      "source": [
        "fig,ax=plt.subplots(1,1, figsize=(14,8))\n",
        "plt.bar(completed_doctor_list,completed_doctor_counts)\n",
        "plt.ylabel(\"# of People\", fontsize = 15)\n",
        "plt.title(\"Difficulty For People To Get A Ride To A Doctor or Medical Help (Hypertension Survey)\", fontsize = 20)\n",
        "plt.text(.6, 1400, \"1 = Extremely Difficult\",fontsize = 15)\n",
        "plt.text(.6, 1300, \"2 = Very Difficult\",fontsize = 15)\n",
        "plt.text(.6,1200, \"3 = Somewhat Difficult\", fontsize = 15)\n",
        "plt.text(.6,1100, \"4 = Not Very Difficult\", fontsize = 15)\n",
        "plt.text(.6,1000, \"5 = Not At All Difficult\", fontsize = 15)"
      ]
    },
    {
      "cell_type": "code",
      "execution_count": null,
      "metadata": {
        "colab": {
          "base_uri": "https://localhost:8080/"
        },
        "id": "AsHtWob_yTJ8",
        "outputId": "8b171bfe-25c5-4693-ccfc-2b7fd52a46d8"
      },
      "outputs": [
        {
          "output_type": "stream",
          "name": "stdout",
          "text": [
            "178\n",
            "About how many times in the past 12 months have you seen a doctor, nurse, or other health professional for your diabetes or pre-diabetes?\n",
            "179\n",
            "How old were you when you were told you have diabetes, pre- diabetes or gestational diabetes?\n",
            "181\n",
            "Have you had a test for high blood sugar or diabetes within the past three years?\n",
            "182\n",
            "Have you ever been told by a doctor or other health professional that you have pre‐diabetes or borderline diabetes?\n",
            "183\n",
            "Was your diabetes due to a pregnancy? \n",
            "184\n",
            "Has a doctor, nurse, or other health professional ever told you that you have diabetes?\n"
          ]
        }
      ],
      "source": [
        "for i, col in enumerate(df.columns):\n",
        "  if \"diabetes\" in col:\n",
        "    print(i)\n",
        "    print(col)"
      ]
    },
    {
      "cell_type": "code",
      "execution_count": null,
      "metadata": {
        "id": "C8TlBkrD2Fyx"
      },
      "outputs": [],
      "source": [
        "diabetes_doctor_checked = df.columns[178]"
      ]
    },
    {
      "cell_type": "code",
      "execution_count": null,
      "metadata": {
        "colab": {
          "base_uri": "https://localhost:8080/",
          "height": 35
        },
        "id": "Utn0f6V_2T0o",
        "outputId": "083b0a29-f073-4ab1-839c-ae5f5990d9e2"
      },
      "outputs": [
        {
          "output_type": "execute_result",
          "data": {
            "text/plain": [
              "'About how many times in the past 12 months have you seen a doctor, nurse, or other health professional for your diabetes or pre-diabetes?'"
            ],
            "application/vnd.google.colaboratory.intrinsic+json": {
              "type": "string"
            }
          },
          "metadata": {},
          "execution_count": 123
        }
      ],
      "source": [
        "diabetes_doctor_checked"
      ]
    },
    {
      "cell_type": "code",
      "execution_count": null,
      "metadata": {
        "id": "PHHGDD_T2Vh0"
      },
      "outputs": [],
      "source": [
        "hyp_doctor_checked_diabetes_list = df[diabetes_doctor_checked].unique()"
      ]
    },
    {
      "cell_type": "code",
      "execution_count": null,
      "metadata": {
        "id": "gyLljnhI2kHQ",
        "colab": {
          "base_uri": "https://localhost:8080/"
        },
        "outputId": "ae163a86-fbf2-4770-8e2c-28d8acf22303"
      },
      "outputs": [
        {
          "output_type": "execute_result",
          "data": {
            "text/plain": [
              "array([nan,  1.,  0.,  3.,  6.,  2.,  5.,  4., 97.,  8., 12., 13., 15.])"
            ]
          },
          "metadata": {},
          "execution_count": 125
        }
      ],
      "source": [
        "hyp_doctor_checked_diabetes_list"
      ]
    },
    {
      "cell_type": "code",
      "execution_count": null,
      "metadata": {
        "id": "TBM46nOy2mAv"
      },
      "outputs": [],
      "source": [
        "survey_doctor_checked_diabetes_counts = np.zeros(len(hyp_doctor_checked_diabetes_list))\n",
        "for i, doctorcheck in enumerate(hyp_doctor_checked_diabetes_list):\n",
        "  survey_doctor_checked_diabetes_counts[i] = len(df[df[diabetes_doctor_checked]==doctorcheck])"
      ]
    },
    {
      "cell_type": "code",
      "execution_count": null,
      "metadata": {
        "id": "Kh4x4WVl3BJ4",
        "colab": {
          "base_uri": "https://localhost:8080/"
        },
        "outputId": "b499c383-d9af-4b20-ef5e-97bd1e453ddc"
      },
      "outputs": [
        {
          "output_type": "execute_result",
          "data": {
            "text/plain": [
              "array([  0.,  78., 146.,  38.,   9.,  62.,  10.,  52.,   2.,   1.,   1.,\n",
              "         2.,   1.])"
            ]
          },
          "metadata": {},
          "execution_count": 127
        }
      ],
      "source": [
        "survey_doctor_checked_diabetes_counts"
      ]
    },
    {
      "cell_type": "code",
      "execution_count": null,
      "metadata": {
        "id": "0_LUq6v_3Ddh"
      },
      "outputs": [],
      "source": [
        "completed_doctor_check_diabetes_list = np.delete(hyp_doctor_checked_diabetes_list, 0)"
      ]
    },
    {
      "cell_type": "code",
      "execution_count": null,
      "metadata": {
        "id": "1dAg2oEPCZ8x",
        "colab": {
          "base_uri": "https://localhost:8080/"
        },
        "outputId": "ae5d043f-8a7a-4f1f-f01b-00521b778632"
      },
      "outputs": [
        {
          "output_type": "stream",
          "name": "stdout",
          "text": [
            "[ 1.  0.  3.  6.  2.  5.  4. 97.  8. 12. 13. 15.]\n"
          ]
        }
      ],
      "source": [
        "print(completed_doctor_check_diabetes_list)"
      ]
    },
    {
      "cell_type": "code",
      "execution_count": null,
      "metadata": {
        "id": "sfG7IMQxCU3L",
        "colab": {
          "base_uri": "https://localhost:8080/"
        },
        "outputId": "d5087615-80d2-4045-8601-a479c181bba0"
      },
      "outputs": [
        {
          "output_type": "stream",
          "name": "stdout",
          "text": [
            "[ 1.  0.  3.  6.  2.  5.  4.  8. 12. 13. 15.]\n"
          ]
        }
      ],
      "source": [
        "s_complete_doctor_diabetes_list = np.delete(completed_doctor_check_diabetes_list,7)\n",
        "print(s_complete_doctor_diabetes_list)"
      ]
    },
    {
      "cell_type": "code",
      "execution_count": null,
      "metadata": {
        "id": "U5JnH82A3OhP"
      },
      "outputs": [],
      "source": [
        "completed_doctor_checked_diabetes_counts = np.delete(survey_doctor_checked_diabetes_counts, 0)"
      ]
    },
    {
      "cell_type": "code",
      "execution_count": null,
      "metadata": {
        "id": "El4DTio4Cq88",
        "colab": {
          "base_uri": "https://localhost:8080/"
        },
        "outputId": "dd754cb7-6c42-4202-c81d-4b522227726b"
      },
      "outputs": [
        {
          "output_type": "stream",
          "name": "stdout",
          "text": [
            "[ 78. 146.  38.   9.  62.  10.  52.   1.   1.   2.   1.]\n"
          ]
        }
      ],
      "source": [
        "s_complete_doctor_check_counts = np.delete(completed_doctor_checked_diabetes_counts,7)\n",
        "print(s_complete_doctor_check_counts)"
      ]
    },
    {
      "cell_type": "code",
      "execution_count": null,
      "metadata": {
        "id": "iyWm6N_w3XMd",
        "colab": {
          "base_uri": "https://localhost:8080/",
          "height": 540
        },
        "outputId": "2f50e618-dba8-43b9-fed5-6b206e64dca0"
      },
      "outputs": [
        {
          "output_type": "execute_result",
          "data": {
            "text/plain": [
              "Text(0.5, 1.0, 'Amount of Times People Went To A Doctor For Diabetes (Hypertension Survey)')"
            ]
          },
          "metadata": {},
          "execution_count": 133
        },
        {
          "output_type": "display_data",
          "data": {
            "text/plain": [
              "<Figure size 1008x576 with 1 Axes>"
            ],
            "image/png": "[encoded data removed]"
          },
          "metadata": {
            "needs_background": "light"
          }
        }
      ],
      "source": [
        "fig,ax=plt.subplots(1,1, figsize=(14,8))\n",
        "plt.bar(s_complete_doctor_diabetes_list,s_complete_doctor_check_counts)\n",
        "plt.xlabel(\"# of Doctor Checks\", fontsize = 15)\n",
        "plt.ylabel(\"# of People\", fontsize = 15)\n",
        "plt.title(\"Amount of Times People Went To A Doctor For Diabetes (Hypertension Survey)\", fontsize = 20)"
      ]
    },
    {
      "cell_type": "code",
      "execution_count": null,
      "metadata": {
        "id": "LrfW4LAr3eOg",
        "colab": {
          "base_uri": "https://localhost:8080/"
        },
        "outputId": "109a3443-2cae-471e-9f20-b8273bc791c7"
      },
      "outputs": [
        {
          "output_type": "stream",
          "name": "stdout",
          "text": [
            "99\n",
            "Does your community have trails, greenways, bike paths, or sidewalks for biking, walking or other activities? \n"
          ]
        }
      ],
      "source": [
        "for i, col in enumerate(df.columns):\n",
        "  if \"trails\" in col:\n",
        "    print(i)\n",
        "    print(col)"
      ]
    },
    {
      "cell_type": "code",
      "execution_count": null,
      "metadata": {
        "id": "YBJALbOp5jju",
        "colab": {
          "base_uri": "https://localhost:8080/"
        },
        "outputId": "bf00f86e-aa76-476f-9f13-4fd346690f94"
      },
      "outputs": [
        {
          "output_type": "stream",
          "name": "stdout",
          "text": [
            "Does your community have trails, greenways, bike paths, or sidewalks for biking, walking or other activities? \n"
          ]
        }
      ],
      "source": [
        "community_activities = df.columns[99]\n",
        "print(community_activities)"
      ]
    },
    {
      "cell_type": "code",
      "execution_count": null,
      "metadata": {
        "id": "2Ppg9tOr6NhU",
        "colab": {
          "base_uri": "https://localhost:8080/"
        },
        "outputId": "25c1563e-e81a-401a-eabb-839ed03cadc8"
      },
      "outputs": [
        {
          "output_type": "stream",
          "name": "stdout",
          "text": [
            "[nan  1.  2. 97.]\n"
          ]
        }
      ],
      "source": [
        "hyp_community_activites_list = df[community_activities].unique()\n",
        "print(hyp_community_activites_list)"
      ]
    },
    {
      "cell_type": "code",
      "execution_count": null,
      "metadata": {
        "id": "2qDEShZJ8fik",
        "colab": {
          "base_uri": "https://localhost:8080/"
        },
        "outputId": "5dd98ddf-6426-409f-ff6d-51bb86da23c7"
      },
      "outputs": [
        {
          "output_type": "execute_result",
          "data": {
            "text/plain": [
              "array([nan,  1.,  2.])"
            ]
          },
          "metadata": {},
          "execution_count": 137
        }
      ],
      "source": [
        "#np.where((hyp_community_activites_list==97) )[0]\n",
        "np.delete(hyp_community_activites_list, np.where((hyp_community_activites_list==97) )[0] )"
      ]
    },
    {
      "cell_type": "code",
      "execution_count": null,
      "metadata": {
        "id": "hXdEtS9j6cLi",
        "colab": {
          "base_uri": "https://localhost:8080/"
        },
        "outputId": "79da930d-71b5-44d5-adf9-74cf87acad90"
      },
      "outputs": [
        {
          "output_type": "stream",
          "name": "stdout",
          "text": [
            "[   0. 1259.  503.    0.]\n"
          ]
        }
      ],
      "source": [
        "survey_community_activities_counts = np.zeros(len(hyp_community_activites_list))\n",
        "for j, communityactivties in enumerate(hyp_community_activites_list):\n",
        "  survey_community_activities_counts[j] = len(df[df[community_activities]==communityactivties])\n",
        "  if j==2:\n",
        "      print(survey_community_activities_counts)"
      ]
    },
    {
      "cell_type": "code",
      "execution_count": null,
      "metadata": {
        "id": "4nvwHChD69bT",
        "colab": {
          "base_uri": "https://localhost:8080/"
        },
        "outputId": "daff76e7-f525-41d2-b2c5-fbf9431f022d"
      },
      "outputs": [
        {
          "output_type": "stream",
          "name": "stdout",
          "text": [
            "[ 1.  2. 97.]\n"
          ]
        }
      ],
      "source": [
        "completed_activites_list = np.delete(hyp_community_activites_list,0)\n",
        "print(completed_activites_list)"
      ]
    },
    {
      "cell_type": "code",
      "execution_count": null,
      "metadata": {
        "id": "EW7zCtsO93pH",
        "colab": {
          "base_uri": "https://localhost:8080/"
        },
        "outputId": "e4d5de39-fd55-4337-a2ed-c3fde26c8b73"
      },
      "outputs": [
        {
          "output_type": "stream",
          "name": "stdout",
          "text": [
            "[1. 2.]\n"
          ]
        }
      ],
      "source": [
        "super_completed_activites_list = np.delete(completed_activites_list,2)\n",
        "print(super_completed_activites_list)"
      ]
    },
    {
      "cell_type": "code",
      "execution_count": null,
      "metadata": {
        "id": "vfrF7sJr9kWY",
        "colab": {
          "base_uri": "https://localhost:8080/"
        },
        "outputId": "e36adb5d-6a42-409b-fae3-46ac9631c664"
      },
      "outputs": [
        {
          "output_type": "stream",
          "name": "stdout",
          "text": [
            "[   0. 1259.  503.]\n"
          ]
        }
      ],
      "source": [
        "completed_community_activites_counts = np.delete(survey_community_activities_counts,3)\n",
        "print(completed_community_activites_counts)"
      ]
    },
    {
      "cell_type": "code",
      "execution_count": null,
      "metadata": {
        "id": "6MgrHyuq-kmk",
        "colab": {
          "base_uri": "https://localhost:8080/"
        },
        "outputId": "eac4b658-19ac-4a45-fba2-cacc5362561b"
      },
      "outputs": [
        {
          "output_type": "stream",
          "name": "stdout",
          "text": [
            "[1259.  503.]\n"
          ]
        }
      ],
      "source": [
        "super_completed_community_activites_counts = np.delete(completed_community_activites_counts,0)\n",
        "print(super_completed_community_activites_counts)"
      ]
    },
    {
      "cell_type": "code",
      "execution_count": null,
      "metadata": {
        "id": "nJYeS1DJ7b3n",
        "colab": {
          "base_uri": "https://localhost:8080/",
          "height": 521
        },
        "outputId": "95b6363d-c553-4800-86aa-6b038468f21e"
      },
      "outputs": [
        {
          "output_type": "execute_result",
          "data": {
            "text/plain": [
              "Text(2.2, 1075, '2 = No')"
            ]
          },
          "metadata": {},
          "execution_count": 143
        },
        {
          "output_type": "display_data",
          "data": {
            "text/plain": [
              "<Figure size 1008x576 with 1 Axes>"
            ],
            "image/png": "[encoded data removed]"
          },
          "metadata": {
            "needs_background": "light"
          }
        }
      ],
      "source": [
        "fig,ax=plt.subplots(1,1, figsize=(14,8))\n",
        "plt.bar(super_completed_activites_list,super_completed_community_activites_counts)\n",
        "plt.ylabel(\"# of People\", fontsize = 15)\n",
        "plt.title(\"If People Have Access To Physical Activities In Their Community (Hypertension Survey)\", fontsize = 20)\n",
        "plt.text(2.2, 1150, \"1 = Yes\",fontsize = 15)\n",
        "plt.text(2.2,1075, \"2 = No\", fontsize = 15)"
      ]
    },
    {
      "cell_type": "code",
      "execution_count": null,
      "metadata": {
        "id": "ynredOMQgXtl",
        "colab": {
          "base_uri": "https://localhost:8080/"
        },
        "outputId": "6acaa057-f76b-4060-c4e3-70df70fedd07"
      },
      "outputs": [
        {
          "output_type": "stream",
          "name": "stdout",
          "text": [
            "11\n",
            "How much hard physical work is required on your job? Would you say a great deal, a moderate amount, a little, or none? \n",
            "12\n",
            "At your main job or business, how are you generally paid for the work you do? Are you: \n",
            "27\n",
            "Within the past 12 months at work, do you feel you were treated worse than, the same as, or better than people of other races? \n",
            "63\n",
            "How many times has your new baby been to a doctor, nurse, or other health care worker for a well‐baby checkup? A well-baby checkup is a regular health visit for your baby usually at 1, 2, 4, and 6 months of age. \n",
            "81\n",
            "I was apart from my husband or partner due to military deployment or extended work‐related travel \n",
            "82\n",
            "I lost my job even though I wanted to go on working \n",
            "101\n",
            "During the past seven days, on how many days did you walk for at least ten minutes at a time to get to some place such as work, school, a store, or restaurant? (Please specify a number between 0 and 7.) \n"
          ]
        }
      ],
      "source": [
        "for i, col in enumerate(df.columns):\n",
        "  if \"work\" in col:\n",
        "    print(i)\n",
        "    print(col)"
      ]
    },
    {
      "cell_type": "code",
      "execution_count": null,
      "metadata": {
        "id": "gZDC3_29itlT",
        "colab": {
          "base_uri": "https://localhost:8080/"
        },
        "outputId": "11dc36d8-6f2c-472c-915e-800ea04f13cb"
      },
      "outputs": [
        {
          "output_type": "stream",
          "name": "stdout",
          "text": [
            "How much hard physical work is required on your job? Would you say a great deal, a moderate amount, a little, or none? \n"
          ]
        }
      ],
      "source": [
        "physical_work = df.columns[11]\n",
        "print(physical_work)"
      ]
    },
    {
      "cell_type": "code",
      "execution_count": null,
      "metadata": {
        "id": "3Ixy35M4izqn",
        "colab": {
          "base_uri": "https://localhost:8080/"
        },
        "outputId": "48bcee72-c8d1-436a-d3ad-04a3895f8984"
      },
      "outputs": [
        {
          "output_type": "stream",
          "name": "stdout",
          "text": [
            "[nan  1.  2.  4.  3.]\n"
          ]
        }
      ],
      "source": [
        "hyp_physical_work_list = df[physical_work].unique()\n",
        "print(hyp_physical_work_list)"
      ]
    },
    {
      "cell_type": "code",
      "execution_count": null,
      "metadata": {
        "id": "-GO5iQFljKbk",
        "colab": {
          "base_uri": "https://localhost:8080/"
        },
        "outputId": "ab5cb926-69f3-4b75-a1e5-c6ece502697b"
      },
      "outputs": [
        {
          "output_type": "stream",
          "name": "stdout",
          "text": [
            "[  0.  82. 238. 421. 307.]\n"
          ]
        }
      ],
      "source": [
        "survey_physical_work_counts = np.zeros(len(hyp_physical_work_list))\n",
        "for i, physicalwork in enumerate(hyp_physical_work_list):\n",
        "  survey_physical_work_counts[i] = len(df[df[physical_work]==physicalwork])\n",
        "print(survey_physical_work_counts)"
      ]
    },
    {
      "cell_type": "code",
      "execution_count": null,
      "metadata": {
        "id": "dc5hfZwXjpOc",
        "colab": {
          "base_uri": "https://localhost:8080/"
        },
        "outputId": "026e5ebf-7ab9-4b33-fb2e-10a2bb2b11ca"
      },
      "outputs": [
        {
          "output_type": "stream",
          "name": "stdout",
          "text": [
            "[1. 2. 4. 3.]\n"
          ]
        }
      ],
      "source": [
        "completed_physical_activity_list = np.delete(hyp_physical_work_list,0)\n",
        "print(completed_physical_activity_list)"
      ]
    },
    {
      "cell_type": "code",
      "execution_count": null,
      "metadata": {
        "id": "mPptNpuaj99x",
        "colab": {
          "base_uri": "https://localhost:8080/"
        },
        "outputId": "3ea24c4a-2f69-40be-d5d3-de68ff73b120"
      },
      "outputs": [
        {
          "output_type": "stream",
          "name": "stdout",
          "text": [
            "[ 82. 238. 421. 307.]\n"
          ]
        }
      ],
      "source": [
        "completed_physical_work_counts = np.delete(survey_physical_work_counts,0)\n",
        "print(completed_physical_work_counts)"
      ]
    },
    {
      "cell_type": "code",
      "execution_count": null,
      "metadata": {
        "id": "HNcAF7I8kMVF",
        "colab": {
          "base_uri": "https://localhost:8080/",
          "height": 521
        },
        "outputId": "64aa3590-8879-437f-90ef-ed1c8dc8bd36"
      },
      "outputs": [
        {
          "output_type": "execute_result",
          "data": {
            "text/plain": [
              "Text(0.75, 310, '1 = A Lot')"
            ]
          },
          "metadata": {},
          "execution_count": 150
        },
        {
          "output_type": "display_data",
          "data": {
            "text/plain": [
              "<Figure size 1008x576 with 1 Axes>"
            ],
            "image/png": "[encoded data removed]"
          },
          "metadata": {
            "needs_background": "light"
          }
        }
      ],
      "source": [
        "fig,ax=plt.subplots(1,1, figsize=(14,8))\n",
        "plt.bar(completed_physical_activity_list,completed_physical_work_counts)\n",
        "plt.ylabel(\"# of People\", fontsize = 15)\n",
        "plt.title(\"The Amount Workload For People At Their Jobs (Hypertension Survey)\", fontsize = 20)\n",
        "plt.text(.75, 400, \"4 = None\",fontsize = 15)\n",
        "plt.text(.75, 370, \"3 = A Little\",fontsize = 15)\n",
        "plt.text(.75, 340, \"2 = Moderate Amount\",fontsize = 15)\n",
        "plt.text(.75, 310, \"1 = A Lot\",fontsize = 15)\n"
      ]
    },
    {
      "cell_type": "code",
      "execution_count": null,
      "metadata": {
        "id": "W2ZxTTbYkl1L",
        "colab": {
          "base_uri": "https://localhost:8080/"
        },
        "outputId": "8451aca0-c6db-4d19-f68b-146d2a3d9e94"
      },
      "outputs": [
        {
          "output_type": "stream",
          "name": "stdout",
          "text": [
            "26\n",
            "How often do you think about your race? Would you say never, once a year, once a month, once a week, once a day, once an hour, or constantly?\n",
            "49\n",
            "What is the highest grade or year of school you completed? \n",
            "51\n",
            "What year were you born? \n",
            "96\n",
            "How many children less than 18 years of age live in your household? \n",
            "97\n",
            "Excluding adults living away from home, such as students away at college, how many members of your household, including yourself, are 18 years of age or older? \n",
            "115\n",
            "Do any of these situations apply to you? You have used intravenous drugs in the past year, You have been treated for a sexually transmitted or venereal disease in the past year, you have given or received money or drugs in exchange for sex in the past year, you had anal sex without a condom in the past year.\n",
            "171\n",
            "Times per year (Please specify)\n",
            "181\n",
            "Have you had a test for high blood sugar or diabetes within the past three years?\n"
          ]
        }
      ],
      "source": [
        "for i, col in enumerate(df.columns):\n",
        "  if \"year\" in col:\n",
        "    print(i)\n",
        "    print(col)"
      ]
    },
    {
      "cell_type": "code",
      "execution_count": null,
      "metadata": {
        "id": "IQxOO7UylOYI",
        "colab": {
          "base_uri": "https://localhost:8080/"
        },
        "outputId": "ba527d16-d11b-4f10-95d5-016f796d879e"
      },
      "outputs": [
        {
          "output_type": "stream",
          "name": "stdout",
          "text": [
            "What year were you born? \n"
          ]
        }
      ],
      "source": [
        "year_born = df.columns[51]\n",
        "print(year_born)"
      ]
    },
    {
      "cell_type": "code",
      "execution_count": null,
      "metadata": {
        "id": "3QWTdqT2lUe0",
        "colab": {
          "base_uri": "https://localhost:8080/"
        },
        "outputId": "17f75626-2fd7-4b15-c7c1-380381ed29c3"
      },
      "outputs": [
        {
          "output_type": "stream",
          "name": "stdout",
          "text": [
            "[  nan 1925. 1927. 1928. 1929. 1930. 1931. 1932. 1934. 1935. 1936. 1937.\n",
            " 1938. 1939. 1940. 1941. 1942. 1943. 1944. 1945. 1946. 1947. 1948. 1949.\n",
            " 1950. 1951. 1952. 1953. 1954. 1955. 1956. 1957. 1958. 1959. 1960. 1961.\n",
            " 1962. 1963. 1964. 1965. 1966. 1967. 1968. 1969. 1970. 1971. 1972. 1973.\n",
            " 1974. 1975. 1976. 1977. 1978. 1979. 1980. 1981. 1982. 1983. 1984. 1985.\n",
            " 1986. 1987. 1988. 1989. 1990. 1991. 1992. 1993. 1994. 1995. 1996. 1998.\n",
            " 1999. 2000. 1997. 1926. 1933.]\n"
          ]
        }
      ],
      "source": [
        "hyp_year_born_list = df[year_born].unique()\n",
        "print(hyp_year_born_list)"
      ]
    },
    {
      "cell_type": "code",
      "execution_count": null,
      "metadata": {
        "id": "M8JXhne6lg41",
        "colab": {
          "base_uri": "https://localhost:8080/"
        },
        "outputId": "6f48b47e-b148-477a-bfb9-09f8129f603a"
      },
      "outputs": [
        {
          "output_type": "stream",
          "name": "stdout",
          "text": [
            "[0. 0. 0. 0. 0. 0. 0. 0. 0. 0. 0. 0. 0. 0. 0. 0. 0. 0. 0. 0. 0. 0. 0. 0.\n",
            " 0. 0. 0. 0. 0. 0. 0. 0. 0. 0. 0. 0. 0. 0. 0. 0. 0. 0. 0. 0. 0. 0. 0. 0.\n",
            " 0. 0. 0. 0. 0. 0. 0. 0. 0. 0. 0. 0. 0. 0. 0. 0. 0. 0. 0. 0. 0. 0. 0. 0.\n",
            " 0. 0. 0. 0. 0.]\n"
          ]
        }
      ],
      "source": [
        "survey_year_born_counts = np.zeros(len(hyp_year_born_list))\n",
        "for i, yearborn in enumerate(hyp_year_born_list):\n",
        "  survey_year_born_counts[i] = len(df[df[physical_work]==yearborn])\n",
        "print(survey_year_born_counts)"
      ]
    },
    {
      "cell_type": "code",
      "execution_count": null,
      "metadata": {
        "id": "6mGCjN_5lzSs",
        "colab": {
          "base_uri": "https://localhost:8080/"
        },
        "outputId": "2b5bb5ba-bf94-470d-a4e1-6bd8660ca76c"
      },
      "outputs": [
        {
          "output_type": "stream",
          "name": "stdout",
          "text": [
            "[1925. 1927. 1928. 1929. 1930. 1931. 1932. 1934. 1935. 1936. 1937. 1938.\n",
            " 1939. 1940. 1941. 1942. 1943. 1944. 1945. 1946. 1947. 1948. 1949. 1950.\n",
            " 1951. 1952. 1953. 1954. 1955. 1956. 1957. 1958. 1959. 1960. 1961. 1962.\n",
            " 1963. 1964. 1965. 1966. 1967. 1968. 1969. 1970. 1971. 1972. 1973. 1974.\n",
            " 1975. 1976. 1977. 1978. 1979. 1980. 1981. 1982. 1983. 1984. 1985. 1986.\n",
            " 1987. 1988. 1989. 1990. 1991. 1992. 1993. 1994. 1995. 1996. 1998. 1999.\n",
            " 2000. 1997. 1926. 1933.]\n"
          ]
        }
      ],
      "source": [
        "completed_year_born_list = np.delete(hyp_year_born_list,0)\n",
        "print(completed_year_born_list)"
      ]
    },
    {
      "cell_type": "code",
      "execution_count": null,
      "metadata": {
        "id": "HDHy8GjamDk4",
        "colab": {
          "base_uri": "https://localhost:8080/"
        },
        "outputId": "98b3ff1f-8fa2-4eb9-fb67-227f730fabaa"
      },
      "outputs": [
        {
          "output_type": "stream",
          "name": "stdout",
          "text": [
            "[0. 0. 0. 0. 0. 0. 0. 0. 0. 0. 0. 0. 0. 0. 0. 0. 0. 0. 0. 0. 0. 0. 0. 0.\n",
            " 0. 0. 0. 0. 0. 0. 0. 0. 0. 0. 0. 0. 0. 0. 0. 0. 0. 0. 0. 0. 0. 0. 0. 0.\n",
            " 0. 0. 0. 0. 0. 0. 0. 0. 0. 0. 0. 0. 0. 0. 0. 0. 0. 0. 0. 0. 0. 0. 0. 0.\n",
            " 0. 0. 0. 0.]\n"
          ]
        }
      ],
      "source": [
        "completed_year_born_counts = np.delete(survey_year_born_counts,0)\n",
        "print(completed_year_born_counts)"
      ]
    },
    {
      "cell_type": "code",
      "execution_count": null,
      "metadata": {
        "colab": {
          "base_uri": "https://localhost:8080/",
          "height": 477
        },
        "id": "eEpjXGQpmOoL",
        "outputId": "e544808f-ac60-4e92-b454-858d41e214d0"
      },
      "outputs": [
        {
          "output_type": "execute_result",
          "data": {
            "text/plain": [
              "Text(0.5, 1.0, 'Birthday Year of People (Hypertension Survey)')"
            ]
          },
          "metadata": {},
          "execution_count": 157
        },
        {
          "output_type": "display_data",
          "data": {
            "text/plain": [
              "<Figure size 1800x576 with 1 Axes>"
            ],
            "image/png": "[encoded data removed]"
          },
          "metadata": {
            "needs_background": "light"
          }
        }
      ],
      "source": [
        "fig,ax=plt.subplots(1,1, figsize=(25,8))\n",
        "plt.hist(completed_year_born_list, bins = 20)\n",
        "plt.xticks(completed_year_born_list, rotation = 30)\n",
        "plt.xlabel(\"Years\", fontsize = 15)\n",
        "plt.ylabel(\"Years Repeated\", fontsize = 15)\n",
        "plt.title(\"Birthday Year of People (Hypertension Survey)\", fontsize = 20)"
      ]
    },
    {
      "cell_type": "code",
      "execution_count": null,
      "metadata": {
        "colab": {
          "base_uri": "https://localhost:8080/"
        },
        "id": "eJFmUBNymV8g",
        "outputId": "b6b5e23c-ff39-4100-f495-4e225e35671e"
      },
      "outputs": [
        {
          "output_type": "stream",
          "name": "stdout",
          "text": [
            "105\n",
            "On the days you exercise, how many minutes or ours do you physically exercise?\n",
            "106\n",
            "In a typical week, how many days do you physically exercise?  (Please specify a number between 0 and 7.)\n"
          ]
        }
      ],
      "source": [
        "for i, col in enumerate(df.columns):\n",
        "  if \"physically exercise\" in col:\n",
        "    print(i)\n",
        "    print(col)"
      ]
    },
    {
      "cell_type": "code",
      "execution_count": null,
      "metadata": {
        "colab": {
          "base_uri": "https://localhost:8080/"
        },
        "id": "Ifcy_2q9nXc9",
        "outputId": "43e3bc15-aed8-4b4f-cfeb-cae65f981dd4"
      },
      "outputs": [
        {
          "output_type": "stream",
          "name": "stdout",
          "text": [
            "In a typical week, how many days do you physically exercise?  (Please specify a number between 0 and 7.)\n"
          ]
        }
      ],
      "source": [
        "days_physically_exercise = df.columns[106]\n",
        "print(days_physically_exercise)"
      ]
    },
    {
      "cell_type": "code",
      "execution_count": null,
      "metadata": {
        "colab": {
          "base_uri": "https://localhost:8080/"
        },
        "id": "4T1UyzuWn-VM",
        "outputId": "f24c6db0-61f2-41fe-f530-7ae88f6f7ef0"
      },
      "outputs": [
        {
          "output_type": "stream",
          "name": "stdout",
          "text": [
            "[nan  2.  1.  0.  3.  7.  5.  6.  4.]\n"
          ]
        }
      ],
      "source": [
        "hyp_days_exercise_list = df[days_physically_exercise].unique()\n",
        "print(hyp_days_exercise_list)"
      ]
    },
    {
      "cell_type": "code",
      "execution_count": null,
      "metadata": {
        "colab": {
          "base_uri": "https://localhost:8080/"
        },
        "id": "BLiA5Y0poKy3",
        "outputId": "62ff225a-7b63-4e50-ca36-fef636a720cb"
      },
      "outputs": [
        {
          "output_type": "stream",
          "name": "stdout",
          "text": [
            "[  0. 262. 153. 366. 322. 122. 228.  85. 200.]\n"
          ]
        }
      ],
      "source": [
        "survey_days_exercise_counts = np.zeros(len(hyp_days_exercise_list))\n",
        "for i, daysexercise in enumerate(hyp_days_exercise_list):\n",
        "  survey_days_exercise_counts[i] = len(df[df[days_physically_exercise]==daysexercise])\n",
        "print(survey_days_exercise_counts)"
      ]
    },
    {
      "cell_type": "code",
      "execution_count": null,
      "metadata": {
        "colab": {
          "base_uri": "https://localhost:8080/"
        },
        "id": "65ILWsiXoarI",
        "outputId": "568eeb80-ccd2-4daf-8180-79c23c9b095d"
      },
      "outputs": [
        {
          "output_type": "stream",
          "name": "stdout",
          "text": [
            "[2. 1. 0. 3. 7. 5. 6. 4.]\n"
          ]
        }
      ],
      "source": [
        "completed_days_exercise_list = np.delete(hyp_days_exercise_list,0)\n",
        "print(completed_days_exercise_list)"
      ]
    },
    {
      "cell_type": "code",
      "execution_count": null,
      "metadata": {
        "colab": {
          "base_uri": "https://localhost:8080/"
        },
        "id": "uxU8D1vpojJK",
        "outputId": "11fd9da5-2eef-4d91-cc75-fe9a00162c06"
      },
      "outputs": [
        {
          "output_type": "stream",
          "name": "stdout",
          "text": [
            "[262. 153. 366. 322. 122. 228.  85. 200.]\n"
          ]
        }
      ],
      "source": [
        "completed_days_exercise_counts = np.delete(survey_days_exercise_counts,0)\n",
        "print(completed_days_exercise_counts)"
      ]
    },
    {
      "cell_type": "code",
      "execution_count": null,
      "metadata": {
        "colab": {
          "base_uri": "https://localhost:8080/",
          "height": 540
        },
        "id": "G3gLyyWRotal",
        "outputId": "22ff3f48-39f9-4122-cfdb-7ebd7b5a099b"
      },
      "outputs": [
        {
          "output_type": "execute_result",
          "data": {
            "text/plain": [
              "Text(0.5, 1.0, 'Amount of Times People Exercise Out Of 7 Days (Hypertension Survey)')"
            ]
          },
          "metadata": {},
          "execution_count": 164
        },
        {
          "output_type": "display_data",
          "data": {
            "text/plain": [
              "<Figure size 1008x576 with 1 Axes>"
            ],
            "image/png": "[encoded data removed]"
          },
          "metadata": {
            "needs_background": "light"
          }
        }
      ],
      "source": [
        "fig,ax=plt.subplots(1,1, figsize=(14,8))\n",
        "plt.bar(completed_days_exercise_list,completed_days_exercise_counts)\n",
        "plt.xlabel(\"Days\", fontsize = 15)\n",
        "plt.ylabel(\"# of People\", fontsize = 15)\n",
        "plt.title(\"Amount of Times People Exercise Out Of 7 Days (Hypertension Survey)\", fontsize = 20)"
      ]
    },
    {
      "cell_type": "code",
      "execution_count": null,
      "metadata": {
        "colab": {
          "base_uri": "https://localhost:8080/"
        },
        "id": "OxniemTIo9NF",
        "outputId": "bf37b613-4509-494d-81b3-4dc9db98fcf1"
      },
      "outputs": [
        {
          "output_type": "stream",
          "name": "stdout",
          "text": [
            "153\n",
            "During the past week, how many times did you drink regular soda or pop that contains sugar? Do not include diet soda or diet pop.\n"
          ]
        }
      ],
      "source": [
        "for i, col in enumerate(df.columns):\n",
        "  if \"soda\" in col:\n",
        "    print(i)\n",
        "    print(col)"
      ]
    },
    {
      "cell_type": "code",
      "execution_count": null,
      "metadata": {
        "colab": {
          "base_uri": "https://localhost:8080/"
        },
        "id": "4odz4mt3p7MI",
        "outputId": "d2aacb72-3f4b-4c07-daa7-8b45214270fc"
      },
      "outputs": [
        {
          "output_type": "stream",
          "name": "stdout",
          "text": [
            "During the past week, how many times did you drink regular soda or pop that contains sugar? Do not include diet soda or diet pop.\n"
          ]
        }
      ],
      "source": [
        "drink_soda = df.columns[153]\n",
        "print(drink_soda)"
      ]
    },
    {
      "cell_type": "code",
      "execution_count": null,
      "metadata": {
        "colab": {
          "base_uri": "https://localhost:8080/"
        },
        "id": "wefeO7tuqBSx",
        "outputId": "be396622-1310-4324-99b7-ca5d55e7c05b"
      },
      "outputs": [
        {
          "output_type": "stream",
          "name": "stdout",
          "text": [
            "[ 0. nan  3. 23.  1.  4.  9.  2.  5.  6.  7. 10. 15. 14. 18.  8. 20. 28.\n",
            " 12. 11. 13.]\n"
          ]
        }
      ],
      "source": [
        "hyp_drink_soda_list = df[drink_soda].unique()\n",
        "print(hyp_drink_soda_list)"
      ]
    },
    {
      "cell_type": "code",
      "execution_count": null,
      "metadata": {
        "colab": {
          "base_uri": "https://localhost:8080/"
        },
        "id": "AXU_weOiqIp8",
        "outputId": "5dd6e8c6-a182-4d57-c836-464c65e9b75e"
      },
      "outputs": [
        {
          "output_type": "stream",
          "name": "stdout",
          "text": [
            "[943.   0. 118.   1. 270.  59.   1. 192.  67.  21.  59.  21.   2.   4.\n",
            "   2.   6.   4.   1.   6.   1.   1.]\n"
          ]
        }
      ],
      "source": [
        "survey_drink_soda_counts = np.zeros(len(hyp_drink_soda_list))\n",
        "for i, sodadrink in enumerate(hyp_drink_soda_list):\n",
        "  survey_drink_soda_counts[i] = len(df[df[drink_soda]==sodadrink])\n",
        "print(survey_drink_soda_counts)"
      ]
    },
    {
      "cell_type": "code",
      "execution_count": null,
      "metadata": {
        "colab": {
          "base_uri": "https://localhost:8080/"
        },
        "id": "RdBWppoXqV3b",
        "outputId": "0a9a4bdd-35c3-4380-fa66-957bac5a1c1f"
      },
      "outputs": [
        {
          "output_type": "stream",
          "name": "stdout",
          "text": [
            "[ 0.  3. 23.  1.  4.  9.  2.  5.  6.  7. 10. 15. 14. 18.  8. 20. 28. 12.\n",
            " 11. 13.]\n"
          ]
        }
      ],
      "source": [
        "completed_soda_drink_list = np.delete(hyp_drink_soda_list,1)\n",
        "print(completed_soda_drink_list)"
      ]
    },
    {
      "cell_type": "code",
      "execution_count": null,
      "metadata": {
        "colab": {
          "base_uri": "https://localhost:8080/"
        },
        "id": "9j2mSPqRqbRA",
        "outputId": "f11bd5ed-9f6f-46ad-e8a3-176ae7881aa7"
      },
      "outputs": [
        {
          "output_type": "stream",
          "name": "stdout",
          "text": [
            "[943. 118.   1. 270.  59.   1. 192.  67.  21.  59.  21.   2.   4.   2.\n",
            "   6.   4.   1.   6.   1.   1.]\n"
          ]
        }
      ],
      "source": [
        "completed_drink_soda_counts = np.delete(survey_drink_soda_counts,1)\n",
        "print(completed_drink_soda_counts)"
      ]
    },
    {
      "cell_type": "code",
      "execution_count": null,
      "metadata": {
        "colab": {
          "base_uri": "https://localhost:8080/",
          "height": 431
        },
        "id": "MrdjjZFLqk9D",
        "outputId": "490024a5-6077-445b-af6a-02c5282dab02"
      },
      "outputs": [
        {
          "output_type": "execute_result",
          "data": {
            "text/plain": [
              "Text(0.5, 1.0, 'Amount of Times People Drink Soda In The Past Week (Hypertension Survey)')"
            ]
          },
          "metadata": {},
          "execution_count": 171
        },
        {
          "output_type": "display_data",
          "data": {
            "text/plain": [
              "<Figure size 864x432 with 1 Axes>"
            ],
            "image/png": "[encoded data removed]"
          },
          "metadata": {
            "needs_background": "light"
          }
        }
      ],
      "source": [
        "fig,ax=plt.subplots(1,1, figsize=(12,6))\n",
        "plt.bar(completed_soda_drink_list,completed_drink_soda_counts)\n",
        "plt.xlabel(\"Amount of Times Members Drinked Soda\", fontsize = 15)\n",
        "plt.ylabel(\"# of People\", fontsize = 15)\n",
        "plt.title(\"Amount of Times People Drink Soda In The Past Week (Hypertension Survey)\", fontsize = 20)"
      ]
    },
    {
      "cell_type": "code",
      "execution_count": null,
      "metadata": {
        "colab": {
          "base_uri": "https://localhost:8080/"
        },
        "id": "qboUzn07q6Il",
        "outputId": "35762547-0d7f-4748-9286-7203305d9c93"
      },
      "outputs": [
        {
          "output_type": "stream",
          "name": "stdout",
          "text": [
            "161\n",
            "Are you now taking medicine or receiving treatment from a doctor or other health professional for any type of mental health condition or emotional problem?\n",
            "168\n",
            "Are you currently taking medicine for your high blood pressure?\n"
          ]
        }
      ],
      "source": [
        "for i, col in enumerate(df.columns):\n",
        "  if \"medicine\" in col:\n",
        "    print(i)\n",
        "    print(col)"
      ]
    },
    {
      "cell_type": "code",
      "execution_count": null,
      "metadata": {
        "colab": {
          "base_uri": "https://localhost:8080/"
        },
        "id": "XfMG0dUHrnNW",
        "outputId": "c40bea8d-6587-41ed-9395-a0f7aa8f5291"
      },
      "outputs": [
        {
          "output_type": "stream",
          "name": "stdout",
          "text": [
            "Are you currently taking medicine for your high blood pressure?\n"
          ]
        }
      ],
      "source": [
        "medicine_hyp = df.columns[168]\n",
        "print(medicine_hyp)"
      ]
    },
    {
      "cell_type": "code",
      "execution_count": null,
      "metadata": {
        "colab": {
          "base_uri": "https://localhost:8080/"
        },
        "id": "7JR0IF1QrsVa",
        "outputId": "d9080ea1-d204-4444-a34d-51433a429bd0"
      },
      "outputs": [
        {
          "output_type": "stream",
          "name": "stdout",
          "text": [
            "[ 1. nan  2. 97.]\n"
          ]
        }
      ],
      "source": [
        "medicine_hyp_list = df[medicine_hyp].unique()\n",
        "print(medicine_hyp_list)"
      ]
    },
    {
      "cell_type": "code",
      "execution_count": null,
      "metadata": {
        "colab": {
          "base_uri": "https://localhost:8080/"
        },
        "id": "cpaxeqcGr2BF",
        "outputId": "ca70dfe0-6a25-43d1-a3d8-cc233cb391d1"
      },
      "outputs": [
        {
          "output_type": "stream",
          "name": "stdout",
          "text": [
            "[492.   0. 111.   2.]\n"
          ]
        }
      ],
      "source": [
        "survey_medicine_hyp_counts = np.zeros(len(medicine_hyp_list))\n",
        "for i, medhyp in enumerate(medicine_hyp_list):\n",
        "  survey_medicine_hyp_counts[i] = len(df[df[medicine_hyp]==medhyp])\n",
        "print(survey_medicine_hyp_counts)"
      ]
    },
    {
      "cell_type": "code",
      "execution_count": null,
      "metadata": {
        "colab": {
          "base_uri": "https://localhost:8080/"
        },
        "id": "UdMHOGLfsEVz",
        "outputId": "dfd44b28-a763-4981-c669-d8676a2425aa"
      },
      "outputs": [
        {
          "output_type": "stream",
          "name": "stdout",
          "text": [
            "[ 1.  2. 97.]\n"
          ]
        }
      ],
      "source": [
        "completed_hyp_medicine_list = np.delete(medicine_hyp_list,1)\n",
        "print(completed_hyp_medicine_list)"
      ]
    },
    {
      "cell_type": "code",
      "execution_count": null,
      "metadata": {
        "colab": {
          "base_uri": "https://localhost:8080/"
        },
        "id": "yAhCxxS5sNDz",
        "outputId": "00b4b9be-50f3-483e-9b7b-2267cb5bd8c2"
      },
      "outputs": [
        {
          "output_type": "stream",
          "name": "stdout",
          "text": [
            "[492. 111.   2.]\n"
          ]
        }
      ],
      "source": [
        "completed_medicine_hyp_counts = np.delete(survey_medicine_hyp_counts,1)\n",
        "print(completed_medicine_hyp_counts)"
      ]
    },
    {
      "cell_type": "code",
      "execution_count": null,
      "metadata": {
        "colab": {
          "base_uri": "https://localhost:8080/"
        },
        "id": "-FO_hYRWsUyR",
        "outputId": "2347d3fb-bdea-4d7f-bbf5-ded8a66544f1"
      },
      "outputs": [
        {
          "output_type": "stream",
          "name": "stdout",
          "text": [
            "[1. 2.]\n"
          ]
        }
      ],
      "source": [
        "super_complete_hyp_medicine_list = np.delete(completed_hyp_medicine_list,2)\n",
        "print(super_complete_hyp_medicine_list)"
      ]
    },
    {
      "cell_type": "code",
      "execution_count": null,
      "metadata": {
        "colab": {
          "base_uri": "https://localhost:8080/"
        },
        "id": "klyEkWqLseib",
        "outputId": "242299db-d2b9-4237-be86-e4e07873e0b0"
      },
      "outputs": [
        {
          "output_type": "stream",
          "name": "stdout",
          "text": [
            "[492. 111.]\n"
          ]
        }
      ],
      "source": [
        "super_complete_hyp_medicine_counts = np.delete(completed_medicine_hyp_counts,2)\n",
        "print(super_complete_hyp_medicine_counts)"
      ]
    },
    {
      "cell_type": "code",
      "execution_count": null,
      "metadata": {
        "colab": {
          "base_uri": "https://localhost:8080/",
          "height": 521
        },
        "id": "v_m69qrgsob0",
        "outputId": "e44e26e1-b258-49ab-fa56-c9899d80f830"
      },
      "outputs": [
        {
          "output_type": "execute_result",
          "data": {
            "text/plain": [
              "Text(2.25, 450, '2 = No')"
            ]
          },
          "metadata": {},
          "execution_count": 180
        },
        {
          "output_type": "display_data",
          "data": {
            "text/plain": [
              "<Figure size 1008x576 with 1 Axes>"
            ],
            "image/png": "[encoded data removed]"
          },
          "metadata": {
            "needs_background": "light"
          }
        }
      ],
      "source": [
        "fig,ax=plt.subplots(1,1, figsize=(14,8))\n",
        "plt.bar(super_complete_hyp_medicine_list,super_complete_hyp_medicine_counts)\n",
        "plt.ylabel(\"# of People\", fontsize = 15)\n",
        "plt.title(\"If People Are Take Medicine For Their High Blood Pressure (Hypertension Survey)\", fontsize = 20)\n",
        "plt.text(2.25, 480, \"1 = Yes\",fontsize = 15)\n",
        "plt.text(2.25, 450, \"2 = No\",fontsize = 15)"
      ]
    },
    {
      "cell_type": "code",
      "execution_count": null,
      "metadata": {
        "colab": {
          "base_uri": "https://localhost:8080/"
        },
        "id": "fgMSOnDksyJY",
        "outputId": "ecdcd2ad-d3b5-40c2-b3f7-b0fc440382d5"
      },
      "outputs": [
        {
          "output_type": "stream",
          "name": "stdout",
          "text": [
            "158\n",
            "Are you currently watching or reducing your sodium or salt intake? \n"
          ]
        }
      ],
      "source": [
        "for i, col in enumerate(df.columns):\n",
        "  if \"sodium\" in col:\n",
        "    print(i)\n",
        "    print(col)"
      ]
    },
    {
      "cell_type": "code",
      "execution_count": null,
      "metadata": {
        "colab": {
          "base_uri": "https://localhost:8080/"
        },
        "id": "JZSYCGKWvQBf",
        "outputId": "0ac98565-383a-4bcb-9fee-354a02593861"
      },
      "outputs": [
        {
          "output_type": "stream",
          "name": "stdout",
          "text": [
            "Are you currently watching or reducing your sodium or salt intake? \n"
          ]
        }
      ],
      "source": [
        "sodium_intake = df.columns[158]\n",
        "print(sodium_intake)"
      ]
    },
    {
      "cell_type": "code",
      "execution_count": null,
      "metadata": {
        "colab": {
          "base_uri": "https://localhost:8080/"
        },
        "id": "XinQcRTOvZvN",
        "outputId": "ac1cbcc2-c8d8-4d1c-cc4c-c0a540fb7a58"
      },
      "outputs": [
        {
          "output_type": "stream",
          "name": "stdout",
          "text": [
            "[ 1.  2. nan]\n"
          ]
        }
      ],
      "source": [
        "hyp_sodium_intake_list = df[sodium_intake].unique()\n",
        "print(hyp_sodium_intake_list)"
      ]
    },
    {
      "cell_type": "code",
      "execution_count": null,
      "metadata": {
        "colab": {
          "base_uri": "https://localhost:8080/"
        },
        "id": "ychhT8vPvj_v",
        "outputId": "cfe09dce-c9d2-4554-d79e-4fbf6e180fc8"
      },
      "outputs": [
        {
          "output_type": "stream",
          "name": "stdout",
          "text": [
            "[826. 972.   0.]\n"
          ]
        }
      ],
      "source": [
        "survey_sodium_intake_counts = np.zeros(len(hyp_sodium_intake_list))\n",
        "for i, sodiumintake in enumerate(hyp_sodium_intake_list):\n",
        "  survey_sodium_intake_counts[i] = len(df[df[sodium_intake]==sodiumintake])\n",
        "print(survey_sodium_intake_counts)"
      ]
    },
    {
      "cell_type": "code",
      "execution_count": null,
      "metadata": {
        "colab": {
          "base_uri": "https://localhost:8080/"
        },
        "id": "yTLs3NWlv2TU",
        "outputId": "7dc4ad81-4c44-45e6-fc97-2cd89d4db94d"
      },
      "outputs": [
        {
          "output_type": "stream",
          "name": "stdout",
          "text": [
            "[1. 2.]\n"
          ]
        }
      ],
      "source": [
        "completed_sodium_list = np.delete(hyp_sodium_intake_list,2)\n",
        "print(completed_sodium_list)"
      ]
    },
    {
      "cell_type": "code",
      "execution_count": null,
      "metadata": {
        "colab": {
          "base_uri": "https://localhost:8080/"
        },
        "id": "DdzHHTE8wCxK",
        "outputId": "806da5b4-2ce2-482d-b07b-2603ac7bf05d"
      },
      "outputs": [
        {
          "output_type": "stream",
          "name": "stdout",
          "text": [
            "[826. 972.]\n"
          ]
        }
      ],
      "source": [
        "completed_sodium_counts = np.delete(survey_sodium_intake_counts,2)\n",
        "print(completed_sodium_counts)"
      ]
    },
    {
      "cell_type": "code",
      "execution_count": null,
      "metadata": {
        "colab": {
          "base_uri": "https://localhost:8080/",
          "height": 521
        },
        "id": "nSlc7YWPwJzo",
        "outputId": "92a6df5b-c4b9-4299-9379-a90cf8259173"
      },
      "outputs": [
        {
          "output_type": "execute_result",
          "data": {
            "text/plain": [
              "Text(0.6, 900, '2 = No')"
            ]
          },
          "metadata": {},
          "execution_count": 187
        },
        {
          "output_type": "display_data",
          "data": {
            "text/plain": [
              "<Figure size 1008x576 with 1 Axes>"
            ],
            "image/png": "[encoded data removed]"
          },
          "metadata": {
            "needs_background": "light"
          }
        }
      ],
      "source": [
        "fig,ax=plt.subplots(1,1, figsize=(14,8))\n",
        "plt.bar(completed_sodium_list,completed_sodium_counts)\n",
        "plt.ylabel(\"# of People\", fontsize = 15)\n",
        "plt.title(\"If People Are Watching Or Reducing Their Sodium Intake (Hypertension Survey)\", fontsize = 20)\n",
        "plt.text(.6, 950, \"1 = Yes\",fontsize = 15)\n",
        "plt.text(.6, 900, \"2 = No\",fontsize = 15)"
      ]
    },
    {
      "cell_type": "code",
      "execution_count": null,
      "metadata": {
        "colab": {
          "base_uri": "https://localhost:8080/"
        },
        "id": "Jfo1OqEEwWS6",
        "outputId": "5831d2fb-f9ee-4bf1-da3a-d28ca0e204f9"
      },
      "outputs": [
        {
          "output_type": "stream",
          "name": "stdout",
          "text": [
            "205\n",
            "Let's begin with some basic questions about your health. Would you say that in general your health is:\n"
          ]
        }
      ],
      "source": [
        "for i, col in enumerate(df.columns):\n",
        "  if \"basic questions\" in col:\n",
        "    print(i)\n",
        "    print(col)"
      ]
    },
    {
      "cell_type": "code",
      "execution_count": null,
      "metadata": {
        "colab": {
          "base_uri": "https://localhost:8080/"
        },
        "id": "EaMfY2B5xkoj",
        "outputId": "0f260d9c-bfa1-4c3b-e34f-a98edd4e6818"
      },
      "outputs": [
        {
          "output_type": "stream",
          "name": "stdout",
          "text": [
            "Let's begin with some basic questions about your health. Would you say that in general your health is:\n"
          ]
        }
      ],
      "source": [
        "health_general = df.columns[205]\n",
        "print(health_general)"
      ]
    },
    {
      "cell_type": "code",
      "execution_count": null,
      "metadata": {
        "colab": {
          "base_uri": "https://localhost:8080/"
        },
        "id": "zpyrOhsXxtrw",
        "outputId": "889863d3-94bf-45c9-91c9-fbec368e952d"
      },
      "outputs": [
        {
          "output_type": "stream",
          "name": "stdout",
          "text": [
            "[ 3.  2.  1.  4. nan  5. 97.]\n"
          ]
        }
      ],
      "source": [
        "hyp_health_general_list = df[health_general].unique()\n",
        "print(hyp_health_general_list)"
      ]
    },
    {
      "cell_type": "code",
      "execution_count": null,
      "metadata": {
        "colab": {
          "base_uri": "https://localhost:8080/"
        },
        "id": "YdzB0i7vx3y_",
        "outputId": "170ec59a-f5d8-48b4-e9c0-a5699179b649"
      },
      "outputs": [
        {
          "output_type": "stream",
          "name": "stdout",
          "text": [
            "[594. 735. 253. 188.   0.  29.   1.]\n"
          ]
        }
      ],
      "source": [
        "survey_health_general_counts = np.zeros(len(hyp_health_general_list))\n",
        "for i, healthgen in enumerate(hyp_health_general_list):\n",
        "  survey_health_general_counts[i] = len(df[df[health_general]==healthgen])\n",
        "print(survey_health_general_counts)"
      ]
    },
    {
      "cell_type": "code",
      "execution_count": null,
      "metadata": {
        "colab": {
          "base_uri": "https://localhost:8080/"
        },
        "id": "pOiOcd0Byy7M",
        "outputId": "95de2b6e-f84c-4e59-81ca-a8ca8b5db481"
      },
      "outputs": [
        {
          "output_type": "stream",
          "name": "stdout",
          "text": [
            "[ 3.  2.  1.  4.  5. 97.]\n"
          ]
        }
      ],
      "source": [
        "com_health_gen_list = np.delete(hyp_health_general_list, 4)\n",
        "print(com_health_gen_list)"
      ]
    },
    {
      "cell_type": "code",
      "execution_count": null,
      "metadata": {
        "colab": {
          "base_uri": "https://localhost:8080/"
        },
        "id": "Qc2HYvFly_63",
        "outputId": "476aaa00-2e15-4dd2-f599-347a75b7f5c3"
      },
      "outputs": [
        {
          "output_type": "stream",
          "name": "stdout",
          "text": [
            "[3. 2. 1. 4. 5.]\n"
          ]
        }
      ],
      "source": [
        "super_com_health_gen_list = np.delete(com_health_gen_list,5)\n",
        "print(super_com_health_gen_list)"
      ]
    },
    {
      "cell_type": "code",
      "execution_count": null,
      "metadata": {
        "colab": {
          "base_uri": "https://localhost:8080/"
        },
        "id": "sFSXzxeJzIs-",
        "outputId": "df90893d-0c63-4ac8-a793-831e374e974c"
      },
      "outputs": [
        {
          "output_type": "stream",
          "name": "stdout",
          "text": [
            "[594. 735. 253. 188.  29.   1.]\n"
          ]
        }
      ],
      "source": [
        "com_health_general_counts = np.delete(survey_health_general_counts,4)\n",
        "print(com_health_general_counts)"
      ]
    },
    {
      "cell_type": "code",
      "execution_count": null,
      "metadata": {
        "colab": {
          "base_uri": "https://localhost:8080/"
        },
        "id": "FEBOGMQfzT1X",
        "outputId": "5f27cf7d-8bf4-4a32-ec4b-bf58297938f2"
      },
      "outputs": [
        {
          "output_type": "stream",
          "name": "stdout",
          "text": [
            "[594. 735. 253. 188.  29.]\n"
          ]
        }
      ],
      "source": [
        "super_com_health_gen_counts = np.delete(com_health_general_counts,5)\n",
        "print(super_com_health_gen_counts)"
      ]
    },
    {
      "cell_type": "code",
      "execution_count": null,
      "metadata": {
        "colab": {
          "base_uri": "https://localhost:8080/",
          "height": 521
        },
        "id": "EohhbnyWzdn0",
        "outputId": "2fece009-3992-4319-ea7a-b13698dea2e2"
      },
      "outputs": [
        {
          "output_type": "execute_result",
          "data": {
            "text/plain": [
              "Text(4.75, 500, '5 = Poor')"
            ]
          },
          "metadata": {},
          "execution_count": 196
        },
        {
          "output_type": "display_data",
          "data": {
            "text/plain": [
              "<Figure size 1008x576 with 1 Axes>"
            ],
            "image/png": "[encoded data removed]"
          },
          "metadata": {
            "needs_background": "light"
          }
        }
      ],
      "source": [
        "fig,ax=plt.subplots(1,1, figsize=(14,8))\n",
        "plt.bar(super_com_health_gen_list,super_com_health_gen_counts)\n",
        "plt.ylabel(\"# of People\", fontsize = 15)\n",
        "plt.title(\"Members' Health Overall (Hypertension Survey)\", fontsize = 20)\n",
        "plt.text(4.75, 700, \"1 = Excellent\",fontsize = 15)\n",
        "plt.text(4.75, 650, \"2 = Very Good\",fontsize = 15)\n",
        "plt.text(4.75,600, \"3 = Good\", fontsize = 15)\n",
        "plt.text(4.75,550, \"4 = Fair\", fontsize = 15)\n",
        "plt.text(4.75,500, \"5 = Poor\", fontsize = 15)"
      ]
    },
    {
      "cell_type": "code",
      "execution_count": null,
      "metadata": {
        "colab": {
          "base_uri": "https://localhost:8080/"
        },
        "id": "p7rzpnhEzl6T",
        "outputId": "2a128457-0e62-41d9-b089-d0d449c9851d"
      },
      "outputs": [
        {
          "output_type": "stream",
          "name": "stdout",
          "text": [
            "168\n",
            "Are you currently taking medicine for your high blood pressure?\n",
            "169\n",
            "Was this high blood pressure caused by a pregnancy?\n",
            "170\n",
            "Have you ever been told by a doctor, nurse or other health professional that you have high blood pressure?\n"
          ]
        }
      ],
      "source": [
        "for i, col in enumerate(df.columns):\n",
        "  if \"high blood pressure\" in col:\n",
        "    print(i)\n",
        "    print(col)"
      ]
    },
    {
      "cell_type": "code",
      "execution_count": null,
      "metadata": {
        "colab": {
          "base_uri": "https://localhost:8080/"
        },
        "id": "7SXNagZE4OQY",
        "outputId": "67ad07c5-237f-4c51-ea63-d47268f88e10"
      },
      "outputs": [
        {
          "output_type": "stream",
          "name": "stdout",
          "text": [
            "Have you ever been told by a doctor, nurse or other health professional that you have high blood pressure?\n"
          ]
        }
      ],
      "source": [
        "health_confirm_hyp = df.columns[170]\n",
        "print(health_confirm_hyp)"
      ]
    },
    {
      "cell_type": "code",
      "execution_count": null,
      "metadata": {
        "colab": {
          "base_uri": "https://localhost:8080/"
        },
        "id": "QfjlXV_O4bcT",
        "outputId": "f0044d28-ae63-4cb8-cf4c-ef71e4b87cf6"
      },
      "outputs": [
        {
          "output_type": "stream",
          "name": "stdout",
          "text": [
            "[1 3 2]\n"
          ]
        }
      ],
      "source": [
        "health_confirm_hyp_list = df[health_confirm_hyp].unique()\n",
        "print(health_confirm_hyp_list)"
      ]
    },
    {
      "cell_type": "code",
      "execution_count": null,
      "metadata": {
        "colab": {
          "base_uri": "https://localhost:8080/"
        },
        "id": "XoXIlr4d4hlF",
        "outputId": "eefaa719-0f81-45f9-a502-76acdb05f3e3"
      },
      "outputs": [
        {
          "output_type": "stream",
          "name": "stdout",
          "text": [
            "[ 141. 1048.  616.    0.    0.    0.    0.]\n"
          ]
        }
      ],
      "source": [
        "survey_health_confirm_hyp_counts = np.zeros(len(hyp_health_general_list))\n",
        "for i, hyphealth in enumerate(hyp_health_general_list):\n",
        "  survey_health_confirm_hyp_counts[i] = len(df[df[health_confirm_hyp]==hyphealth])\n",
        "print(survey_health_confirm_hyp_counts)"
      ]
    },
    {
      "cell_type": "code",
      "execution_count": null,
      "metadata": {
        "colab": {
          "base_uri": "https://localhost:8080/"
        },
        "id": "oGgBSKi748zD",
        "outputId": "f897f6df-c4d4-4250-e442-ece1bf63cde3"
      },
      "outputs": [
        {
          "output_type": "stream",
          "name": "stdout",
          "text": [
            "[ 141. 1048.  616.    0.    0.    0.]\n"
          ]
        }
      ],
      "source": [
        "a_health_counts = np.delete(survey_health_confirm_hyp_counts,3)\n",
        "print(a_health_counts)"
      ]
    },
    {
      "cell_type": "code",
      "execution_count": null,
      "metadata": {
        "colab": {
          "base_uri": "https://localhost:8080/"
        },
        "id": "-wPKcNO25Q5I",
        "outputId": "2c9d3ce6-14a3-4c61-ce7f-a626f3dbe54b"
      },
      "outputs": [
        {
          "output_type": "stream",
          "name": "stdout",
          "text": [
            "[ 141. 1048.  616.    0.    0.]\n"
          ]
        }
      ],
      "source": [
        "b_health_counts = np.delete(a_health_counts, 4)\n",
        "print(b_health_counts)"
      ]
    },
    {
      "cell_type": "code",
      "execution_count": null,
      "metadata": {
        "colab": {
          "base_uri": "https://localhost:8080/"
        },
        "id": "VVhNTAHz5fTY",
        "outputId": "91427516-4acc-4bec-df8b-2f85bf35553d"
      },
      "outputs": [
        {
          "output_type": "stream",
          "name": "stdout",
          "text": [
            "[ 141. 1048.  616.    0.]\n"
          ]
        }
      ],
      "source": [
        "c_health_counts = np.delete(b_health_counts, 3)\n",
        "print(c_health_counts)"
      ]
    },
    {
      "cell_type": "code",
      "execution_count": null,
      "metadata": {
        "colab": {
          "base_uri": "https://localhost:8080/"
        },
        "id": "5QbM7CMa5oHg",
        "outputId": "5b6c904f-a45e-4374-ff6b-ee8c43186ac6"
      },
      "outputs": [
        {
          "output_type": "stream",
          "name": "stdout",
          "text": [
            "[ 141. 1048.  616.]\n"
          ]
        }
      ],
      "source": [
        "d_health_counts = np.delete(c_health_counts, 3)\n",
        "print(d_health_counts)"
      ]
    },
    {
      "cell_type": "code",
      "execution_count": null,
      "metadata": {
        "colab": {
          "base_uri": "https://localhost:8080/",
          "height": 521
        },
        "id": "aXI6C4X_5xkP",
        "outputId": "dabe7ffa-db2a-4133-94e5-a32bd71e4a74"
      },
      "outputs": [
        {
          "output_type": "execute_result",
          "data": {
            "text/plain": [
              "Text(0.6, 900, '3 = Told Borderline High Or Pre-Hypertensive')"
            ]
          },
          "metadata": {},
          "execution_count": 205
        },
        {
          "output_type": "display_data",
          "data": {
            "text/plain": [
              "<Figure size 1008x576 with 1 Axes>"
            ],
            "image/png": "[encoded data removed]"
          },
          "metadata": {
            "needs_background": "light"
          }
        }
      ],
      "source": [
        "fig,ax=plt.subplots(1,1, figsize=(14,8))\n",
        "plt.bar(health_confirm_hyp_list,d_health_counts)\n",
        "plt.ylabel(\"# of People\", fontsize = 15)\n",
        "plt.title(\"Medical Professional Has Told Member That He/She Has Hypertension (Survey)\", fontsize = 20)\n",
        "plt.text(.6, 1000, \"1 = Yes\",fontsize = 15)\n",
        "plt.text(.6, 950, \"2 = No\",fontsize = 15)\n",
        "plt.text(.6,900, \"3 = Told Borderline High Or Pre-Hypertensive\", fontsize = 15)"
      ]
    },
    {
      "cell_type": "code",
      "execution_count": null,
      "metadata": {
        "colab": {
          "base_uri": "https://localhost:8080/"
        },
        "id": "tr_HN-GM56vP",
        "outputId": "cdd0a7d0-8d3e-4bd2-ae10-e69f69f5b342"
      },
      "outputs": [
        {
          "output_type": "stream",
          "name": "stdout",
          "text": [
            "154\n",
            "How difficult is it for you to get transportation to a store that sells healthy food, such as fresh fruits and vegetables? \n",
            "157\n",
            "During the past week, how many times did you eat fruit? Count fresh, frozen or canned.\n"
          ]
        }
      ],
      "source": [
        "for i, col in enumerate(df.columns):\n",
        "  if \"fruit\" in col:\n",
        "    print(i)\n",
        "    print(col)"
      ]
    },
    {
      "cell_type": "code",
      "execution_count": null,
      "metadata": {
        "colab": {
          "base_uri": "https://localhost:8080/"
        },
        "id": "0vD-WU2M7Vzq",
        "outputId": "6ebcb3a0-2539-42ef-ea7c-1adefd9e74de"
      },
      "outputs": [
        {
          "output_type": "stream",
          "name": "stdout",
          "text": [
            "During the past week, how many times did you eat fruit? Count fresh, frozen or canned.\n"
          ]
        }
      ],
      "source": [
        "fruit_week = df.columns[157]\n",
        "print(fruit_week)"
      ]
    },
    {
      "cell_type": "code",
      "execution_count": null,
      "metadata": {
        "colab": {
          "base_uri": "https://localhost:8080/"
        },
        "id": "Zn2jjC407dSF",
        "outputId": "f6fda5cf-3300-4236-89fc-2e1a4bc9bf63"
      },
      "outputs": [
        {
          "output_type": "stream",
          "name": "stdout",
          "text": [
            "[10.  3.  7. nan  2. 15.  4.  1.  5. 12.  9.  6.  0. 21. 20.  8. 18. 14.\n",
            " 25. 11. 30. 13. 16. 40.]\n"
          ]
        }
      ],
      "source": [
        "fruit_week_list = df[fruit_week].unique()\n",
        "print(fruit_week_list)"
      ]
    },
    {
      "cell_type": "code",
      "execution_count": null,
      "metadata": {
        "colab": {
          "base_uri": "https://localhost:8080/"
        },
        "id": "l02VlNIS7pwK",
        "outputId": "cefc5621-ddbc-42ce-c803-671f22d23e94"
      },
      "outputs": [
        {
          "output_type": "stream",
          "name": "stdout",
          "text": [
            "[10.  3.  7.  2. 15.  4.  1.  5. 12.  9.  6.  0. 21. 20.  8. 18. 14. 25.\n",
            " 11. 30. 13. 16. 40.]\n"
          ]
        }
      ],
      "source": [
        "completed_fruit_week_list = np.delete(fruit_week_list,3)\n",
        "print(completed_fruit_week_list)"
      ]
    },
    {
      "cell_type": "code",
      "execution_count": null,
      "metadata": {
        "colab": {
          "base_uri": "https://localhost:8080/",
          "height": 545
        },
        "id": "VlZKIe448BH_",
        "outputId": "f70b4135-7af3-491c-e5ee-1dae4c6bd371"
      },
      "outputs": [
        {
          "output_type": "execute_result",
          "data": {
            "text/plain": [
              "Text(0.5, 1.0, 'Members Fruit Consumption (Hypertension Survey)')"
            ]
          },
          "metadata": {},
          "execution_count": 210
        },
        {
          "output_type": "display_data",
          "data": {
            "text/plain": [
              "<Figure size 1296x576 with 1 Axes>"
            ],
            "image/png": "[encoded data removed]"
          },
          "metadata": {
            "needs_background": "light"
          }
        }
      ],
      "source": [
        "fig,ax=plt.subplots(1,1, figsize=(18,8))\n",
        "plt.hist(completed_fruit_week_list, bins = 20)\n",
        "plt.xticks(completed_fruit_week_list, rotation = 30)\n",
        "plt.xlabel(\"Fruit Eaten\", fontsize = 15)\n",
        "plt.ylabel(\"Eaten Foods Repeated\", fontsize = 15)\n",
        "plt.title(\"Members Fruit Consumption (Hypertension Survey)\", fontsize = 20)"
      ]
    },
    {
      "cell_type": "code",
      "execution_count": null,
      "metadata": {
        "colab": {
          "base_uri": "https://localhost:8080/"
        },
        "id": "FJMFBz8w8PKY",
        "outputId": "12778e25-af1d-499e-efeb-444e20d198f5"
      },
      "outputs": [
        {
          "output_type": "stream",
          "name": "stdout",
          "text": [
            "45\n",
            "Which of the following Hispanic, Latino/a or Spanish origin groups represents you? (Please check all that apply.). Cuban\n"
          ]
        }
      ],
      "source": [
        "for i, col in enumerate(df.columns):\n",
        "  if \"Cuban\" in col:\n",
        "    print(i)\n",
        "    print(col)"
      ]
    },
    {
      "cell_type": "code",
      "execution_count": null,
      "metadata": {
        "id": "pf4ZJ6PcBBUg"
      },
      "outputs": [],
      "source": [
        "cuban_hyp = df.columns[45]"
      ]
    },
    {
      "cell_type": "code",
      "execution_count": null,
      "metadata": {
        "colab": {
          "base_uri": "https://localhost:8080/"
        },
        "id": "tfeRunteBXkb",
        "outputId": "0ba40021-8470-4f90-f76c-09fb2951709d"
      },
      "outputs": [
        {
          "output_type": "stream",
          "name": "stdout",
          "text": [
            "[nan  0.  1.]\n"
          ]
        }
      ],
      "source": [
        "cuban_hyp_list = df[cuban_hyp].unique()\n",
        "print(cuban_hyp_list)"
      ]
    },
    {
      "cell_type": "code",
      "execution_count": null,
      "metadata": {
        "colab": {
          "base_uri": "https://localhost:8080/"
        },
        "id": "XoCe59ltBbgw",
        "outputId": "fa0d4b97-72eb-466b-800e-546a2b143406"
      },
      "outputs": [
        {
          "output_type": "stream",
          "name": "stdout",
          "text": [
            "[  0. 110.   7.]\n"
          ]
        }
      ],
      "source": [
        "survey_cuban_counts = np.zeros(len(cuban_hyp_list))\n",
        "for i, cuban in enumerate(cuban_hyp_list):\n",
        "  survey_cuban_counts[i] = len(df[df[cuban_hyp]==cuban])\n",
        "print(survey_cuban_counts)"
      ]
    },
    {
      "cell_type": "code",
      "execution_count": null,
      "metadata": {
        "colab": {
          "base_uri": "https://localhost:8080/"
        },
        "id": "FQeVOIiGBw6P",
        "outputId": "3525bd00-9a17-4b66-9d88-ec5cfe384507"
      },
      "outputs": [
        {
          "output_type": "stream",
          "name": "stdout",
          "text": [
            "20\n",
            "Is your annual household income from all sources: \n"
          ]
        }
      ],
      "source": [
        "for i, col in enumerate(df.columns):\n",
        "  if \"income\" in col:\n",
        "    print(i)\n",
        "    print(col)"
      ]
    },
    {
      "cell_type": "code",
      "execution_count": null,
      "metadata": {
        "colab": {
          "base_uri": "https://localhost:8080/"
        },
        "id": "Kcons5IWCdQV",
        "outputId": "f8efa74d-5f5b-4ec9-89cc-757605a1d2f3"
      },
      "outputs": [
        {
          "output_type": "stream",
          "name": "stdout",
          "text": [
            "Is your annual household income from all sources: \n"
          ]
        }
      ],
      "source": [
        "annual_income = df.columns[20]\n",
        "print(annual_income)"
      ]
    },
    {
      "cell_type": "code",
      "execution_count": null,
      "metadata": {
        "colab": {
          "base_uri": "https://localhost:8080/"
        },
        "id": "B8oAz6tpCtgW",
        "outputId": "f3870699-0da0-4754-f9b7-cf34becacecb"
      },
      "outputs": [
        {
          "output_type": "stream",
          "name": "stdout",
          "text": [
            "[nan  6.  3.  7. 12.  2.  1. 11.  5. 10.  8.  9.  4. 13. 97.]\n"
          ]
        }
      ],
      "source": [
        "hyp_annual_income_list = df[annual_income].unique()\n",
        "print(hyp_annual_income_list)"
      ]
    },
    {
      "cell_type": "code",
      "execution_count": null,
      "metadata": {
        "colab": {
          "base_uri": "https://localhost:8080/"
        },
        "id": "eQF9O9eJC1T5",
        "outputId": "b9e13adb-c4d7-4c0c-c445-cc32eff8d4a4"
      },
      "outputs": [
        {
          "output_type": "stream",
          "name": "stdout",
          "text": [
            "[  0. 251.  68. 142.  83.  85. 118.  78. 175. 111. 179. 187. 101.  77.\n",
            "   3.]\n"
          ]
        }
      ],
      "source": [
        "survey_annual_income_counts = np.zeros(len(hyp_annual_income_list))\n",
        "for i, annualincome in enumerate(hyp_annual_income_list):\n",
        "  survey_annual_income_counts[i] = len(df[df[annual_income]==annualincome])\n",
        "print(survey_annual_income_counts)"
      ]
    },
    {
      "cell_type": "code",
      "execution_count": null,
      "metadata": {
        "colab": {
          "base_uri": "https://localhost:8080/"
        },
        "id": "rQwvbWxMDEat",
        "outputId": "43cc15bd-e09c-40c3-afba-6f95c4cd319a"
      },
      "outputs": [
        {
          "output_type": "stream",
          "name": "stdout",
          "text": [
            "[ 6.  3.  7. 12.  2.  1. 11.  5. 10.  8.  9.  4. 13. 97.]\n"
          ]
        }
      ],
      "source": [
        "a_annual_income_list = np.delete(hyp_annual_income_list,0)\n",
        "print(a_annual_income_list)"
      ]
    },
    {
      "cell_type": "code",
      "execution_count": null,
      "metadata": {
        "colab": {
          "base_uri": "https://localhost:8080/"
        },
        "id": "f4ilPfNQDV-p",
        "outputId": "0eb702f1-27fd-4cbd-e167-119bb6fd0ad1"
      },
      "outputs": [
        {
          "output_type": "stream",
          "name": "stdout",
          "text": [
            "[ 6.  3.  7. 12.  2.  1. 11.  5. 10.  8.  9.  4. 13.]\n"
          ]
        }
      ],
      "source": [
        "b_annual_income_list = np.delete(a_annual_income_list,13)\n",
        "print(b_annual_income_list)"
      ]
    },
    {
      "cell_type": "code",
      "execution_count": null,
      "metadata": {
        "colab": {
          "base_uri": "https://localhost:8080/"
        },
        "id": "Zqf6c3uBDiSF",
        "outputId": "f2ba328d-e000-4020-9d33-f8075e5b1d20"
      },
      "outputs": [
        {
          "output_type": "stream",
          "name": "stdout",
          "text": [
            "[251.  68. 142.  83.  85. 118.  78. 175. 111. 179. 187. 101.  77.   3.]\n"
          ]
        }
      ],
      "source": [
        "a_income_counts = np.delete(survey_annual_income_counts,0)\n",
        "print(a_income_counts)"
      ]
    },
    {
      "cell_type": "code",
      "execution_count": null,
      "metadata": {
        "colab": {
          "base_uri": "https://localhost:8080/"
        },
        "id": "efmdHAjBDsKj",
        "outputId": "edb387ec-cc7a-4cd9-f386-b74a2ec5c487"
      },
      "outputs": [
        {
          "output_type": "stream",
          "name": "stdout",
          "text": [
            "[251.  68. 142.  83.  85. 118.  78. 175. 111. 179. 187. 101.  77.]\n"
          ]
        }
      ],
      "source": [
        "b_income_counts = np.delete(a_income_counts,13)\n",
        "print(b_income_counts)"
      ]
    },
    {
      "cell_type": "code",
      "execution_count": null,
      "metadata": {
        "colab": {
          "base_uri": "https://localhost:8080/",
          "height": 521
        },
        "id": "to4w4EESD22m",
        "outputId": "42e8c0b9-4657-40a0-8835-f97d6756665d"
      },
      "outputs": [
        {
          "output_type": "execute_result",
          "data": {
            "text/plain": [
              "Text(10, 130, '13 = $200,000 Or More')"
            ]
          },
          "metadata": {},
          "execution_count": 223
        },
        {
          "output_type": "display_data",
          "data": {
            "text/plain": [
              "<Figure size 1008x576 with 1 Axes>"
            ],
            "image/png": "[encoded data removed]"
          },
          "metadata": {
            "needs_background": "light"
          }
        }
      ],
      "source": [
        "fig,ax=plt.subplots(1,1, figsize=(14,8))\n",
        "plt.bar(b_annual_income_list,b_income_counts)\n",
        "plt.ylabel(\"# of People\", fontsize = 15)\n",
        "plt.title(\"Annual Income (Hypertension Survey)\", fontsize = 20)\n",
        "plt.text(10, 250, \"1 = Less Than $10,000\",fontsize = 13)\n",
        "minrangelist=[10, 15,20,25,35,50,60,75,100,125,150,200]\n",
        "#maxrangelist=[15,20,25,35,50,60,75,100,125,150,200]\n",
        "for i in range(11):\n",
        "    plt.text(10, 240-10*i, f\"{2+i} = \\${minrangelist[i]},000 : \\${minrangelist[i+1]},000\",fontsize = 13)\n",
        "\n",
        "'''\n",
        "plt.text(10, 250, \"1 = Less Than $10,000\",fontsize = 13)\n",
        "plt.text(10, 240, \"2 = $10,000 To Less Than $15,000\",fontsize = 13)\n",
        "plt.text(10,230, \"3 = $15,000 To Less Than $20,000\", fontsize = 13)\n",
        "plt.text(10,220, \"4 = $20,000 To Less Than $25,000\", fontsize = 13)\n",
        "plt.text(10,210, \"5 = $25,000 To Less Than $35,000\", fontsize = 13)\n",
        "plt.text(10,200, \"6 = $35,000 To Less Than $50,000\", fontsize = 13)\n",
        "plt.text(10,190, \"7 = $50,000 To Less Than $60,000\", fontsize = 13)\n",
        "plt.text(10,180, \"8 = $60,000 To Less Than $75,000\", fontsize = 13)\n",
        "plt.text(10,170, \"9 = $75,000 To Less Than $100,000\", fontsize = 13)\n",
        "plt.text(10,160, \"10 = $100,000 To Less Than $125,000\", fontsize = 13)\n",
        "plt.text(10,150, \"11 = $125,000 To Less Than $150,000\", fontsize = 13)\n",
        "plt.text(10,140, \"12 = $150,000 To Less Than $200,000\", fontsize = 13)\n",
        "'''\n",
        "plt.text(10,130, \"13 = $200,000 Or More\", fontsize = 13)"
      ]
    },
    {
      "cell_type": "code",
      "source": [
        "for i, col in enumerate(df.columns):\n",
        "  if \"Hispanic\" in col:\n",
        "    print(i)\n",
        "    print(col)"
      ],
      "metadata": {
        "colab": {
          "base_uri": "https://localhost:8080/"
        },
        "id": "Y1eCNu_l3VWK",
        "outputId": "2c286c20-9a92-4768-e0e1-1fe05c17120b"
      },
      "execution_count": null,
      "outputs": [
        {
          "output_type": "stream",
          "name": "stdout",
          "text": [
            "43\n",
            "Which of the following Hispanic, Latino/a or Spanish origin groups represents you? (Please check all that apply.). Please specify\n",
            "44\n",
            "Which of the following Hispanic, Latino/a or Spanish origin groups represents you? (Please check all that apply.). Other Hispanic, Latino/a, or Spanish origin\n",
            "45\n",
            "Which of the following Hispanic, Latino/a or Spanish origin groups represents you? (Please check all that apply.). Cuban\n",
            "46\n",
            "Which of the following Hispanic, Latino/a or Spanish origin groups represents you? (Please check all that apply.). Puerto Rican\n",
            "47\n",
            "Which of the following Hispanic, Latino/a or Spanish origin groups represents you? (Please check all that apply.). Mexican, Mexican American, Chicano/a\n",
            "48\n",
            "Are you Hispanic, Latino/a, or Spanish origin?\n"
          ]
        }
      ]
    },
    {
      "cell_type": "code",
      "source": [],
      "metadata": {
        "id": "Y5rmplfH37Vi"
      },
      "execution_count": null,
      "outputs": []
    }
  ],
  "metadata": {
    "colab": {
      "provenance": [],
      "include_colab_link": true
    },
    "kernelspec": {
      "display_name": "Python 3",
      "name": "python3"
    },
    "language_info": {
      "name": "python"
    }
  },
  "nbformat": 4,
  "nbformat_minor": 0
}